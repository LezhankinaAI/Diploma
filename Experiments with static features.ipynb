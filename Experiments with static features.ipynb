{
 "cells": [
  {
   "cell_type": "code",
   "execution_count": 86,
   "metadata": {},
   "outputs": [],
   "source": [
    "import pandas as pd\n",
    "import os, bz2, json, time\n",
    "from datetime import timedelta\n",
    "import pickle\n",
    "import pandas as pd\n",
    "from tqdm import tqdm\n",
    "import matplotlib.pyplot as plt\n",
    "import zipfile\n",
    "import numpy as np"
   ]
  },
  {
   "cell_type": "code",
   "execution_count": 458,
   "metadata": {},
   "outputs": [],
   "source": [
    "codes = ['CA', 'GB', 'US']\n",
    "# codes=['CA']\n",
    "columns = ['video_id', 'title', 'channelTitle',\n",
    "       'categoryId', 'trending_date', 'tags', 'view_count', 'description']\n",
    "df = pd.DataFrame(columns=columns)\n",
    "\n",
    "with zipfile.ZipFile('archive.zip', 'r') as zf:\n",
    "    for file in zf.namelist():\n",
    "        if not (file[:2] in codes and file.endswith('.csv')):\n",
    "#         if not file.endswith('.csv'):\n",
    "            continue\n",
    "        df = pd.concat([df, pd.read_csv(archive.open(file))[columns]], ignore_index=True)"
   ]
  },
  {
   "cell_type": "code",
   "execution_count": 459,
   "metadata": {},
   "outputs": [
    {
     "data": {
      "text/html": [
       "<div>\n",
       "<style scoped>\n",
       "    .dataframe tbody tr th:only-of-type {\n",
       "        vertical-align: middle;\n",
       "    }\n",
       "\n",
       "    .dataframe tbody tr th {\n",
       "        vertical-align: top;\n",
       "    }\n",
       "\n",
       "    .dataframe thead th {\n",
       "        text-align: right;\n",
       "    }\n",
       "</style>\n",
       "<table border=\"1\" class=\"dataframe\">\n",
       "  <thead>\n",
       "    <tr style=\"text-align: right;\">\n",
       "      <th></th>\n",
       "      <th>video_id</th>\n",
       "      <th>title</th>\n",
       "      <th>channelTitle</th>\n",
       "      <th>categoryId</th>\n",
       "      <th>trending_date</th>\n",
       "      <th>tags</th>\n",
       "      <th>view_count</th>\n",
       "      <th>description</th>\n",
       "    </tr>\n",
       "  </thead>\n",
       "  <tbody>\n",
       "    <tr>\n",
       "      <th>0</th>\n",
       "      <td>--0bCF-iK2E</td>\n",
       "      <td>Jadon Sancho • Magical Skills &amp; Goals</td>\n",
       "      <td>Bundesliga</td>\n",
       "      <td>17</td>\n",
       "      <td>2021-07-08T00:00:00Z</td>\n",
       "      <td>football|soccer|fútbol alemán|Bundesliga|seaso...</td>\n",
       "      <td>433340</td>\n",
       "      <td>Enjoy the best skills and goals from Jadon San...</td>\n",
       "    </tr>\n",
       "    <tr>\n",
       "      <th>1</th>\n",
       "      <td>--14w5SOEUs</td>\n",
       "      <td>Migos - Avalanche (Official Video)</td>\n",
       "      <td>MigosVEVO</td>\n",
       "      <td>10</td>\n",
       "      <td>2021-06-15T00:00:00Z</td>\n",
       "      <td>Migos|Avalanche|Quality|Control|Music/Motown|R...</td>\n",
       "      <td>6823249</td>\n",
       "      <td>Watch the the official video for Migos - Avala...</td>\n",
       "    </tr>\n",
       "    <tr>\n",
       "      <th>2</th>\n",
       "      <td>--2O86Z0hsM</td>\n",
       "      <td>MY TESLA PAYS FOR ITSELF</td>\n",
       "      <td>jf.okay</td>\n",
       "      <td>24</td>\n",
       "      <td>2022-03-15T00:00:00Z</td>\n",
       "      <td>[None]</td>\n",
       "      <td>538485</td>\n",
       "      <td>NaN</td>\n",
       "    </tr>\n",
       "    <tr>\n",
       "      <th>3</th>\n",
       "      <td>--40TEbZ9Is</td>\n",
       "      <td>Supporting Actress in a Comedy: 73rd Emmys</td>\n",
       "      <td>Television Academy</td>\n",
       "      <td>24</td>\n",
       "      <td>2021-09-25T00:00:00Z</td>\n",
       "      <td>[None]</td>\n",
       "      <td>682609</td>\n",
       "      <td>Hannah Waddingham wins the Emmy for Supporting...</td>\n",
       "    </tr>\n",
       "    <tr>\n",
       "      <th>4</th>\n",
       "      <td>--DKkzWVh-E</td>\n",
       "      <td>Why Retaining Walls Collapse</td>\n",
       "      <td>Practical Engineering</td>\n",
       "      <td>27</td>\n",
       "      <td>2021-12-11T00:00:00Z</td>\n",
       "      <td>retaining wall|New Jersey highway|Direct Conne...</td>\n",
       "      <td>623949</td>\n",
       "      <td>One of the most important (and innocuous) part...</td>\n",
       "    </tr>\n",
       "    <tr>\n",
       "      <th>...</th>\n",
       "      <td>...</td>\n",
       "      <td>...</td>\n",
       "      <td>...</td>\n",
       "      <td>...</td>\n",
       "      <td>...</td>\n",
       "      <td>...</td>\n",
       "      <td>...</td>\n",
       "      <td>...</td>\n",
       "    </tr>\n",
       "    <tr>\n",
       "      <th>40112</th>\n",
       "      <td>zzYaFc8nzQM</td>\n",
       "      <td>The Champions: Season 4, Episode 4</td>\n",
       "      <td>B/R Football</td>\n",
       "      <td>17</td>\n",
       "      <td>2020-12-05T00:00:00Z</td>\n",
       "      <td>br football|bleacher report|soccer|football|go...</td>\n",
       "      <td>1046055</td>\n",
       "      <td>Dejan Lovren is convinced Virgil van Dijk is h...</td>\n",
       "    </tr>\n",
       "    <tr>\n",
       "      <th>40113</th>\n",
       "      <td>zzd4ydafGR0</td>\n",
       "      <td>Lil Tjay - Calling My Phone (feat. 6LACK) [Off...</td>\n",
       "      <td>Lil Tjay</td>\n",
       "      <td>10</td>\n",
       "      <td>2021-02-21T00:00:00Z</td>\n",
       "      <td>Lil Tjay|Steady Calling My Phone|Calling My Ph...</td>\n",
       "      <td>13974461</td>\n",
       "      <td>Official audio for Calling My Phone by Lil Tja...</td>\n",
       "    </tr>\n",
       "    <tr>\n",
       "      <th>40114</th>\n",
       "      <td>zziBybeSAtw</td>\n",
       "      <td>PELICANS at LAKERS | FULL GAME HIGHLIGHTS | Ja...</td>\n",
       "      <td>NBA</td>\n",
       "      <td>17</td>\n",
       "      <td>2021-01-18T00:00:00Z</td>\n",
       "      <td>NBA|G League|Basketball|game-0022000187|Lakers...</td>\n",
       "      <td>2598512</td>\n",
       "      <td>PELICANS at LAKERS | FULL GAME HIGHLIGHTS | Ja...</td>\n",
       "    </tr>\n",
       "    <tr>\n",
       "      <th>40115</th>\n",
       "      <td>zzk09ESX7e0</td>\n",
       "      <td>[MV] 마마무 (MAMAMOO) - Where Are We Now</td>\n",
       "      <td>MAMAMOO</td>\n",
       "      <td>10</td>\n",
       "      <td>2021-06-09T00:00:00Z</td>\n",
       "      <td>MAMAMOO|마마무|WAW|마마무 WAW|MAMAMOO WAW|Where Are ...</td>\n",
       "      <td>9389223</td>\n",
       "      <td>[MV] 마마무 (MAMAMOO) - Where Are We Now\\r\\rInsta...</td>\n",
       "    </tr>\n",
       "    <tr>\n",
       "      <th>40116</th>\n",
       "      <td>zzxPZwaA-8w</td>\n",
       "      <td>Gareth Bale brace secures dramatic comeback on...</td>\n",
       "      <td>Tottenham Hotspur</td>\n",
       "      <td>17</td>\n",
       "      <td>2021-05-30T00:00:00Z</td>\n",
       "      <td>Spurs|Tottenham Hotspur|토트넘|손흥민|Tottenham Leic...</td>\n",
       "      <td>2144129</td>\n",
       "      <td>Two minute highlights from Tottenham Hotspur's...</td>\n",
       "    </tr>\n",
       "  </tbody>\n",
       "</table>\n",
       "<p>40117 rows × 8 columns</p>\n",
       "</div>"
      ],
      "text/plain": [
       "          video_id                                              title  \\\n",
       "0      --0bCF-iK2E              Jadon Sancho • Magical Skills & Goals   \n",
       "1      --14w5SOEUs                 Migos - Avalanche (Official Video)   \n",
       "2      --2O86Z0hsM                           MY TESLA PAYS FOR ITSELF   \n",
       "3      --40TEbZ9Is         Supporting Actress in a Comedy: 73rd Emmys   \n",
       "4      --DKkzWVh-E                       Why Retaining Walls Collapse   \n",
       "...            ...                                                ...   \n",
       "40112  zzYaFc8nzQM                 The Champions: Season 4, Episode 4   \n",
       "40113  zzd4ydafGR0  Lil Tjay - Calling My Phone (feat. 6LACK) [Off...   \n",
       "40114  zziBybeSAtw  PELICANS at LAKERS | FULL GAME HIGHLIGHTS | Ja...   \n",
       "40115  zzk09ESX7e0              [MV] 마마무 (MAMAMOO) - Where Are We Now   \n",
       "40116  zzxPZwaA-8w  Gareth Bale brace secures dramatic comeback on...   \n",
       "\n",
       "                channelTitle categoryId         trending_date  \\\n",
       "0                 Bundesliga         17  2021-07-08T00:00:00Z   \n",
       "1                  MigosVEVO         10  2021-06-15T00:00:00Z   \n",
       "2                    jf.okay         24  2022-03-15T00:00:00Z   \n",
       "3         Television Academy         24  2021-09-25T00:00:00Z   \n",
       "4      Practical Engineering         27  2021-12-11T00:00:00Z   \n",
       "...                      ...        ...                   ...   \n",
       "40112           B/R Football         17  2020-12-05T00:00:00Z   \n",
       "40113               Lil Tjay         10  2021-02-21T00:00:00Z   \n",
       "40114                    NBA         17  2021-01-18T00:00:00Z   \n",
       "40115                MAMAMOO         10  2021-06-09T00:00:00Z   \n",
       "40116      Tottenham Hotspur         17  2021-05-30T00:00:00Z   \n",
       "\n",
       "                                                    tags view_count  \\\n",
       "0      football|soccer|fútbol alemán|Bundesliga|seaso...     433340   \n",
       "1      Migos|Avalanche|Quality|Control|Music/Motown|R...    6823249   \n",
       "2                                                 [None]     538485   \n",
       "3                                                 [None]     682609   \n",
       "4      retaining wall|New Jersey highway|Direct Conne...     623949   \n",
       "...                                                  ...        ...   \n",
       "40112  br football|bleacher report|soccer|football|go...    1046055   \n",
       "40113  Lil Tjay|Steady Calling My Phone|Calling My Ph...   13974461   \n",
       "40114  NBA|G League|Basketball|game-0022000187|Lakers...    2598512   \n",
       "40115  MAMAMOO|마마무|WAW|마마무 WAW|MAMAMOO WAW|Where Are ...    9389223   \n",
       "40116  Spurs|Tottenham Hotspur|토트넘|손흥민|Tottenham Leic...    2144129   \n",
       "\n",
       "                                             description  \n",
       "0      Enjoy the best skills and goals from Jadon San...  \n",
       "1      Watch the the official video for Migos - Avala...  \n",
       "2                                                    NaN  \n",
       "3      Hannah Waddingham wins the Emmy for Supporting...  \n",
       "4      One of the most important (and innocuous) part...  \n",
       "...                                                  ...  \n",
       "40112  Dejan Lovren is convinced Virgil van Dijk is h...  \n",
       "40113  Official audio for Calling My Phone by Lil Tja...  \n",
       "40114  PELICANS at LAKERS | FULL GAME HIGHLIGHTS | Ja...  \n",
       "40115  [MV] 마마무 (MAMAMOO) - Where Are We Now\\r\\rInsta...  \n",
       "40116  Two minute highlights from Tottenham Hotspur's...  \n",
       "\n",
       "[40117 rows x 8 columns]"
      ]
     },
     "execution_count": 459,
     "metadata": {},
     "output_type": "execute_result"
    }
   ],
   "source": [
    "data = df.drop_duplicates('video_id', keep='last').sort_values('video_id').reset_index(drop=True)\n",
    "data"
   ]
  },
  {
   "cell_type": "code",
   "execution_count": 462,
   "metadata": {},
   "outputs": [
    {
     "data": {
      "text/plain": [
       "'TURN ON THE BELL NOTIFICATION TO STAY UPDATED!SUBSCRIBE TO MY CHANNEL FOR MORE VIDEOS!FOLLOW ME ON SOCIAL MEDIA AND I WILL LOVE U!!!——————————————————————————————Twitter - http://twitter.com/VuJaeOfficialInstagram - https://www.instagram.com/VuJaeSnapchat - VuJaeFacebook - https://www.facebook.com/VuJaeOfficial/——————————————————————————————If you are reading this, I LOVE YOU! #VJGANG'"
      ]
     },
     "execution_count": 462,
     "metadata": {},
     "output_type": "execute_result"
    }
   ],
   "source": [
    "data.loc[16, 'description']"
   ]
  },
  {
   "cell_type": "code",
   "execution_count": 460,
   "metadata": {},
   "outputs": [
    {
     "data": {
      "image/png": "[encoded data removed]",
      "text/plain": [
       "<Figure size 576x288 with 2 Axes>"
      ]
     },
     "metadata": {
      "needs_background": "light"
     },
     "output_type": "display_data"
    }
   ],
   "source": [
    "data['Log1pViews'] = np.log1p(data['view_count'].astype('int32')).astype('float32')\n",
    "\n",
    "plt.figure(figsize=[8, 4])\n",
    "plt.subplot(1, 2, 1)\n",
    "plt.hist(data[\"view_count\"], bins=20);\n",
    "\n",
    "plt.subplot(1, 2, 2)\n",
    "plt.hist(data['Log1pViews'], bins=20);"
   ]
  },
  {
   "cell_type": "code",
   "execution_count": 461,
   "metadata": {},
   "outputs": [],
   "source": [
    "replacer = dict()\n",
    "\n",
    "with open('category-codes.txt') as f:\n",
    "    categories = f.read().splitlines()\n",
    "    for cat in categories:\n",
    "        replacer[int(cat.split(' - ')[0])] = cat.split(' - ')[1]"
   ]
  },
  {
   "cell_type": "code",
   "execution_count": 468,
   "metadata": {},
   "outputs": [
    {
     "data": {
      "text/plain": [
       "'  lol kek - VuJaeFacebook'"
      ]
     },
     "execution_count": 468,
     "metadata": {},
     "output_type": "execute_result"
    }
   ],
   "source": [
    "import re\n",
    "\n",
    "def get_link(stroka):\n",
    "    return re.sub(r'https\\S+', '', stroka)\n",
    "    \n",
    "get_link(' https://www.instagram.com/VuJaeSnapchat lol kek - VuJaeFacebook')"
   ]
  },
  {
   "cell_type": "code",
   "execution_count": 479,
   "metadata": {},
   "outputs": [
    {
     "data": {
      "text/plain": [
       "video_id                                               cs8EzU-OVSE\n",
       "title                    What You Didn't Know About The Sidemen...\n",
       "channelTitle                                            Miniminter\n",
       "categoryId                                           Entertainment\n",
       "trending_date                                 2021-11-30T00:00:00Z\n",
       "tags             simon, sidemen, miniminter, mm7games, random, ...\n",
       "view_count                                                  956377\n",
       "description      Kon: link Subreddit: link you have an idea you...\n",
       "Log1pViews                                                 13.7709\n",
       "Name: 25703, dtype: object"
      ]
     },
     "execution_count": 479,
     "metadata": {},
     "output_type": "execute_result"
    }
   ],
   "source": [
    "data['description'] = data['description'].str.replace(r'https\\S+', 'link')\n",
    "data.iloc[25703]"
   ]
  },
  {
   "cell_type": "code",
   "execution_count": 481,
   "metadata": {},
   "outputs": [
    {
     "data": {
      "text/html": [
       "<div>\n",
       "<style scoped>\n",
       "    .dataframe tbody tr th:only-of-type {\n",
       "        vertical-align: middle;\n",
       "    }\n",
       "\n",
       "    .dataframe tbody tr th {\n",
       "        vertical-align: top;\n",
       "    }\n",
       "\n",
       "    .dataframe thead th {\n",
       "        text-align: right;\n",
       "    }\n",
       "</style>\n",
       "<table border=\"1\" class=\"dataframe\">\n",
       "  <thead>\n",
       "    <tr style=\"text-align: right;\">\n",
       "      <th></th>\n",
       "      <th>video_id</th>\n",
       "      <th>title</th>\n",
       "      <th>channelTitle</th>\n",
       "      <th>categoryId</th>\n",
       "      <th>trending_date</th>\n",
       "      <th>tags</th>\n",
       "      <th>view_count</th>\n",
       "      <th>description</th>\n",
       "      <th>Log1pViews</th>\n",
       "    </tr>\n",
       "  </thead>\n",
       "  <tbody>\n",
       "    <tr>\n",
       "      <th>19371</th>\n",
       "      <td>Te236EDr_-k</td>\n",
       "      <td>Sanremo 2022 - Mahmood &amp; Blanco cantano ‘Brividi’</td>\n",
       "      <td>Rai</td>\n",
       "      <td>Entertainment</td>\n",
       "      <td>2022-02-07T00:00:00Z</td>\n",
       "      <td>Sanremo 2022, prima serata, Mahmood, Blanco, F...</td>\n",
       "      <td>8352732</td>\n",
       "      <td>link - Mahmood &amp; Blanco cantano sul palco dell...</td>\n",
       "      <td>15.938099</td>\n",
       "    </tr>\n",
       "    <tr>\n",
       "      <th>32347</th>\n",
       "      <td>nNrg4TAOavI</td>\n",
       "      <td>Minecraft Fort...</td>\n",
       "      <td>Dream Shorts</td>\n",
       "      <td>People &amp; Blogs</td>\n",
       "      <td>2021-04-09T00:00:00Z</td>\n",
       "      <td>NaN</td>\n",
       "      <td>2003743</td>\n",
       "      <td>Minecraft Fort...#shortsSUBSCRIBE! Lots of upl...</td>\n",
       "      <td>14.510528</td>\n",
       "    </tr>\n",
       "    <tr>\n",
       "      <th>32960</th>\n",
       "      <td>oO5Xu4hhthw</td>\n",
       "      <td>Klombo Saved Me From Bully🤭 #shorts</td>\n",
       "      <td>VMant</td>\n",
       "      <td>Gaming</td>\n",
       "      <td>2022-01-31T00:00:00Z</td>\n",
       "      <td>vmant, fortnite, klombo, fortnite short, saved...</td>\n",
       "      <td>7225838</td>\n",
       "      <td>Klombo Saved Me From Toxic Bully Short</td>\n",
       "      <td>15.793174</td>\n",
       "    </tr>\n",
       "  </tbody>\n",
       "</table>\n",
       "</div>"
      ],
      "text/plain": [
       "          video_id                                              title  \\\n",
       "19371  Te236EDr_-k  Sanremo 2022 - Mahmood & Blanco cantano ‘Brividi’   \n",
       "32347  nNrg4TAOavI                                  Minecraft Fort...   \n",
       "32960  oO5Xu4hhthw                Klombo Saved Me From Bully🤭 #shorts   \n",
       "\n",
       "       channelTitle      categoryId         trending_date  \\\n",
       "19371           Rai   Entertainment  2022-02-07T00:00:00Z   \n",
       "32347  Dream Shorts  People & Blogs  2021-04-09T00:00:00Z   \n",
       "32960         VMant          Gaming  2022-01-31T00:00:00Z   \n",
       "\n",
       "                                                    tags view_count  \\\n",
       "19371  Sanremo 2022, prima serata, Mahmood, Blanco, F...    8352732   \n",
       "32347                                                NaN    2003743   \n",
       "32960  vmant, fortnite, klombo, fortnite short, saved...    7225838   \n",
       "\n",
       "                                             description  Log1pViews  \n",
       "19371  link - Mahmood & Blanco cantano sul palco dell...   15.938099  \n",
       "32347  Minecraft Fort...#shortsSUBSCRIBE! Lots of upl...   14.510528  \n",
       "32960             Klombo Saved Me From Toxic Bully Short   15.793174  "
      ]
     },
     "execution_count": 481,
     "metadata": {},
     "output_type": "execute_result"
    }
   ],
   "source": [
    "text_columns = ['title', 'description', 'tags']\n",
    "# text_columns = ['title', 'description']\n",
    "categorical_columns = ['categoryId']\n",
    "TARGET_COLUMN = \"Log1pViews\"\n",
    "\n",
    "data[categorical_columns] = data[categorical_columns].replace(replacer).fillna('NaN')\n",
    "data['title'] = data['title'].fillna('NaN')\n",
    "data['description'] = data['description'].str.replace(r'https\\S+', 'link').fillna('NaN')\n",
    "data['tags'] = data['tags'].str.replace('|', ', ').replace('[None]', 'NaN')\n",
    "\n",
    "data.sample(3)"
   ]
  },
  {
   "cell_type": "code",
   "execution_count": 482,
   "metadata": {},
   "outputs": [
    {
     "name": "stdout",
     "output_type": "stream",
     "text": [
      "Raw text:\n",
      "2                                                      NaN\n",
      "10002    I spent Robux to become a HACKER in Roblox..Be...\n",
      "20002    Muddy, Moist Mess On the Farm-Save 40% or more...\n",
      "30002    Follow Toosii Everywhere:Facebook: link link l...\n",
      "40002    Kevin Gates - Puerto Rico Luv 'Only The Genera...\n",
      "Name: description, dtype: object\n"
     ]
    }
   ],
   "source": [
    "print(\"Raw text:\")\n",
    "print(data[\"description\"][2::10000])"
   ]
  },
  {
   "cell_type": "code",
   "execution_count": 483,
   "metadata": {},
   "outputs": [],
   "source": [
    "import nltk\n",
    "\n",
    "tokenizer = nltk.tokenize.WordPunctTokenizer()\n",
    "data[\"description\"] = data[\"description\"].apply(lambda x: ' '.join(tokenizer.tokenize(x.lower())))\n",
    "data[\"title\"] = data[\"title\"].apply(lambda x: ' '.join(tokenizer.tokenize(str(x).lower())))\n",
    "data[\"tags\"] = data[\"tags\"].apply(lambda x: ' '.join(tokenizer.tokenize(str(x).lower())))"
   ]
  },
  {
   "cell_type": "code",
   "execution_count": 484,
   "metadata": {},
   "outputs": [
    {
     "data": {
      "text/plain": [
       "0        enjoy the best skills and goals from jadon san...\n",
       "1        watch the the official video for migos - avala...\n",
       "2                                                      nan\n",
       "3        hannah waddingham wins the emmy for supporting...\n",
       "4        one of the most important ( and innocuous ) pa...\n",
       "                               ...                        \n",
       "40112    dejan lovren is convinced virgil van dijk is h...\n",
       "40113    official audio for calling my phone by lil tja...\n",
       "40114    pelicans at lakers | full game highlights | ja...\n",
       "40115    [ mv ] 마마무 ( mamamoo ) - where are we now inst...\n",
       "40116    two minute highlights from tottenham hotspur '...\n",
       "Name: description, Length: 40117, dtype: object"
      ]
     },
     "execution_count": 484,
     "metadata": {},
     "output_type": "execute_result"
    }
   ],
   "source": [
    "data[\"description\"]"
   ]
  },
  {
   "cell_type": "code",
   "execution_count": 485,
   "metadata": {},
   "outputs": [],
   "source": [
    "from collections import Counter\n",
    "token_counts = Counter()\n",
    "\n",
    "\n",
    "for row in data.iterrows():\n",
    "    token_counts.update([*row[1]['description'].split(), *row[1]['title'].split(), *row[1]['tags'].split()])\n",
    "#     token_counts.update([*row[1]['description'].split(), *row[1]['title'].split()])"
   ]
  },
  {
   "cell_type": "code",
   "execution_count": 486,
   "metadata": {},
   "outputs": [
    {
     "name": "stdout",
     "output_type": "stream",
     "text": [
      "Total unique tokens : 240894\n",
      "(',', 785717)\n",
      "('.', 232167)\n",
      "(':', 213294)\n",
      "('link', 180831)\n",
      "('the', 167063)\n",
      "...\n",
      "('sibio', 1)\n",
      "('levitzproduction', 1)\n",
      "('0022000187', 1)\n"
     ]
    }
   ],
   "source": [
    "print(\"Total unique tokens :\", len(token_counts))\n",
    "print('\\n'.join(map(str, token_counts.most_common(n=5))))\n",
    "print('...')\n",
    "print('\\n'.join(map(str, token_counts.most_common()[-3:])))"
   ]
  },
  {
   "cell_type": "code",
   "execution_count": 487,
   "metadata": {},
   "outputs": [
    {
     "data": {
      "image/png": "[encoded data removed]",
      "text/plain": [
       "<Figure size 432x288 with 1 Axes>"
      ]
     },
     "metadata": {
      "needs_background": "light"
     },
     "output_type": "display_data"
    }
   ],
   "source": [
    "plt.hist(list(token_counts.values()), range=[0, 10**4], bins=50, log=True)\n",
    "plt.xlabel(\"Word counts\");"
   ]
  },
  {
   "cell_type": "code",
   "execution_count": 488,
   "metadata": {},
   "outputs": [
    {
     "name": "stdout",
     "output_type": "stream",
     "text": [
      "Vocabulary size: 51660\n"
     ]
    }
   ],
   "source": [
    "min_count = 5\n",
    "\n",
    "# tokens from token_counts keys that had at least min_count occurrences throughout the dataset\n",
    "tokens = sorted(t for t, c in token_counts.items() if c >= min_count)#TODO<YOUR CODE HERE>\n",
    "\n",
    "# Add a special tokens for unknown and empty words\n",
    "UNK, PAD = \"UNK\", \"PAD\"\n",
    "tokens = [UNK, PAD] + tokens\n",
    "print(\"Vocabulary size:\", len(tokens))\n"
   ]
  },
  {
   "cell_type": "code",
   "execution_count": 489,
   "metadata": {},
   "outputs": [],
   "source": [
    "token_to_id = dict(zip(tokens, [i for i in range(len(tokens))]))"
   ]
  },
  {
   "cell_type": "code",
   "execution_count": 490,
   "metadata": {},
   "outputs": [],
   "source": [
    "UNK_IX, PAD_IX = map(token_to_id.get, [UNK, PAD])\n",
    "\n",
    "def as_matrix(sequences, max_len=None):\n",
    "    \"\"\" Convert a list of tokens into a matrix with padding \"\"\"\n",
    "    if isinstance(sequences[0], str):\n",
    "        sequences = list(map(str.split, sequences))\n",
    "        \n",
    "    max_len = min(max(map(len, sequences)), max_len or float('inf'))\n",
    "    \n",
    "    matrix = np.full((len(sequences), max_len), np.int32(PAD_IX))\n",
    "    for i,seq in enumerate(sequences):\n",
    "        row_ix = [token_to_id.get(word, UNK_IX) for word in seq[:max_len]]\n",
    "        matrix[i, :len(row_ix)] = row_ix\n",
    "    \n",
    "    return matrix"
   ]
  },
  {
   "cell_type": "code",
   "execution_count": 491,
   "metadata": {},
   "outputs": [
    {
     "name": "stdout",
     "output_type": "stream",
     "text": [
      "Lines:\n",
      "jadon sancho • magical skills & goals\n",
      "harry potter - all movies reviewed and ranked ( part 1 )\n",
      "hermitcraft season 8 day 1 recap !\n",
      "joe root ' s outstanding 100th test milestone | england cricket\n",
      "devine mon personnage avant akinator ! ( c ' est le bordel )( ft . michou )\n",
      "\n",
      "Matrix:\n",
      "[[23371 38431 49777 27500 40227   200 19427     1     1     1     1     1\n",
      "      1     1     1     1     1]\n",
      " [20627 34557   378  3918 30001 37089  4314 36037   224 32986   764   244\n",
      "      1     1     1     1     1]\n",
      " [21046 38966  2437 12817   764 36301     2     1     1     1     1     1\n",
      "      1     1     1     1     1]\n",
      " [23926 37684   201 38109 32499   792 43621 29109 49256 15762 12011     1\n",
      "      1     1     1     1     1]\n",
      " [13562 29635 33541  5476  3726     2   224  8548   201 16155 25941  7521\n",
      "    249 18364   515 28988   244]]\n"
     ]
    }
   ],
   "source": [
    "print(\"Lines:\")\n",
    "print('\\n'.join(data[\"title\"][::10000].values), end='\\n\\n')\n",
    "print(\"Matrix:\")\n",
    "print(as_matrix(data[\"title\"][::10000]))"
   ]
  },
  {
   "cell_type": "code",
   "execution_count": 492,
   "metadata": {},
   "outputs": [
    {
     "data": {
      "text/plain": [
       "DictVectorizer(dtype=<class 'numpy.float32'>, separator='=', sort=True,\n",
       "               sparse=False)"
      ]
     },
     "execution_count": 492,
     "metadata": {},
     "output_type": "execute_result"
    }
   ],
   "source": [
    "from sklearn.feature_extraction import DictVectorizer\n",
    "\n",
    "# we only consider top-1k most frequent companies to minimize memory usage\n",
    "\n",
    "categorical_vectorizer = DictVectorizer(dtype=np.float32, sparse=False)\n",
    "categorical_vectorizer.fit(data[categorical_columns].apply(dict, axis=1))"
   ]
  },
  {
   "cell_type": "code",
   "execution_count": 493,
   "metadata": {},
   "outputs": [
    {
     "name": "stdout",
     "output_type": "stream",
     "text": [
      "Train size =  32093\n",
      "Validation size =  8024\n"
     ]
    }
   ],
   "source": [
    "from sklearn.model_selection import train_test_split\n",
    "\n",
    "data_train, data_val = train_test_split(data, test_size=0.2, random_state=42)\n",
    "data_train.index = range(len(data_train))\n",
    "data_val.index = range(len(data_val))\n",
    "\n",
    "print(\"Train size = \", len(data_train))\n",
    "print(\"Validation size = \", len(data_val))"
   ]
  },
  {
   "cell_type": "code",
   "execution_count": 494,
   "metadata": {},
   "outputs": [],
   "source": [
    "import torch\n",
    "\n",
    "def to_tensors(batch, device):\n",
    "    batch_tensors = dict()\n",
    "    for key, arr in batch.items():\n",
    "        if key in [\"description\", \"title\", 'tags']:\n",
    "            batch_tensors[key] = torch.tensor(arr, dtype=torch.int64)\n",
    "        else:\n",
    "            batch_tensors[key] = torch.tensor(arr)\n",
    "    return batch_tensors\n",
    "\n",
    "def make_batch(data, max_len=None, word_dropout=0, device=torch.device('cpu')):\n",
    "    \"\"\"\n",
    "    Creates a keras-friendly dict from the batch data.\n",
    "    :param word_dropout: replaces token index with UNK_IX with this probability\n",
    "    :returns: a dict with {'title' : int64[batch, title_max_len]\n",
    "    \"\"\"\n",
    "    batch = {}\n",
    "    batch[\"title\"] = as_matrix(data[\"title\"].values, max_len)\n",
    "    batch[\"description\"] = as_matrix(data[\"description\"].values, max_len)\n",
    "    batch[\"tags\"] = as_matrix(data[\"tags\"].values, max_len)\n",
    "    batch['Categorical'] = categorical_vectorizer.transform(data[categorical_columns].apply(dict, axis=1))\n",
    "    \n",
    "    if word_dropout != 0:\n",
    "        batch[\"description\"] = apply_word_dropout(batch[\"description\"], 1. - word_dropout)\n",
    "    \n",
    "    if TARGET_COLUMN in data.columns:\n",
    "        batch[target_column] = data[TARGET_COLUMN].values\n",
    "    \n",
    "    return to_tensors(batch, device)\n",
    "\n",
    "def apply_word_dropout(matrix, keep_prop, replace_with=UNK_IX, pad_ix=PAD_IX,):\n",
    "    dropout_mask = np.random.choice(2, np.shape(matrix), p=[keep_prop, 1 - keep_prop])\n",
    "    dropout_mask &= matrix != pad_ix\n",
    "    return np.choose(dropout_mask, [matrix, np.full_like(matrix, replace_with)])"
   ]
  },
  {
   "cell_type": "code",
   "execution_count": 495,
   "metadata": {},
   "outputs": [],
   "source": [
    "target_column = 'Log1pViews'"
   ]
  },
  {
   "cell_type": "code",
   "execution_count": 496,
   "metadata": {},
   "outputs": [],
   "source": [
    "batch = make_batch(data_train[:3], max_len=10)"
   ]
  },
  {
   "cell_type": "code",
   "execution_count": 497,
   "metadata": {},
   "outputs": [],
   "source": [
    "emb = torch.nn.Embedding(len(tokens), 32) # конвертирует из интовых номеров слов/признаков в вектора; \n",
    "                                          # всего нужно сколько токенов, столько эмбеддингов;\n",
    "                                          # размерность любая\n",
    "linear = torch.nn.Linear(32, 1)"
   ]
  },
  {
   "cell_type": "code",
   "execution_count": 498,
   "metadata": {},
   "outputs": [
    {
     "data": {
      "text/plain": [
       "Parameter containing:\n",
       "tensor([[ 0.0379,  1.3595, -0.6448,  ...,  1.2578,  0.4509, -0.8119],\n",
       "        [-0.8291, -0.9384,  0.1207,  ...,  0.4257, -0.7259, -0.3924],\n",
       "        [ 0.3024,  0.9295,  0.8222,  ..., -1.2171,  0.2468,  0.8176],\n",
       "        ...,\n",
       "        [ 1.1971, -0.2641, -0.0474,  ..., -2.1348,  0.1368, -0.4525],\n",
       "        [ 0.7240,  1.0287, -0.3010,  ...,  0.7197,  1.3190, -0.0894],\n",
       "        [ 1.2596, -0.8777, -1.3697,  ...,  0.6334,  0.6063,  0.4314]],\n",
       "       requires_grad=True)"
      ]
     },
     "execution_count": 498,
     "metadata": {},
     "output_type": "execute_result"
    }
   ],
   "source": [
    "emb.weight"
   ]
  },
  {
   "cell_type": "code",
   "execution_count": 499,
   "metadata": {},
   "outputs": [],
   "source": [
    "vectors = emb(batch['title']).mean(dim=1)"
   ]
  },
  {
   "cell_type": "code",
   "execution_count": 500,
   "metadata": {},
   "outputs": [
    {
     "data": {
      "text/plain": [
       "tensor([[-0.0824],\n",
       "        [-0.0090],\n",
       "        [-0.0706]], grad_fn=<AddmmBackward>)"
      ]
     },
     "execution_count": 500,
     "metadata": {},
     "output_type": "execute_result"
    }
   ],
   "source": [
    "linear(vectors)"
   ]
  },
  {
   "cell_type": "code",
   "execution_count": 501,
   "metadata": {},
   "outputs": [],
   "source": [
    "np.random.seed(0)"
   ]
  },
  {
   "cell_type": "code",
   "execution_count": 502,
   "metadata": {},
   "outputs": [],
   "source": [
    "import torch\n",
    "import torch.nn as nn\n",
    "import torch.functional as F"
   ]
  },
  {
   "cell_type": "code",
   "execution_count": 503,
   "metadata": {},
   "outputs": [],
   "source": [
    "class ViewsPredictor(nn.Module):\n",
    "    def __init__(self, n_tokens=len(tokens), n_cat_features=len(categorical_vectorizer.vocabulary_), hid_size=64):\n",
    "        super().__init__()\n",
    "        \n",
    "        self.embedding = nn.Embedding(num_embeddings=n_tokens,\n",
    "                                      embedding_dim=hid_size,\n",
    "                                      padding_idx=0,\n",
    "                                      max_norm=5.0)\n",
    "        \n",
    "        self.convs = nn.ModuleList([nn.Conv1d(in_channels=1,\n",
    "                                              out_channels=100,\n",
    "                                              kernel_size=(fs, hid_size)) for fs in [1, 2]])\n",
    "\n",
    "        \n",
    "        self.max_pool = nn.AdaptiveMaxPool1d(2)\n",
    "        \n",
    "        self.categories = nn.Linear(n_cat_features, 100)\n",
    "        \n",
    "        self.relu = nn.ReLU()\n",
    "        self.dropout = nn.Dropout(0.5)\n",
    "        \n",
    "        self.fc1 = nn.Linear(100 * 13, hid_size, bias=True)  \n",
    "        self.fc2 = nn.Linear(hid_size, 1, bias=True) \n",
    "        \n",
    "        \n",
    "    def forward(self, batch):\n",
    "        # emb\n",
    "        x_embed_title = self.embedding(batch['title']).unsqueeze(1)\n",
    "        x_embed_description = self.embedding(batch['description']).unsqueeze(1)\n",
    "        x_embed_tags = self.embedding(batch['tags']).unsqueeze(1)\n",
    "            \n",
    "        # conv\n",
    "        convolution_title = [conv(x_embed_title) for conv in self.convs]\n",
    "        convolution_description = [conv(x_embed_description) for conv in self.convs]\n",
    "        convolution_tags = [conv(x_embed_tags) for conv in self.convs]\n",
    "       \n",
    "        # pooling\n",
    "        max_title = [self.max_pool(conv_title.squeeze().unsqueeze(2 if batch['title'].shape[0] != 1 else 0))\n",
    "                     if len(conv_title.squeeze().shape) < 3 else self.max_pool(conv_title.squeeze())\n",
    "                     for conv_title in convolution_title]\n",
    "        \n",
    "        title = torch.cat(max_title, dim=2)\n",
    "        \n",
    "        max_description = [self.max_pool(conv_description.squeeze().unsqueeze(2 if batch['description'].shape[0] != 1 else 0)) \n",
    "                     if len(conv_description.squeeze().shape) < 3 else self.max_pool(conv_description.squeeze())\n",
    "                     for conv_description in convolution_description]\n",
    "        \n",
    "        description = torch.cat(max_description, dim=2) \n",
    "        \n",
    "        max_tags = [self.max_pool(conv_tags.squeeze().unsqueeze(2 if batch['tags'].shape[0] != 1 else 0)) \n",
    "                     if len(conv_tags.squeeze().shape) < 3 else self.max_pool(conv_tags.squeeze())\n",
    "                     for conv_tags in convolution_tags]\n",
    "        \n",
    "        tags = torch.cat(max_tags, dim=2) \n",
    "        \n",
    "        # categories\n",
    "        categories = self.categories(batch['Categorical']).unsqueeze(1).permute(0, 2, 1)\n",
    "        \n",
    "        #concat\n",
    "        cat = torch.cat((title, description, tags, categories), dim=2)\n",
    "#         cat = torch.cat((title, description, categories), dim=2)\n",
    "        \n",
    "        out = cat.view(cat.shape[0], -1)\n",
    "#         print(out)\n",
    "        \n",
    "        out = self.fc1(self.relu(out))\n",
    "        out = self.dropout(out)\n",
    "        out = self.fc2(out)\n",
    "        return out.reshape(-1)"
   ]
  },
  {
   "cell_type": "code",
   "execution_count": 504,
   "metadata": {},
   "outputs": [],
   "source": [
    "model = ViewsPredictor()\n",
    "batch = make_batch(data_train[:100])\n",
    "criterion = nn.MSELoss()\n",
    "\n",
    "dummy_pred = model(batch)\n",
    "dummy_loss = criterion(dummy_pred, batch[TARGET_COLUMN])\n",
    "assert dummy_pred.shape == torch.Size([100])\n",
    "assert len(torch.unique(dummy_pred)) > 20, \"model returns suspiciously few unique outputs. Check your initialization\"\n",
    "assert dummy_loss.ndim == 0 and 0. <= dummy_loss <= 250., \"make sure you minimize MSE\""
   ]
  },
  {
   "cell_type": "code",
   "execution_count": 505,
   "metadata": {},
   "outputs": [],
   "source": [
    "def iterate_minibatches(data, batch_size=256, shuffle=True, cycle=False, device=torch.device('cpu'), **kwargs):\n",
    "    \"\"\" iterates minibatches of data in random order \"\"\"\n",
    "    while True:\n",
    "        indices = np.arange(len(data))\n",
    "        if shuffle:\n",
    "            indices = np.random.permutation(indices)\n",
    "\n",
    "        for start in range(0, len(indices), batch_size):\n",
    "            batch = make_batch(data.iloc[indices[start : start + batch_size]], **kwargs)\n",
    "            yield batch\n",
    "        \n",
    "        if not cycle: break"
   ]
  },
  {
   "cell_type": "code",
   "execution_count": 506,
   "metadata": {},
   "outputs": [],
   "source": [
    "import tqdm\n",
    "\n",
    "BATCH_SIZE = 32\n",
    "EPOCHS = 8\n",
    "DEVICE = torch.device('cpu')"
   ]
  },
  {
   "cell_type": "code",
   "execution_count": 507,
   "metadata": {},
   "outputs": [],
   "source": [
    "def print_metrics(model, data, batch_size=BATCH_SIZE, name=\"\", **kw):\n",
    "    squared_error = abs_error = num_samples = 0.0\n",
    "    model.eval()\n",
    "    with torch.no_grad():\n",
    "        for batch in iterate_minibatches(data, batch_size=batch_size, shuffle=False, **kw):\n",
    "            batch_pred = model(batch)\n",
    "            squared_error += torch.sum(torch.square(batch_pred - batch[TARGET_COLUMN]))\n",
    "            abs_error += torch.sum(torch.abs(batch_pred - batch[TARGET_COLUMN]))\n",
    "            num_samples += len(batch_pred)\n",
    "#             print('PRED', batch_pred)\n",
    "#             print('FACT', batch[TARGET_COLUMN])\n",
    "#             print(squared_error)\n",
    "#             print(abs_error)\n",
    "#             print(num_samples)\n",
    "    mse = squared_error.detach().cpu().numpy() / num_samples\n",
    "    mae = abs_error.detach().cpu().numpy() / num_samples\n",
    "    print(\"%s results:\" % (name or \"\"))\n",
    "    print(\"Mean square error: %.5f\" % mse)\n",
    "    print(\"Mean absolute error: %.5f\" % mae)\n",
    "    return mse, mae"
   ]
  },
  {
   "cell_type": "code",
   "execution_count": null,
   "metadata": {},
   "outputs": [
    {
     "name": "stdout",
     "output_type": "stream",
     "text": [
      "epoch: 0\n"
     ]
    },
    {
     "data": {
      "application/vnd.jupyter.widget-view+json": {
       "model_id": "4ff9eda941d34abfaa58fd952d219219",
       "version_major": 2,
       "version_minor": 0
      },
      "text/plain": [
       "  0%|          | 0/1002 [00:00<?, ?it/s]"
      ]
     },
     "metadata": {},
     "output_type": "display_data"
    },
    {
     "name": "stdout",
     "output_type": "stream",
     "text": [
      " results:\n",
      "Mean square error: 1.71753\n",
      "Mean absolute error: 1.02401\n",
      "epoch: 1\n"
     ]
    },
    {
     "data": {
      "application/vnd.jupyter.widget-view+json": {
       "model_id": "0911996b4ed14732a8f5a0a8eeb05413",
       "version_major": 2,
       "version_minor": 0
      },
      "text/plain": [
       "  0%|          | 0/1002 [00:00<?, ?it/s]"
      ]
     },
     "metadata": {},
     "output_type": "display_data"
    },
    {
     "name": "stdout",
     "output_type": "stream",
     "text": [
      " results:\n",
      "Mean square error: 2.47856\n",
      "Mean absolute error: 1.29275\n",
      "epoch: 2\n"
     ]
    },
    {
     "data": {
      "application/vnd.jupyter.widget-view+json": {
       "model_id": "fb449d30388e469983c8c452146add55",
       "version_major": 2,
       "version_minor": 0
      },
      "text/plain": [
       "  0%|          | 0/1002 [00:00<?, ?it/s]"
      ]
     },
     "metadata": {},
     "output_type": "display_data"
    },
    {
     "name": "stdout",
     "output_type": "stream",
     "text": [
      " results:\n",
      "Mean square error: 1.28680\n",
      "Mean absolute error: 0.85842\n",
      "epoch: 3\n"
     ]
    },
    {
     "data": {
      "application/vnd.jupyter.widget-view+json": {
       "model_id": "130f805773934e228348bee661b786ef",
       "version_major": 2,
       "version_minor": 0
      },
      "text/plain": [
       "  0%|          | 0/1002 [00:00<?, ?it/s]"
      ]
     },
     "metadata": {},
     "output_type": "display_data"
    },
    {
     "name": "stdout",
     "output_type": "stream",
     "text": [
      " results:\n",
      "Mean square error: 1.18457\n",
      "Mean absolute error: 0.82058\n",
      "epoch: 4\n"
     ]
    },
    {
     "data": {
      "application/vnd.jupyter.widget-view+json": {
       "model_id": "5c57413de1e948849c810fe72c4f44cc",
       "version_major": 2,
       "version_minor": 0
      },
      "text/plain": [
       "  0%|          | 0/1002 [00:00<?, ?it/s]"
      ]
     },
     "metadata": {},
     "output_type": "display_data"
    }
   ],
   "source": [
    "model = ViewsPredictor().to(DEVICE)\n",
    "criterion = nn.MSELoss(reduction='sum')\n",
    "optimizer = torch.optim.SGD(model.parameters(), lr=1e-4)\n",
    "\n",
    "for epoch in range(EPOCHS):\n",
    "    print(f\"epoch: {epoch}\")\n",
    "    model.train()\n",
    "    for i, batch in tqdm.notebook.tqdm(enumerate(\n",
    "            iterate_minibatches(data_train, batch_size=BATCH_SIZE, device=DEVICE)),\n",
    "            total=len(data_train) // BATCH_SIZE\n",
    "        ):\n",
    "        pred = model(batch)\n",
    "#         print(pred)\n",
    "        loss = criterion(pred, batch[TARGET_COLUMN])\n",
    "#         print(loss)\n",
    "        optimizer.zero_grad()\n",
    "        loss.backward()\n",
    "        optimizer.step()\n",
    "        \n",
    "    print_metrics(model, data_val)\n"
   ]
  },
  {
   "cell_type": "code",
   "execution_count": 412,
   "metadata": {},
   "outputs": [
    {
     "name": "stdout",
     "output_type": "stream",
     "text": [
      "epoch: 0\n"
     ]
    },
    {
     "data": {
      "application/vnd.jupyter.widget-view+json": {
       "model_id": "725cd7fe5f9c48839ba905171e5bb20b",
       "version_major": 2,
       "version_minor": 0
      },
      "text/plain": [
       "  0%|          | 0/2005 [00:00<?, ?it/s]"
      ]
     },
     "metadata": {},
     "output_type": "display_data"
    },
    {
     "name": "stdout",
     "output_type": "stream",
     "text": [
      " results:\n",
      "Mean square error: 1.50669\n",
      "Mean absolute error: 0.93669\n",
      "epoch: 1\n"
     ]
    },
    {
     "data": {
      "application/vnd.jupyter.widget-view+json": {
       "model_id": "9aa16a371fec4ff0afd323883e4abd56",
       "version_major": 2,
       "version_minor": 0
      },
      "text/plain": [
       "  0%|          | 0/2005 [00:00<?, ?it/s]"
      ]
     },
     "metadata": {},
     "output_type": "display_data"
    },
    {
     "name": "stdout",
     "output_type": "stream",
     "text": [
      " results:\n",
      "Mean square error: 1.37666\n",
      "Mean absolute error: 0.90377\n",
      "epoch: 2\n"
     ]
    },
    {
     "data": {
      "application/vnd.jupyter.widget-view+json": {
       "model_id": "5dee52af558c4582af7100924727df8a",
       "version_major": 2,
       "version_minor": 0
      },
      "text/plain": [
       "  0%|          | 0/2005 [00:00<?, ?it/s]"
      ]
     },
     "metadata": {},
     "output_type": "display_data"
    },
    {
     "name": "stdout",
     "output_type": "stream",
     "text": [
      " results:\n",
      "Mean square error: 1.73400\n",
      "Mean absolute error: 1.00894\n",
      "epoch: 3\n"
     ]
    },
    {
     "data": {
      "application/vnd.jupyter.widget-view+json": {
       "model_id": "8d30f1ec43bc414eb8cc4d62da6d928b",
       "version_major": 2,
       "version_minor": 0
      },
      "text/plain": [
       "  0%|          | 0/2005 [00:00<?, ?it/s]"
      ]
     },
     "metadata": {},
     "output_type": "display_data"
    },
    {
     "name": "stdout",
     "output_type": "stream",
     "text": [
      " results:\n",
      "Mean square error: 1.45512\n",
      "Mean absolute error: 0.92232\n",
      "epoch: 4\n"
     ]
    },
    {
     "data": {
      "application/vnd.jupyter.widget-view+json": {
       "model_id": "a99e25e990c34977a5e6e2f249244400",
       "version_major": 2,
       "version_minor": 0
      },
      "text/plain": [
       "  0%|          | 0/2005 [00:00<?, ?it/s]"
      ]
     },
     "metadata": {},
     "output_type": "display_data"
    },
    {
     "name": "stdout",
     "output_type": "stream",
     "text": [
      " results:\n",
      "Mean square error: 1.15743\n",
      "Mean absolute error: 0.81027\n"
     ]
    }
   ],
   "source": [
    "model = ViewsPredictor().to(DEVICE)\n",
    "criterion = nn.MSELoss(reduction='sum')\n",
    "optimizer = torch.optim.SGD(model.parameters(), lr=1e-4)\n",
    "\n",
    "for epoch in range(EPOCHS):\n",
    "    print(f\"epoch: {epoch}\")\n",
    "    model.train()\n",
    "    for i, batch in tqdm.notebook.tqdm(enumerate(\n",
    "            iterate_minibatches(data_train, batch_size=BATCH_SIZE, device=DEVICE)),\n",
    "            total=len(data_train) // BATCH_SIZE\n",
    "        ):\n",
    "        pred = model(batch)\n",
    "#         print(pred)\n",
    "        loss = criterion(pred, batch[TARGET_COLUMN])\n",
    "#         print(loss)\n",
    "        optimizer.zero_grad()\n",
    "        loss.backward()\n",
    "        optimizer.step()\n",
    "        \n",
    "    print_metrics(model, data_val)\n"
   ]
  },
  {
   "cell_type": "markdown",
   "metadata": {},
   "source": [
    "## Explain"
   ]
  },
  {
   "cell_type": "code",
   "execution_count": 413,
   "metadata": {},
   "outputs": [],
   "source": [
    "def explain(model, sample, col_name='Title'):\n",
    "    \"\"\" Computes the effect each word had on model predictions \"\"\"\n",
    "    sample = dict(sample)\n",
    "    sample_col_tokens = [tokens[token_to_id.get(tok, 0)] for tok in sample[col_name].split()]\n",
    "    data_drop_one_token = pd.DataFrame([sample] * (len(sample_col_tokens) + 1))\n",
    "\n",
    "    for drop_i in range(len(sample_col_tokens)):\n",
    "        data_drop_one_token.loc[drop_i, col_name] = ' '.join(UNK if i == drop_i else tok\n",
    "                                                   for i, tok in enumerate(sample_col_tokens)) \n",
    "    \n",
    "    *predictions_drop_one_token, baseline_pred = model(make_batch(data_drop_one_token)).detach().numpy()\n",
    "    diffs = baseline_pred - predictions_drop_one_token\n",
    "    return list(zip(sample_col_tokens, diffs))"
   ]
  },
  {
   "cell_type": "code",
   "execution_count": 425,
   "metadata": {},
   "outputs": [],
   "source": [
    "from IPython.display import HTML, display_html\n",
    "\n",
    "\n",
    "def draw_html(tokens_and_weights, cmap=plt.get_cmap(\"bwr\"), display=True,\n",
    "              token_template=\"\"\"<span style=\"background-color: {color_hex}\">{token}</span>\"\"\",\n",
    "              font_style=\"font-size:14px;\"\n",
    "             ):\n",
    "    \n",
    "    def get_color_hex(weight):\n",
    "#         синий -- супер, красный -- не очень\n",
    "        rgba = cmap(1. / (1 + np.exp(weight)), bytes=True)\n",
    "        return '#%02X%02X%02X' % rgba[:3]\n",
    "    \n",
    "    tokens_html = [\n",
    "        token_template.format(token=token, color_hex=get_color_hex(weight))\n",
    "        for token, weight in tokens_and_weights\n",
    "    ]\n",
    "    \n",
    "    raw_html = \"\"\"<p style=\"{}\">{}</p>\"\"\".format(font_style, ' '.join(tokens_html))\n",
    "    if display:\n",
    "        display_html(HTML(raw_html))\n",
    "        \n",
    "    return raw_html"
   ]
  },
  {
   "cell_type": "code",
   "execution_count": 457,
   "metadata": {},
   "outputs": [
    {
     "data": {
      "text/html": [
       "<p style=\"font-size:20px;\"><span style=\"background-color: #BEBEFF\">UNK</span> <span style=\"background-color: #BEBEFF\">UNK</span> <span style=\"background-color: #BEBEFF\">delrec</span> <span style=\"background-color: #4646FF\">lifesteal</span> <span style=\"background-color: #BEBEFF\">UNK</span></p>"
      ]
     },
     "metadata": {},
     "output_type": "display_data"
    },
    {
     "data": {
      "text/html": [
       "<p style=\"font-size:14px;\"><span style=\"background-color: #FF6060\">UNK</span> <span style=\"background-color: #FF6060\">montagne</span> <span style=\"background-color: #FF6060\">dv</span> <span style=\"background-color: #FF6060\">UNK</span> <span style=\"background-color: #FF6060\">UNK</span> <span style=\"background-color: #FF6060\">UNK</span> <span style=\"background-color: #FF6060\">UNK</span> <span style=\"background-color: #FF6060\">UNK</span> <span style=\"background-color: #FF7171\">lilyachty</span> <span style=\"background-color: #FF6060\">knopowcreated</span> <span style=\"background-color: #FF6060\">gianluca</span> <span style=\"background-color: #FF6060\">UNK</span> <span style=\"background-color: #FF8686\">closer</span> <span style=\"background-color: #FF6060\">UNK</span> <span style=\"background-color: #FF6060\">UNK</span> <span style=\"background-color: #FF9C9C\">logistics</span> <span style=\"background-color: #BCBCFF\">elevated</span> <span style=\"background-color: #FF7979\">closer</span> <span style=\"background-color: #FF5656\">coladangelo</span> <span style=\"background-color: #FF6060\">UNK</span> <span style=\"background-color: #FF6060\">UNK</span> <span style=\"background-color: #FF6464\">kut</span> <span style=\"background-color: #FF4848\">logistics</span> <span style=\"background-color: #FF6060\">UNK</span> <span style=\"background-color: #FF6060\">UNK</span> <span style=\"background-color: #FF6060\">UNK</span> <span style=\"background-color: #FF6060\">UNK</span> <span style=\"background-color: #FF6060\">UNK</span> <span style=\"background-color: #FF6060\">foxsoccer</span> <span style=\"background-color: #FF6060\">UNK</span> <span style=\"background-color: #FF6060\">UNK</span> <span style=\"background-color: #FF6060\">foxsoccer</span> <span style=\"background-color: #FF6060\">UNK</span> <span style=\"background-color: #FFA6A6\">gwszo5avp_dtagthuvfsssrrr</span> <span style=\"background-color: #FF6060\">UNK</span> <span style=\"background-color: #FF5959\">300k</span> <span style=\"background-color: #FF6060\">UNK</span> <span style=\"background-color: #FF6060\">UNK</span> <span style=\"background-color: #FF6060\">moo</span> <span style=\"background-color: #FF7979\">kurama</span> <span style=\"background-color: #FF6060\">UNK</span> <span style=\"background-color: #FF6060\">UNK</span> <span style=\"background-color: #FF6060\">UNK</span> <span style=\"background-color: #FF6060\">UNK</span> <span style=\"background-color: #FF6060\">UNK</span> <span style=\"background-color: #FF6060\">UNK</span> <span style=\"background-color: #FF6060\">UNK</span> <span style=\"background-color: #FF7474\">glitter</span> <span style=\"background-color: #FF6060\">UNK</span> <span style=\"background-color: #FF6060\">UNK</span> <span style=\"background-color: #FF6060\">logistics</span> <span style=\"background-color: #FF6060\">UNK</span> <span style=\"background-color: #FF6060\">452d9811</span> <span style=\"background-color: #FF6060\">UNK</span> <span style=\"background-color: #FF6666\">closer</span> <span style=\"background-color: #FF6161\">hillary</span> <span style=\"background-color: #FF5E5E\">foxsoccer</span> <span style=\"background-color: #FF6060\">cawthon</span> <span style=\"background-color: #FF7C7C\">ebony</span> <span style=\"background-color: #FF7171\">lorax</span> <span style=\"background-color: #FF5858\">452d9811</span> <span style=\"background-color: #FF6060\">UNK</span> <span style=\"background-color: #FF5151\">6mcsr65d9xc</span> <span style=\"background-color: #FF5C5C\">foxsoccer</span> <span style=\"background-color: #FF6060\">UNK</span> <span style=\"background-color: #FF6060\">UNK</span> <span style=\"background-color: #FF6E6E\">mings</span> <span style=\"background-color: #FF6464\">lanadelreyhttp</span> <span style=\"background-color: #FF4646\">logistics</span> <span style=\"background-color: #FF5959\">lifesteal</span> <span style=\"background-color: #FF6060\">UNK</span> <span style=\"background-color: #FF6060\">UNK</span> <span style=\"background-color: #FF7676\">9</span> <span style=\"background-color: #FF6060\">UNK</span> <span style=\"background-color: #FF6060\">UNK</span> <span style=\"background-color: #FF6060\">UNK</span> <span style=\"background-color: #FF6060\">UNK</span> <span style=\"background-color: #FF6060\">UNK</span> <span style=\"background-color: #FF6060\">UNK</span> <span style=\"background-color: #FF6060\">UNK</span> <span style=\"background-color: #FF6060\">UNK</span> <span style=\"background-color: #FF6060\">moo</span> <span style=\"background-color: #FF5C5C\">jackmasseywelshinstagram</span> <span style=\"background-color: #FF6C6C\">closer</span> <span style=\"background-color: #FF6060\">UNK</span> <span style=\"background-color: #FF6060\">UNK</span> <span style=\"background-color: #FF6060\">kickboxing</span> <span style=\"background-color: #FF5C5C\">452d9811</span> <span style=\"background-color: #FF5656\">lori</span> <span style=\"background-color: #FF6060\">UNK</span> <span style=\"background-color: #FF6060\">UNK</span> <span style=\"background-color: #FF6060\">UNK</span> <span style=\"background-color: #FF6060\">UNK</span></p>"
      ]
     },
     "metadata": {},
     "output_type": "display_data"
    },
    {
     "data": {
      "text/html": [
       "<p style=\"font-size:14px;\"><span style=\"background-color: #FFEAEA\">UNK</span> <span style=\"background-color: #FFEAEA\">UNK</span> <span style=\"background-color: #FFEAEA\">UNK</span> <span style=\"background-color: #FFEAEA\">UNK</span> <span style=\"background-color: #FFEAEA\">UNK</span> <span style=\"background-color: #FFEAEA\">UNK</span> <span style=\"background-color: #FFEAEA\">UNK</span> <span style=\"background-color: #FFEAEA\">UNK</span> <span style=\"background-color: #FFEAEA\">UNK</span> <span style=\"background-color: #FFEAEA\">UNK</span> <span style=\"background-color: #FFEAEA\">UNK</span> <span style=\"background-color: #0A0AFF\">favorites</span> <span style=\"background-color: #FFEAEA\">UNK</span> <span style=\"background-color: #FFEAEA\">UNK</span> <span style=\"background-color: #FFEAEA\">UNK</span> <span style=\"background-color: #FFEAEA\">UNK</span> <span style=\"background-color: #FFEAEA\">UNK</span> <span style=\"background-color: #FFEAEA\">UNK</span> <span style=\"background-color: #FFEAEA\">UNK</span> <span style=\"background-color: #FFEAEA\">UNK</span> <span style=\"background-color: #FFEAEA\">UNK</span> <span style=\"background-color: #FFEAEA\">UNK</span> <span style=\"background-color: #FFEAEA\">UNK</span> <span style=\"background-color: #FFEAEA\">UNK</span> <span style=\"background-color: #FFEAEA\">UNK</span> <span style=\"background-color: #FFEAEA\">UNK</span> <span style=\"background-color: #FFEAEA\">ls1</span> <span style=\"background-color: #FFEAEA\">UNK</span> <span style=\"background-color: #FFEAEA\">UNK</span> <span style=\"background-color: #FFEAEA\">ls1</span> <span style=\"background-color: #FFEAEA\">UNK</span> <span style=\"background-color: #FFEAEA\">UNK</span> <span style=\"background-color: #FFBEBE\">eventually</span> <span style=\"background-color: #FFEAEA\">UNK</span> <span style=\"background-color: #4444FF\">fenty</span> <span style=\"background-color: #FFEAEA\">UNK</span> <span style=\"background-color: #A2A2FF\">maury</span> <span style=\"background-color: #FFEAEA\">jazzybum</span></p>"
      ]
     },
     "metadata": {},
     "output_type": "display_data"
    }
   ],
   "source": [
    "i = np.random.randint(len(data))\n",
    "tokens_and_weights = explain(model, data.loc[i], \"title\")\n",
    "draw_html([(tok, weight * 5) for tok, weight in tokens_and_weights], font_style='font-size:20px;');\n",
    "\n",
    "tokens_and_weights = explain(model, data.loc[i], \"description\")\n",
    "draw_html([(tok, weight * 10) for tok, weight in tokens_and_weights]);\n",
    "\n",
    "tokens_and_weights = explain(model, data.loc[i], \"tags\")\n",
    "draw_html([(tok, weight * 10) for tok, weight in tokens_and_weights]);"
   ]
  },
  {
   "cell_type": "code",
   "execution_count": null,
   "metadata": {},
   "outputs": [],
   "source": []
  },
  {
   "cell_type": "code",
   "execution_count": null,
   "metadata": {},
   "outputs": [],
   "source": [
    "добавить категориальные признаки: наличие капслока, наличие ссылки в описании, время публикации (утро, день, вечер, ночь)"
   ]
  }
 ],
 "metadata": {
  "kernelspec": {
   "display_name": "Python 3",
   "language": "python",
   "name": "python3"
  },
  "language_info": {
   "codemirror_mode": {
    "name": "ipython",
    "version": 3
   },
   "file_extension": ".py",
   "mimetype": "text/x-python",
   "name": "python",
   "nbconvert_exporter": "python",
   "pygments_lexer": "ipython3",
   "version": "3.7.6"
  }
 },
 "nbformat": 4,
 "nbformat_minor": 4
}
