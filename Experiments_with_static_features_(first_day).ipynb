{
  "cells": [
    {
      "cell_type": "code",
      "execution_count": null,
      "metadata": {
        "id": "ZFeWReVeGBVA"
      },
      "outputs": [],
      "source": [
        "import pandas as pd\n",
        "import os, bz2, json, time\n",
        "from datetime import timedelta\n",
        "import pickle\n",
        "import pandas as pd\n",
        "from tqdm import tqdm\n",
        "import matplotlib.pyplot as plt\n",
        "import zipfile\n",
        "import numpy as np\n",
        "import re\n",
        "import ast\n",
        "from PIL import Image\n",
        "import requests\n",
        "import seaborn as sns\n",
        "import nltk\n",
        "from collections import Counter\n",
        "from sklearn.feature_extraction import DictVectorizer\n",
        "from sklearn.model_selection import train_test_split\n",
        "import torch\n",
        "import torch.nn as nn\n",
        "import torch.functional as F"
      ]
    },
    {
      "cell_type": "code",
      "execution_count": null,
      "metadata": {
        "id": "dNdmC-k6GBVF"
      },
      "outputs": [],
      "source": [
        "# data_en = pd.read_csv('Data1_en.csv')\n",
        "data_ru = pd.read_csv('Data1_ru.csv')\n",
        "data = data_ru"
      ]
    },
    {
      "cell_type": "code",
      "source": [
        "# test_en = pd.read_csv('Test1_en.csv')\n",
        "test_ru = pd.read_csv('Test1_ru.csv')\n",
        "data = test_ru"
      ],
      "metadata": {
        "id": "ivQUeY2tEHzB"
      },
      "execution_count": null,
      "outputs": []
    },
    {
      "cell_type": "code",
      "execution_count": null,
      "metadata": {
        "id": "-S5sK1dWGBVG"
      },
      "outputs": [],
      "source": [
        "replacer = dict()\n",
        "\n",
        "with open('category-codes.txt') as f:\n",
        "    categories = f.read().splitlines()\n",
        "    for cat in categories:\n",
        "        replacer[int(cat.split(' - ')[0])] = cat.split(' - ')[1]"
      ]
    },
    {
      "cell_type": "code",
      "execution_count": null,
      "metadata": {
        "colab": {
          "base_uri": "https://localhost:8080/",
          "height": 605
        },
        "id": "sdlWh54iGBVG",
        "outputId": "fb8eafbc-0e49-4494-add3-fa7ace5ee224"
      },
      "outputs": [
        {
          "output_type": "stream",
          "name": "stderr",
          "text": [
            "/usr/local/lib/python3.7/dist-packages/ipykernel_launcher.py:9: FutureWarning: The default value of regex will change from True to False in a future version.\n",
            "  if __name__ == '__main__':\n",
            "/usr/local/lib/python3.7/dist-packages/ipykernel_launcher.py:10: FutureWarning: The default value of regex will change from True to False in a future version. In addition, single character regular expressions will *not* be treated as literal strings when regex=True.\n",
            "  # Remove the CWD from sys.path while we load stuff.\n"
          ]
        },
        {
          "output_type": "execute_result",
          "data": {
            "text/plain": [
              "          video_id                                              title  \\\n",
              "5581   Ecde0eoFEmw  Тоттенхэм - Маккаби. Лучшие моменты матча Лиги...   \n",
              "29182  DqYfJsTLMhU              3 ДНЯ ЖИВУ КАК БОМЖ! Сплю на ЗАБРОШКЕ   \n",
              "50431  CPYenr3qJw8                   ДОМ-2. День (эфир от 30.11.2021)   \n",
              "\n",
              "                publishedAt                 channelId      channelTitle  \\\n",
              "5581   2020-10-01T22:25:21Z  UC9q_Stc4DXWrUPQ8DFEdWDQ        Okko Спорт   \n",
              "29182  2021-05-18T19:27:06Z  UCwipTluVS2mjuhPtx2WU7eQ  Дима Масленников   \n",
              "50431  2021-11-30T10:00:10Z  UCiMKJainDWz6Lf8vFC4tuRg             ДОМ-2   \n",
              "\n",
              "          categoryId         trending_date  \\\n",
              "5581          Sports  2020-10-02T00:00:00Z   \n",
              "29182  Entertainment  2021-05-19T00:00:00Z   \n",
              "50431  Entertainment  2021-12-01T00:00:00Z   \n",
              "\n",
              "                                                    tags  view_count   likes  \\\n",
              "5581              Тоттенхэм, Маккаби, Лига Европы, Обзор       17981     278   \n",
              "29182  3 ДНЯ ЖИВУ КАК БОМЖ, 3 ДНЯ БОМЖОМ, СТАЛ БОМЖОМ...     1681984  242606   \n",
              "50431  дом 2 онлайн, дом 2 смотреть, свежие серии дом...      208256    1076   \n",
              "\n",
              "       ...  caption  defaultLanguage regionRestriction  Log1pViews  \\\n",
              "5581   ...    False              NaN               NaN    9.797127   \n",
              "29182  ...    False              NaN               NaN   14.335485   \n",
              "50431  ...    False              NaN               NaN   12.246529   \n",
              "\n",
              "       published_category published_weekday duration_category      caps  link  \\\n",
              "5581              Evening               Thi          VeryLong  Not used  Used   \n",
              "29182             Evening               Tue             Small  Not used  Used   \n",
              "50431             Morning               Tue             Small  Not used  Used   \n",
              "\n",
              "      main_color  \n",
              "5581    lavender  \n",
              "29182      black  \n",
              "50431      black  \n",
              "\n",
              "[3 rows x 31 columns]"
            ],
            "text/html": [
              "\n",
              "  <div id=\"df-e50427cf-6708-4c4e-81ca-967137d2353f\">\n",
              "    <div class=\"colab-df-container\">\n",
              "      <div>\n",
              "<style scoped>\n",
              "    .dataframe tbody tr th:only-of-type {\n",
              "        vertical-align: middle;\n",
              "    }\n",
              "\n",
              "    .dataframe tbody tr th {\n",
              "        vertical-align: top;\n",
              "    }\n",
              "\n",
              "    .dataframe thead th {\n",
              "        text-align: right;\n",
              "    }\n",
              "</style>\n",
              "<table border=\"1\" class=\"dataframe\">\n",
              "  <thead>\n",
              "    <tr style=\"text-align: right;\">\n",
              "      <th></th>\n",
              "      <th>video_id</th>\n",
              "      <th>title</th>\n",
              "      <th>publishedAt</th>\n",
              "      <th>channelId</th>\n",
              "      <th>channelTitle</th>\n",
              "      <th>categoryId</th>\n",
              "      <th>trending_date</th>\n",
              "      <th>tags</th>\n",
              "      <th>view_count</th>\n",
              "      <th>likes</th>\n",
              "      <th>...</th>\n",
              "      <th>caption</th>\n",
              "      <th>defaultLanguage</th>\n",
              "      <th>regionRestriction</th>\n",
              "      <th>Log1pViews</th>\n",
              "      <th>published_category</th>\n",
              "      <th>published_weekday</th>\n",
              "      <th>duration_category</th>\n",
              "      <th>caps</th>\n",
              "      <th>link</th>\n",
              "      <th>main_color</th>\n",
              "    </tr>\n",
              "  </thead>\n",
              "  <tbody>\n",
              "    <tr>\n",
              "      <th>5581</th>\n",
              "      <td>Ecde0eoFEmw</td>\n",
              "      <td>Тоттенхэм - Маккаби. Лучшие моменты матча Лиги...</td>\n",
              "      <td>2020-10-01T22:25:21Z</td>\n",
              "      <td>UC9q_Stc4DXWrUPQ8DFEdWDQ</td>\n",
              "      <td>Okko Спорт</td>\n",
              "      <td>Sports</td>\n",
              "      <td>2020-10-02T00:00:00Z</td>\n",
              "      <td>Тоттенхэм, Маккаби, Лига Европы, Обзор</td>\n",
              "      <td>17981</td>\n",
              "      <td>278</td>\n",
              "      <td>...</td>\n",
              "      <td>False</td>\n",
              "      <td>NaN</td>\n",
              "      <td>NaN</td>\n",
              "      <td>9.797127</td>\n",
              "      <td>Evening</td>\n",
              "      <td>Thi</td>\n",
              "      <td>VeryLong</td>\n",
              "      <td>Not used</td>\n",
              "      <td>Used</td>\n",
              "      <td>lavender</td>\n",
              "    </tr>\n",
              "    <tr>\n",
              "      <th>29182</th>\n",
              "      <td>DqYfJsTLMhU</td>\n",
              "      <td>3 ДНЯ ЖИВУ КАК БОМЖ! Сплю на ЗАБРОШКЕ</td>\n",
              "      <td>2021-05-18T19:27:06Z</td>\n",
              "      <td>UCwipTluVS2mjuhPtx2WU7eQ</td>\n",
              "      <td>Дима Масленников</td>\n",
              "      <td>Entertainment</td>\n",
              "      <td>2021-05-19T00:00:00Z</td>\n",
              "      <td>3 ДНЯ ЖИВУ КАК БОМЖ, 3 ДНЯ БОМЖОМ, СТАЛ БОМЖОМ...</td>\n",
              "      <td>1681984</td>\n",
              "      <td>242606</td>\n",
              "      <td>...</td>\n",
              "      <td>False</td>\n",
              "      <td>NaN</td>\n",
              "      <td>NaN</td>\n",
              "      <td>14.335485</td>\n",
              "      <td>Evening</td>\n",
              "      <td>Tue</td>\n",
              "      <td>Small</td>\n",
              "      <td>Not used</td>\n",
              "      <td>Used</td>\n",
              "      <td>black</td>\n",
              "    </tr>\n",
              "    <tr>\n",
              "      <th>50431</th>\n",
              "      <td>CPYenr3qJw8</td>\n",
              "      <td>ДОМ-2. День (эфир от 30.11.2021)</td>\n",
              "      <td>2021-11-30T10:00:10Z</td>\n",
              "      <td>UCiMKJainDWz6Lf8vFC4tuRg</td>\n",
              "      <td>ДОМ-2</td>\n",
              "      <td>Entertainment</td>\n",
              "      <td>2021-12-01T00:00:00Z</td>\n",
              "      <td>дом 2 онлайн, дом 2 смотреть, свежие серии дом...</td>\n",
              "      <td>208256</td>\n",
              "      <td>1076</td>\n",
              "      <td>...</td>\n",
              "      <td>False</td>\n",
              "      <td>NaN</td>\n",
              "      <td>NaN</td>\n",
              "      <td>12.246529</td>\n",
              "      <td>Morning</td>\n",
              "      <td>Tue</td>\n",
              "      <td>Small</td>\n",
              "      <td>Not used</td>\n",
              "      <td>Used</td>\n",
              "      <td>black</td>\n",
              "    </tr>\n",
              "  </tbody>\n",
              "</table>\n",
              "<p>3 rows × 31 columns</p>\n",
              "</div>\n",
              "      <button class=\"colab-df-convert\" onclick=\"convertToInteractive('df-e50427cf-6708-4c4e-81ca-967137d2353f')\"\n",
              "              title=\"Convert this dataframe to an interactive table.\"\n",
              "              style=\"display:none;\">\n",
              "        \n",
              "  <svg xmlns=\"http://www.w3.org/2000/svg\" height=\"24px\"viewBox=\"0 0 24 24\"\n",
              "       width=\"24px\">\n",
              "    <path d=\"M0 0h24v24H0V0z\" fill=\"none\"/>\n",
              "    <path d=\"M18.56 5.44l.94 2.06.94-2.06 2.06-.94-2.06-.94-.94-2.06-.94 2.06-2.06.94zm-11 1L8.5 8.5l.94-2.06 2.06-.94-2.06-.94L8.5 2.5l-.94 2.06-2.06.94zm10 10l.94 2.06.94-2.06 2.06-.94-2.06-.94-.94-2.06-.94 2.06-2.06.94z\"/><path d=\"M17.41 7.96l-1.37-1.37c-.4-.4-.92-.59-1.43-.59-.52 0-1.04.2-1.43.59L10.3 9.45l-7.72 7.72c-.78.78-.78 2.05 0 2.83L4 21.41c.39.39.9.59 1.41.59.51 0 1.02-.2 1.41-.59l7.78-7.78 2.81-2.81c.8-.78.8-2.07 0-2.86zM5.41 20L4 18.59l7.72-7.72 1.47 1.35L5.41 20z\"/>\n",
              "  </svg>\n",
              "      </button>\n",
              "      \n",
              "  <style>\n",
              "    .colab-df-container {\n",
              "      display:flex;\n",
              "      flex-wrap:wrap;\n",
              "      gap: 12px;\n",
              "    }\n",
              "\n",
              "    .colab-df-convert {\n",
              "      background-color: #E8F0FE;\n",
              "      border: none;\n",
              "      border-radius: 50%;\n",
              "      cursor: pointer;\n",
              "      display: none;\n",
              "      fill: #1967D2;\n",
              "      height: 32px;\n",
              "      padding: 0 0 0 0;\n",
              "      width: 32px;\n",
              "    }\n",
              "\n",
              "    .colab-df-convert:hover {\n",
              "      background-color: #E2EBFA;\n",
              "      box-shadow: 0px 1px 2px rgba(60, 64, 67, 0.3), 0px 1px 3px 1px rgba(60, 64, 67, 0.15);\n",
              "      fill: #174EA6;\n",
              "    }\n",
              "\n",
              "    [theme=dark] .colab-df-convert {\n",
              "      background-color: #3B4455;\n",
              "      fill: #D2E3FC;\n",
              "    }\n",
              "\n",
              "    [theme=dark] .colab-df-convert:hover {\n",
              "      background-color: #434B5C;\n",
              "      box-shadow: 0px 1px 3px 1px rgba(0, 0, 0, 0.15);\n",
              "      filter: drop-shadow(0px 1px 2px rgba(0, 0, 0, 0.3));\n",
              "      fill: #FFFFFF;\n",
              "    }\n",
              "  </style>\n",
              "\n",
              "      <script>\n",
              "        const buttonEl =\n",
              "          document.querySelector('#df-e50427cf-6708-4c4e-81ca-967137d2353f button.colab-df-convert');\n",
              "        buttonEl.style.display =\n",
              "          google.colab.kernel.accessAllowed ? 'block' : 'none';\n",
              "\n",
              "        async function convertToInteractive(key) {\n",
              "          const element = document.querySelector('#df-e50427cf-6708-4c4e-81ca-967137d2353f');\n",
              "          const dataTable =\n",
              "            await google.colab.kernel.invokeFunction('convertToInteractive',\n",
              "                                                     [key], {});\n",
              "          if (!dataTable) return;\n",
              "\n",
              "          const docLinkHtml = 'Like what you see? Visit the ' +\n",
              "            '<a target=\"_blank\" href=https://colab.research.google.com/notebooks/data_table.ipynb>data table notebook</a>'\n",
              "            + ' to learn more about interactive tables.';\n",
              "          element.innerHTML = '';\n",
              "          dataTable['output_type'] = 'display_data';\n",
              "          await google.colab.output.renderOutput(dataTable, element);\n",
              "          const docLink = document.createElement('div');\n",
              "          docLink.innerHTML = docLinkHtml;\n",
              "          element.appendChild(docLink);\n",
              "        }\n",
              "      </script>\n",
              "    </div>\n",
              "  </div>\n",
              "  "
            ]
          },
          "metadata": {},
          "execution_count": 296
        }
      ],
      "source": [
        "text_columns = ['title', 'description', 'tags']\n",
        "categorical_columns = ['categoryId', 'published_weekday', 'published_category', 'caps', 'link', 'duration_category']\n",
        "TARGET_COLUMN = \"Log1pViews\"\n",
        "\n",
        "data['categoryId'] = data['categoryId'].replace(replacer)\n",
        "data['duration_category'] = data['duration_category'].fillna('Medium')\n",
        "data[categorical_columns[:-1]] = data[categorical_columns[:-1]].fillna('NaN')\n",
        "data['title'] = data['title'].fillna('NaN')\n",
        "data['description'] = data['description'].str.replace(r'http\\S+', '').fillna('NaN')\n",
        "data['tags'] = data['tags'].str.replace('|', ', ').replace('[None]', 'NaN')\n",
        "\n",
        "data.sample(3)"
      ]
    },
    {
      "cell_type": "code",
      "execution_count": null,
      "metadata": {
        "id": "WR0TWtMpGBVI"
      },
      "outputs": [],
      "source": [
        "tokenizer = nltk.tokenize.WordPunctTokenizer()\n",
        "tok_mwe = nltk.tokenize.ToktokTokenizer()\n",
        "data[\"description\"] = data[\"description\"].apply(lambda x: ' '.join(tokenizer.tokenize(x.lower())))\n",
        "data[\"title\"] = data[\"title\"].apply(lambda x: ' '.join(tokenizer.tokenize(str(x).lower())))\n",
        "data[\"tags\"] = data[\"tags\"].apply(lambda x: ' '.join(''.join(str(x).lower().split(' ')).split(',')))"
      ]
    },
    {
      "cell_type": "code",
      "execution_count": null,
      "metadata": {
        "id": "8cZ4y9w4GBVJ"
      },
      "outputs": [],
      "source": [
        "token_counts = Counter()\n",
        "\n",
        "for row in data.iterrows():\n",
        "    token_counts.update([*row[1]['description'].split(), *row[1]['title'].split(), *row[1]['tags'].split()])"
      ]
    },
    {
      "cell_type": "code",
      "execution_count": null,
      "metadata": {
        "colab": {
          "base_uri": "https://localhost:8080/"
        },
        "id": "uxBSW7IVGBVK",
        "outputId": "e4fbe609-80ce-4031-883b-418bee2ef408"
      },
      "outputs": [
        {
          "output_type": "stream",
          "name": "stdout",
          "text": [
            "Total unique tokens : 672812\n",
            "(':', 419525)\n",
            "(',', 364202)\n",
            "('-', 300517)\n",
            "('.', 293966)\n",
            "('в', 191472)\n",
            "...\n",
            "('mrr', 1)\n",
            "('восьмидесятые5сезон8серия', 1)\n",
            "('восьмидесятые80серия', 1)\n"
          ]
        }
      ],
      "source": [
        "print(\"Total unique tokens :\", len(token_counts))\n",
        "print('\\n'.join(map(str, token_counts.most_common(n=5))))\n",
        "print('...')\n",
        "print('\\n'.join(map(str, token_counts.most_common()[-3:])))"
      ]
    },
    {
      "cell_type": "code",
      "execution_count": null,
      "metadata": {
        "colab": {
          "base_uri": "https://localhost:8080/",
          "height": 281
        },
        "id": "gkhkMd3BGBVL",
        "outputId": "fb60de99-0b86-426d-879c-fe5ea4e7585e"
      },
      "outputs": [
        {
          "output_type": "display_data",
          "data": {
            "text/plain": [
              "<Figure size 432x288 with 1 Axes>"
            ],
            "image/png": "[encoded data removed]"
          },
          "metadata": {
            "needs_background": "light"
          }
        }
      ],
      "source": [
        "plt.hist(list(token_counts.values()), range=[0, 10**4], bins=50, log=True)\n",
        "plt.xlabel(\"Word counts\");"
      ]
    },
    {
      "cell_type": "code",
      "execution_count": null,
      "metadata": {
        "colab": {
          "base_uri": "https://localhost:8080/"
        },
        "id": "bD3w_9heGBVM",
        "outputId": "f13850df-c871-46dc-eddc-4af72a623016"
      },
      "outputs": [
        {
          "output_type": "stream",
          "name": "stdout",
          "text": [
            "Vocabulary size: 120529\n"
          ]
        }
      ],
      "source": [
        "min_count = 5\n",
        "tokens = sorted(t for t, c in token_counts.items() if c >= min_count)\n",
        "UNK, PAD = \"UNK\", \"PAD\"\n",
        "tokens = [UNK, PAD] + tokens\n",
        "print(\"Vocabulary size:\", len(tokens))"
      ]
    },
    {
      "cell_type": "code",
      "execution_count": null,
      "metadata": {
        "id": "FUfUfkX4GBVM"
      },
      "outputs": [],
      "source": [
        "token_to_id = dict(zip(tokens, [i for i in range(len(tokens))]))"
      ]
    },
    {
      "cell_type": "code",
      "execution_count": null,
      "metadata": {
        "id": "QzkbCU2wGBVM"
      },
      "outputs": [],
      "source": [
        "UNK_IX, PAD_IX = map(token_to_id.get, [UNK, PAD])\n",
        "\n",
        "def as_matrix(sequences, max_len=None):\n",
        "    \"\"\"\n",
        "    Convert a list of tokens into a matrix with padding\n",
        "    \"\"\"\n",
        "    if isinstance(sequences[0], str):\n",
        "        sequences = list(map(str.split, sequences))\n",
        "        \n",
        "    max_len = min(max(map(len, sequences)), max_len or float('inf'))\n",
        "    \n",
        "    matrix = np.full((len(sequences), max_len), np.int32(PAD_IX))\n",
        "    for i,seq in enumerate(sequences):\n",
        "        row_ix = [token_to_id.get(word, UNK_IX) for word in seq[:max_len]]\n",
        "        matrix[i, :len(row_ix)] = row_ix\n",
        "    \n",
        "    return matrix"
      ]
    },
    {
      "cell_type": "code",
      "execution_count": null,
      "metadata": {
        "colab": {
          "base_uri": "https://localhost:8080/"
        },
        "id": "viJH-KElGBVO",
        "outputId": "f627c3d8-c646-4429-98a3-680b1054ffac"
      },
      "outputs": [
        {
          "output_type": "execute_result",
          "data": {
            "text/plain": [
              "DictVectorizer(dtype=<class 'numpy.float32'>, sparse=False)"
            ]
          },
          "metadata": {},
          "execution_count": 304
        }
      ],
      "source": [
        "categorical_vectorizer = DictVectorizer(dtype=np.float32, sparse=False)\n",
        "categorical_vectorizer.fit(data[categorical_columns].apply(dict, axis=1))"
      ]
    },
    {
      "cell_type": "code",
      "execution_count": null,
      "metadata": {
        "colab": {
          "base_uri": "https://localhost:8080/"
        },
        "id": "WghRdDEaGBVO",
        "outputId": "0745748d-6030-4a72-f3d6-ea8e049ef596"
      },
      "outputs": [
        {
          "output_type": "stream",
          "name": "stdout",
          "text": [
            "Train size =  52948\n",
            "Validation size =  13238\n"
          ]
        }
      ],
      "source": [
        "data_train, data_val = train_test_split(data, test_size=0.2, random_state=42)\n",
        "data_train.index = range(len(data_train))\n",
        "data_val.index = range(len(data_val))\n",
        "\n",
        "print(\"Train size = \", len(data_train))\n",
        "print(\"Validation size = \", len(data_val))"
      ]
    },
    {
      "cell_type": "code",
      "execution_count": null,
      "metadata": {
        "id": "O6d_uIilGBVO"
      },
      "outputs": [],
      "source": [
        "DEVICE = torch.device('cuda')"
      ]
    },
    {
      "cell_type": "code",
      "execution_count": null,
      "metadata": {
        "id": "6nsDvs_8GBVP"
      },
      "outputs": [],
      "source": [
        "def to_tensors(batch, device):\n",
        "    batch_tensors = dict()\n",
        "    for key, arr in batch.items():\n",
        "        if key in [\"description\", \"title\", 'tags']:\n",
        "            batch_tensors[key] = torch.tensor(arr, dtype=torch.int64, device=device)\n",
        "        else:\n",
        "            batch_tensors[key] = torch.tensor(arr, device=device)\n",
        "    return batch_tensors\n",
        "\n",
        "\n",
        "def make_batch(data, max_len=None, word_dropout=0, device=DEVICE):\n",
        "    \"\"\"\n",
        "    Creates a keras-friendly dict from the batch data.\n",
        "    :param word_dropout: replaces token index with UNK_IX with this probability\n",
        "    :returns: a dict with {'title' : int64[batch, title_max_len]\n",
        "    \"\"\"\n",
        "    batch = {}\n",
        "    batch[\"title\"] = as_matrix(data[\"title\"].values, max_len)\n",
        "    batch[\"description\"] = as_matrix(data[\"description\"].values, max_len)\n",
        "    batch[\"tags\"] = as_matrix(data[\"tags\"].values, max_len)\n",
        "    batch['Categorical'] = categorical_vectorizer.transform(data[categorical_columns].apply(dict, axis=1))\n",
        "    \n",
        "    if word_dropout != 0:\n",
        "        batch[\"description\"] = apply_word_dropout(batch[\"description\"], 1. - word_dropout)\n",
        "    \n",
        "    if TARGET_COLUMN in data.columns:\n",
        "        batch[TARGET_COLUMN] = data[TARGET_COLUMN].values\n",
        "    \n",
        "    return to_tensors(batch, device)\n",
        "\n",
        "\n",
        "def apply_word_dropout(matrix, keep_prop, replace_with=UNK_IX, pad_ix=PAD_IX,):\n",
        "    dropout_mask = np.random.choice(2, np.shape(matrix), p=[keep_prop, 1 - keep_prop])\n",
        "    dropout_mask &= matrix != pad_ix\n",
        "    return np.choose(dropout_mask, [matrix, np.full_like(matrix, replace_with)])"
      ]
    },
    {
      "cell_type": "code",
      "execution_count": null,
      "metadata": {
        "id": "xjKd9TQIGBVP"
      },
      "outputs": [],
      "source": [
        "class ViewsPredictor(nn.Module):\n",
        "    def __init__(self, n_tokens=len(tokens), n_cat_features=len(categorical_vectorizer.vocabulary_), hid_size=64):\n",
        "        super().__init__()\n",
        "        \n",
        "        self.embedding = nn.Embedding(num_embeddings=n_tokens,\n",
        "                                      embedding_dim=hid_size,\n",
        "                                      padding_idx=0,\n",
        "                                      max_norm=5.0).to(DEVICE)\n",
        "        \n",
        "        self.convs = nn.ModuleList([nn.Conv2d(in_channels=1,\n",
        "                                              out_channels=100,\n",
        "                                              kernel_size=(fs, hid_size)) for fs in [1, 2, 3, 4]]).to(DEVICE)\n",
        "\n",
        "        self.lstm = nn.LSTM(64, hidden_size=hid_size, batch_first=True, bidirectional=True).to(DEVICE)\n",
        "        self.fc = nn.Linear(hid_size * 2, 100).to(DEVICE)\n",
        "\n",
        "        self.hidden = nn.Linear(200, 100).to(DEVICE)\n",
        "                \n",
        "        self.max_pool = nn.AdaptiveMaxPool1d(2).to(DEVICE)\n",
        "        self.avg_pool = nn.AdaptiveAvgPool1d(2).to(DEVICE)\n",
        "        \n",
        "        self.categories1 = nn.Linear(n_cat_features, 300).to(DEVICE)\n",
        "        self.norm_cat = nn.BatchNorm1d(300, momentum=0.1).to(DEVICE)\n",
        "        self.categories2 = nn.Linear(300, 100).to(DEVICE)\n",
        "        \n",
        "        self.relu = nn.ReLU().to(DEVICE)\n",
        "        self.dropout = nn.Dropout(0.5).to(DEVICE)\n",
        "        \n",
        "        self.fc1 = nn.Linear(100 * 49, hid_size, bias=True).to(DEVICE)\n",
        "        self.fc2 = nn.Linear(hid_size, 1, bias=True).to(DEVICE)\n",
        "        \n",
        "        \n",
        "    def forward(self, batch):\n",
        "        # emb\n",
        "        x_embed_title = self.embedding(batch['title']).unsqueeze(1)\n",
        "        x_embed_description = self.embedding(batch['description']).unsqueeze(1)\n",
        "        x_embed_tags = self.embedding(batch['tags']).unsqueeze(1)\n",
        "            \n",
        "        # # conv\n",
        "        convolution_title = [conv(x_embed_title) for conv in self.convs]\n",
        "        convolution_description = [conv(x_embed_description) for conv in self.convs]\n",
        "        convolution_tags = [conv(x_embed_tags) for conv in self.convs]\n",
        "       \n",
        "        # # pooling\n",
        "        max_title = torch.cat([self.max_pool(conv_title.squeeze().unsqueeze(2 if batch['title'].shape[0] != 1 else 0))\n",
        "                     if len(conv_title.squeeze().shape) < 3 else self.max_pool(conv_title.squeeze())\n",
        "                     for conv_title in convolution_title], dim=2)\n",
        "        \n",
        "        avg_title = torch.cat([self.avg_pool(conv_title.squeeze().unsqueeze(2 if batch['title'].shape[0] != 1 else 0))\n",
        "                     if len(conv_title.squeeze().shape) < 3 else self.avg_pool(conv_title.squeeze())\n",
        "                     for conv_title in convolution_title], dim=2)\n",
        "        \n",
        "        title = torch.cat([max_title, avg_title], dim=-1)\n",
        "\n",
        "        # h0 = torch.randn(2, batch['title'].shape[0], 64, device=DEVICE)\n",
        "        # c0 = torch.randn(2, batch['title'].shape[0], 64, device=DEVICE)\n",
        "        # recurrent_title, (_,_) = self.lstm(x_embed_title.squeeze(1), (h0, c0))\n",
        "        # title = self.max_pool(self.fc(recurrent_title).permute(0, 2, 1)) \n",
        "\n",
        "        # title = torch.cat([title1, title2], dim=2)\n",
        "        \n",
        "        max_description = torch.cat([self.max_pool(conv_description.squeeze().unsqueeze(2 if batch['description'].shape[0] != 1 else 0)) \n",
        "                     if len(conv_description.squeeze().shape) < 3 else self.max_pool(conv_description.squeeze())\n",
        "                     for conv_description in convolution_description], dim=2)\n",
        "        \n",
        "        avg_description = torch.cat([self.avg_pool(conv_description.squeeze().unsqueeze(2 if batch['description'].shape[0] != 1 else 0)) \n",
        "                     if len(conv_description.squeeze().shape) < 3 else self.avg_pool(conv_description.squeeze())\n",
        "                     for conv_description in convolution_description], dim=2)\n",
        "        \n",
        "        description = torch.cat([max_description, avg_description], dim=-1) \n",
        "\n",
        "        # h0 = torch.randn(2, batch['description'].shape[0], 64, device=DEVICE)\n",
        "        # c0 = torch.randn(2, batch['description'].shape[0], 64, device=DEVICE)\n",
        "        # recurrent_description, (_,_) = self.lstm(x_embed_description.squeeze(1), (h0, c0))\n",
        "        # description = self.max_pool(self.fc(recurrent_description).permute(0, 2, 1)) \n",
        "\n",
        "        # description = torch.cat([description1, description2], dim=2)\n",
        "        \n",
        "        max_tags = torch.cat([self.max_pool(conv_tags.squeeze().unsqueeze(2 if batch['tags'].shape[0] != 1 else 0)) \n",
        "                     if len(conv_tags.squeeze().shape) < 3 else self.max_pool(conv_tags.squeeze())\n",
        "                     for conv_tags in convolution_tags], dim=2)\n",
        "        \n",
        "        avg_tags = torch.cat([self.avg_pool(conv_tags.squeeze().unsqueeze(2 if batch['tags'].shape[0] != 1 else 0)) \n",
        "                     if len(conv_tags.squeeze().shape) < 3 else self.avg_pool(conv_tags.squeeze())\n",
        "                     for conv_tags in convolution_tags], dim=2)\n",
        "        \n",
        "        tags = torch.cat([max_tags, avg_tags], dim=-1)  \n",
        "\n",
        "        # h0 = torch.randn(2, batch['tags'].shape[0], 64, device=DEVICE)\n",
        "        # c0 = torch.randn(2, batch['tags'].shape[0], 64, device=DEVICE)\n",
        "        # recurrent_tags, (_,_) = self.lstm(x_embed_tags.squeeze(1), (h0, c0))\n",
        "        # tags = self.max_pool(self.fc(recurrent_tags).permute(0, 2, 1)) \n",
        "\n",
        "        # tags = torch.cat([tags1, tags2], dim=2)\n",
        "        \n",
        "        # categories\n",
        "        categories = self.categories2(self.norm_cat(self.categories1(batch['Categorical']))).unsqueeze(1).permute(0, 2, 1)\n",
        "        \n",
        "        #concat\n",
        "        cat = torch.cat((title, description, tags, categories), dim=2)\n",
        "        \n",
        "        out = cat.view(cat.shape[0], -1)        \n",
        "        out = self.fc1(self.relu(out))\n",
        "        out = self.dropout(out)\n",
        "        out = self.fc2(out)\n",
        "        return out.reshape(-1)"
      ]
    },
    {
      "cell_type": "code",
      "execution_count": null,
      "metadata": {
        "id": "c6IPbxJWGBVQ"
      },
      "outputs": [],
      "source": [
        "def iterate_minibatches(data, batch_size=256, shuffle=True, cycle=False, device=DEVICE, **kwargs):\n",
        "    \"\"\" iterates minibatches of data in random order \"\"\"\n",
        "    while True:\n",
        "        indices = np.arange(len(data))\n",
        "        if shuffle:\n",
        "            indices = np.random.permutation(indices)\n",
        "\n",
        "        for start in range(0, len(indices), batch_size):\n",
        "            batch = make_batch(data.iloc[indices[start : start + batch_size]], **kwargs)\n",
        "            yield batch\n",
        "        \n",
        "        if not cycle: break"
      ]
    },
    {
      "cell_type": "code",
      "execution_count": null,
      "metadata": {
        "id": "HUIp4-AbGBVQ"
      },
      "outputs": [],
      "source": [
        "BATCH_SIZE = 16\n",
        "EPOCHS = 100"
      ]
    },
    {
      "cell_type": "code",
      "execution_count": null,
      "metadata": {
        "id": "rCDqtdd7GBVR"
      },
      "outputs": [],
      "source": [
        "def print_metrics(model, data, batch_size=BATCH_SIZE, name=\"\", **kw):\n",
        "    valid_losses = []\n",
        "    squared_error = abs_error = num_samples = 0.0\n",
        "    model.eval()\n",
        "    with torch.no_grad():\n",
        "        for batch in iterate_minibatches(data, batch_size=batch_size, shuffle=False, **kw):\n",
        "            batch_pred = model(batch)\n",
        "            squared_error += torch.sum(torch.square(batch_pred - batch[TARGET_COLUMN]))\n",
        "            abs_error += torch.sum(torch.abs(batch_pred - batch[TARGET_COLUMN]))\n",
        "            num_samples += len(batch_pred)\n",
        "            loss = criterion(batch_pred, batch[TARGET_COLUMN])\n",
        "            valid_losses.append(loss.item())\n",
        "    valid_loss = np.average(valid_losses)\n",
        "    mse = squared_error.detach().cpu().numpy() / num_samples\n",
        "    mae = abs_error.detach().cpu().numpy() / num_samples\n",
        "    print(\"%s results:\" % (name or \"\"))\n",
        "    print(\"Mean square error: %.5f\" % mse)\n",
        "    print(\"Mean absolute error: %.5f\" % mae)\n",
        "    return mse, mae, valid_loss"
      ]
    },
    {
      "cell_type": "code",
      "source": [
        "model = ViewsPredictor().to(DEVICE)\n",
        "criterion = nn.MSELoss(reduction='sum')\n",
        "optimizer = torch.optim.SGD(model.parameters(), lr=1e-4)\n",
        "# early_stopping = EarlyStopping(patience=10, verbose=True, monitor=\"val_loss\")\n",
        "\n",
        "\n",
        "for epoch in range(EPOCHS):\n",
        "    print(f\"epoch: {epoch}\")\n",
        "    model.train()\n",
        "    for i, batch in tqdm(enumerate(\n",
        "            iterate_minibatches(data_train, batch_size=BATCH_SIZE, device=DEVICE)),\n",
        "            total=len(data_train) // BATCH_SIZE\n",
        "        ):\n",
        "        pred = model(batch)\n",
        "        loss = criterion(pred, batch[TARGET_COLUMN].float())\n",
        "        optimizer.zero_grad()\n",
        "        loss.backward()\n",
        "        optimizer.step()\n",
        "        \n",
        "    mse, mae, valid_loss = print_metrics(model, data_val)"
      ],
      "metadata": {
        "colab": {
          "base_uri": "https://localhost:8080/"
        },
        "id": "NrxzfXySV_L3",
        "outputId": "1e90d27c-6081-487f-c8bf-06088dc2498e"
      },
      "execution_count": null,
      "outputs": [
        {
          "output_type": "stream",
          "name": "stdout",
          "text": [
            "epoch: 0\n"
          ]
        },
        {
          "output_type": "stream",
          "name": "stderr",
          "text": [
            "3310it [05:05, 10.84it/s]                          \n"
          ]
        },
        {
          "output_type": "stream",
          "name": "stdout",
          "text": [
            " results:\n",
            "Mean square error: 1.30623\n",
            "Mean absolute error: 0.89121\n",
            "epoch: 1\n"
          ]
        },
        {
          "output_type": "stream",
          "name": "stderr",
          "text": [
            "3310it [05:04, 10.88it/s]\n"
          ]
        },
        {
          "output_type": "stream",
          "name": "stdout",
          "text": [
            " results:\n",
            "Mean square error: 1.26355\n",
            "Mean absolute error: 0.88505\n",
            "epoch: 2\n"
          ]
        },
        {
          "output_type": "stream",
          "name": "stderr",
          "text": [
            "3310it [05:03, 10.90it/s]\n"
          ]
        },
        {
          "output_type": "stream",
          "name": "stdout",
          "text": [
            " results:\n",
            "Mean square error: 0.81476\n",
            "Mean absolute error: 0.69550\n",
            "epoch: 3\n"
          ]
        },
        {
          "output_type": "stream",
          "name": "stderr",
          "text": [
            "3310it [05:01, 10.98it/s]                          \n"
          ]
        },
        {
          "output_type": "stream",
          "name": "stdout",
          "text": [
            " results:\n",
            "Mean square error: 0.78120\n",
            "Mean absolute error: 0.68405\n",
            "epoch: 4\n"
          ]
        },
        {
          "output_type": "stream",
          "name": "stderr",
          "text": [
            "3310it [05:01, 10.98it/s]                          \n"
          ]
        },
        {
          "output_type": "stream",
          "name": "stdout",
          "text": [
            " results:\n",
            "Mean square error: 0.65958\n",
            "Mean absolute error: 0.61530\n",
            "epoch: 5\n"
          ]
        },
        {
          "output_type": "stream",
          "name": "stderr",
          "text": [
            "3310it [05:02, 10.95it/s]\n"
          ]
        },
        {
          "output_type": "stream",
          "name": "stdout",
          "text": [
            " results:\n",
            "Mean square error: 0.91805\n",
            "Mean absolute error: 0.76723\n",
            "epoch: 6\n"
          ]
        },
        {
          "output_type": "stream",
          "name": "stderr",
          "text": [
            "3310it [05:02, 10.94it/s]                          \n"
          ]
        },
        {
          "output_type": "stream",
          "name": "stdout",
          "text": [
            " results:\n",
            "Mean square error: 0.58311\n",
            "Mean absolute error: 0.57671\n",
            "epoch: 7\n"
          ]
        },
        {
          "output_type": "stream",
          "name": "stderr",
          "text": [
            "3310it [05:02, 10.93it/s]\n"
          ]
        },
        {
          "output_type": "stream",
          "name": "stdout",
          "text": [
            " results:\n",
            "Mean square error: 0.59969\n",
            "Mean absolute error: 0.59204\n",
            "epoch: 8\n"
          ]
        },
        {
          "output_type": "stream",
          "name": "stderr",
          "text": [
            "3310it [05:03, 10.92it/s]\n"
          ]
        },
        {
          "output_type": "stream",
          "name": "stdout",
          "text": [
            " results:\n",
            "Mean square error: 0.54525\n",
            "Mean absolute error: 0.55730\n",
            "epoch: 9\n"
          ]
        },
        {
          "output_type": "stream",
          "name": "stderr",
          "text": [
            "3310it [05:03, 10.92it/s]\n"
          ]
        },
        {
          "output_type": "stream",
          "name": "stdout",
          "text": [
            " results:\n",
            "Mean square error: 0.53851\n",
            "Mean absolute error: 0.55331\n",
            "epoch: 10\n"
          ]
        },
        {
          "output_type": "stream",
          "name": "stderr",
          "text": [
            "3310it [05:00, 11.02it/s]                          \n"
          ]
        },
        {
          "output_type": "stream",
          "name": "stdout",
          "text": [
            " results:\n",
            "Mean square error: 0.53994\n",
            "Mean absolute error: 0.55708\n",
            "epoch: 11\n"
          ]
        },
        {
          "output_type": "stream",
          "name": "stderr",
          "text": [
            "3310it [05:02, 10.95it/s]\n"
          ]
        },
        {
          "output_type": "stream",
          "name": "stdout",
          "text": [
            " results:\n",
            "Mean square error: 0.52694\n",
            "Mean absolute error: 0.54769\n",
            "epoch: 12\n"
          ]
        },
        {
          "output_type": "stream",
          "name": "stderr",
          "text": [
            "3310it [05:00, 11.00it/s]                          \n"
          ]
        },
        {
          "output_type": "stream",
          "name": "stdout",
          "text": [
            " results:\n",
            "Mean square error: 0.55152\n",
            "Mean absolute error: 0.56716\n",
            "epoch: 13\n"
          ]
        },
        {
          "output_type": "stream",
          "name": "stderr",
          "text": [
            "3310it [04:59, 11.04it/s]\n"
          ]
        },
        {
          "output_type": "stream",
          "name": "stdout",
          "text": [
            " results:\n",
            "Mean square error: 0.51542\n",
            "Mean absolute error: 0.54206\n",
            "epoch: 14\n"
          ]
        },
        {
          "output_type": "stream",
          "name": "stderr",
          "text": [
            "3310it [05:03, 10.92it/s]\n"
          ]
        },
        {
          "output_type": "stream",
          "name": "stdout",
          "text": [
            " results:\n",
            "Mean square error: 0.54768\n",
            "Mean absolute error: 0.56386\n",
            "epoch: 15\n"
          ]
        },
        {
          "output_type": "stream",
          "name": "stderr",
          "text": [
            "3310it [05:02, 10.93it/s]\n"
          ]
        },
        {
          "output_type": "stream",
          "name": "stdout",
          "text": [
            " results:\n",
            "Mean square error: 0.52305\n",
            "Mean absolute error: 0.54760\n",
            "epoch: 16\n"
          ]
        },
        {
          "output_type": "stream",
          "name": "stderr",
          "text": [
            "3310it [05:02, 10.96it/s]\n"
          ]
        },
        {
          "output_type": "stream",
          "name": "stdout",
          "text": [
            " results:\n",
            "Mean square error: 0.54307\n",
            "Mean absolute error: 0.56255\n",
            "epoch: 17\n"
          ]
        },
        {
          "output_type": "stream",
          "name": "stderr",
          "text": [
            "3310it [05:02, 10.95it/s]\n"
          ]
        },
        {
          "output_type": "stream",
          "name": "stdout",
          "text": [
            " results:\n",
            "Mean square error: 0.52159\n",
            "Mean absolute error: 0.54664\n",
            "epoch: 18\n"
          ]
        },
        {
          "output_type": "stream",
          "name": "stderr",
          "text": [
            "3310it [05:03, 10.92it/s]                          \n"
          ]
        },
        {
          "output_type": "stream",
          "name": "stdout",
          "text": [
            " results:\n",
            "Mean square error: 0.52354\n",
            "Mean absolute error: 0.54902\n",
            "epoch: 19\n"
          ]
        },
        {
          "output_type": "stream",
          "name": "stderr",
          "text": [
            "3310it [05:02, 10.93it/s]\n"
          ]
        },
        {
          "output_type": "stream",
          "name": "stdout",
          "text": [
            " results:\n",
            "Mean square error: 0.52377\n",
            "Mean absolute error: 0.54753\n",
            "epoch: 20\n"
          ]
        },
        {
          "output_type": "stream",
          "name": "stderr",
          "text": [
            "3310it [05:01, 10.98it/s]                          \n"
          ]
        },
        {
          "output_type": "stream",
          "name": "stdout",
          "text": [
            " results:\n",
            "Mean square error: 0.57611\n",
            "Mean absolute error: 0.58371\n",
            "epoch: 21\n"
          ]
        },
        {
          "output_type": "stream",
          "name": "stderr",
          "text": [
            "3310it [05:02, 10.94it/s]                          \n"
          ]
        },
        {
          "output_type": "stream",
          "name": "stdout",
          "text": [
            " results:\n",
            "Mean square error: 0.53939\n",
            "Mean absolute error: 0.55933\n",
            "epoch: 22\n"
          ]
        },
        {
          "output_type": "stream",
          "name": "stderr",
          "text": [
            "3310it [05:02, 10.93it/s]                          \n"
          ]
        },
        {
          "output_type": "stream",
          "name": "stdout",
          "text": [
            " results:\n",
            "Mean square error: 0.54506\n",
            "Mean absolute error: 0.56153\n",
            "epoch: 23\n"
          ]
        },
        {
          "output_type": "stream",
          "name": "stderr",
          "text": [
            "3310it [05:03, 10.90it/s]                          \n"
          ]
        },
        {
          "output_type": "stream",
          "name": "stdout",
          "text": [
            " results:\n",
            "Mean square error: 0.53764\n",
            "Mean absolute error: 0.55657\n",
            "epoch: 24\n"
          ]
        },
        {
          "output_type": "stream",
          "name": "stderr",
          "text": [
            "3310it [05:03, 10.90it/s]                          \n"
          ]
        },
        {
          "output_type": "stream",
          "name": "stdout",
          "text": [
            " results:\n",
            "Mean square error: 0.55960\n",
            "Mean absolute error: 0.57182\n",
            "epoch: 25\n"
          ]
        },
        {
          "output_type": "stream",
          "name": "stderr",
          "text": [
            "3310it [05:05, 10.82it/s]                          \n"
          ]
        },
        {
          "output_type": "stream",
          "name": "stdout",
          "text": [
            " results:\n",
            "Mean square error: 0.53414\n",
            "Mean absolute error: 0.55443\n",
            "epoch: 26\n"
          ]
        },
        {
          "output_type": "stream",
          "name": "stderr",
          "text": [
            "3310it [05:05, 10.82it/s]                          \n"
          ]
        },
        {
          "output_type": "stream",
          "name": "stdout",
          "text": [
            " results:\n",
            "Mean square error: 0.54284\n",
            "Mean absolute error: 0.55971\n",
            "epoch: 27\n"
          ]
        },
        {
          "output_type": "stream",
          "name": "stderr",
          "text": [
            "3310it [05:06, 10.81it/s]                          \n"
          ]
        },
        {
          "output_type": "stream",
          "name": "stdout",
          "text": [
            " results:\n",
            "Mean square error: 0.54296\n",
            "Mean absolute error: 0.55913\n",
            "epoch: 28\n"
          ]
        },
        {
          "output_type": "stream",
          "name": "stderr",
          "text": [
            "3310it [05:02, 10.92it/s]                          \n"
          ]
        },
        {
          "output_type": "stream",
          "name": "stdout",
          "text": [
            " results:\n",
            "Mean square error: 0.55901\n",
            "Mean absolute error: 0.56906\n",
            "epoch: 29\n"
          ]
        },
        {
          "output_type": "stream",
          "name": "stderr",
          "text": [
            "3310it [05:03, 10.91it/s]\n"
          ]
        },
        {
          "output_type": "stream",
          "name": "stdout",
          "text": [
            " results:\n",
            "Mean square error: 0.54633\n",
            "Mean absolute error: 0.56251\n",
            "epoch: 30\n"
          ]
        },
        {
          "output_type": "stream",
          "name": "stderr",
          "text": [
            "3310it [05:07, 10.76it/s]                          \n"
          ]
        },
        {
          "output_type": "stream",
          "name": "stdout",
          "text": [
            " results:\n",
            "Mean square error: 0.54905\n",
            "Mean absolute error: 0.56469\n",
            "epoch: 31\n"
          ]
        },
        {
          "output_type": "stream",
          "name": "stderr",
          "text": [
            "3310it [05:05, 10.83it/s]                          \n"
          ]
        },
        {
          "output_type": "stream",
          "name": "stdout",
          "text": [
            " results:\n",
            "Mean square error: 0.58763\n",
            "Mean absolute error: 0.58551\n",
            "epoch: 32\n"
          ]
        },
        {
          "output_type": "stream",
          "name": "stderr",
          "text": [
            "3310it [05:07, 10.75it/s]\n"
          ]
        },
        {
          "output_type": "stream",
          "name": "stdout",
          "text": [
            " results:\n",
            "Mean square error: 0.54917\n",
            "Mean absolute error: 0.56299\n",
            "epoch: 33\n"
          ]
        },
        {
          "output_type": "stream",
          "name": "stderr",
          "text": [
            "3310it [05:07, 10.77it/s]\n"
          ]
        },
        {
          "output_type": "stream",
          "name": "stdout",
          "text": [
            " results:\n",
            "Mean square error: 0.57589\n",
            "Mean absolute error: 0.57858\n",
            "epoch: 34\n"
          ]
        },
        {
          "output_type": "stream",
          "name": "stderr",
          "text": [
            "3310it [05:02, 10.93it/s]\n"
          ]
        },
        {
          "output_type": "stream",
          "name": "stdout",
          "text": [
            " results:\n",
            "Mean square error: 0.55674\n",
            "Mean absolute error: 0.56657\n",
            "epoch: 35\n"
          ]
        },
        {
          "output_type": "stream",
          "name": "stderr",
          "text": [
            " 12%|█▏        | 412/3309 [00:37<04:30, 10.70it/s]"
          ]
        }
      ]
    },
    {
      "cell_type": "code",
      "source": [
        "model = ViewsPredictor().to(DEVICE)\n",
        "criterion = nn.MSELoss(reduction='sum')\n",
        "optimizer = torch.optim.SGD(model.parameters(), lr=1e-4)\n",
        "# early_stopping = EarlyStopping(patience=10, verbose=True, monitor=\"val_loss\")\n",
        "\n",
        "\n",
        "for epoch in range(EPOCHS):\n",
        "    print(f\"epoch: {epoch}\")\n",
        "    model.train()\n",
        "    for i, batch in tqdm(enumerate(\n",
        "            iterate_minibatches(data_train, batch_size=BATCH_SIZE, device=DEVICE)),\n",
        "            total=len(data_train) // BATCH_SIZE\n",
        "        ):\n",
        "        pred = model(batch)\n",
        "        loss = criterion(pred, batch[TARGET_COLUMN].float())\n",
        "        optimizer.zero_grad()\n",
        "        loss.backward()\n",
        "        optimizer.step()\n",
        "        \n",
        "    mse, mae, valid_loss = print_metrics(model, data_val)"
      ],
      "metadata": {
        "colab": {
          "base_uri": "https://localhost:8080/",
          "height": 1000
        },
        "id": "Vd2naxUf5Nle",
        "outputId": "9a6850ac-38dd-44d0-9cd4-eb28dcc60511"
      },
      "execution_count": null,
      "outputs": [
        {
          "output_type": "stream",
          "name": "stdout",
          "text": [
            "epoch: 0\n"
          ]
        },
        {
          "output_type": "stream",
          "name": "stderr",
          "text": [
            "3310it [05:03, 10.90it/s]\n"
          ]
        },
        {
          "output_type": "stream",
          "name": "stdout",
          "text": [
            " results:\n",
            "Mean square error: 1.16580\n",
            "Mean absolute error: 0.85759\n",
            "epoch: 1\n"
          ]
        },
        {
          "output_type": "stream",
          "name": "stderr",
          "text": [
            "3310it [04:59, 11.05it/s]                          \n"
          ]
        },
        {
          "output_type": "stream",
          "name": "stdout",
          "text": [
            " results:\n",
            "Mean square error: 0.97113\n",
            "Mean absolute error: 0.77110\n",
            "epoch: 2\n"
          ]
        },
        {
          "output_type": "stream",
          "name": "stderr",
          "text": [
            "3310it [04:58, 11.10it/s]\n"
          ]
        },
        {
          "output_type": "stream",
          "name": "stdout",
          "text": [
            " results:\n",
            "Mean square error: 0.80312\n",
            "Mean absolute error: 0.68810\n",
            "epoch: 3\n"
          ]
        },
        {
          "output_type": "stream",
          "name": "stderr",
          "text": [
            "3310it [05:00, 11.03it/s]                          \n"
          ]
        },
        {
          "output_type": "stream",
          "name": "stdout",
          "text": [
            " results:\n",
            "Mean square error: 0.71128\n",
            "Mean absolute error: 0.64164\n",
            "epoch: 4\n"
          ]
        },
        {
          "output_type": "stream",
          "name": "stderr",
          "text": [
            "3310it [04:59, 11.06it/s]                          \n"
          ]
        },
        {
          "output_type": "stream",
          "name": "stdout",
          "text": [
            " results:\n",
            "Mean square error: 0.78700\n",
            "Mean absolute error: 0.68898\n",
            "epoch: 5\n"
          ]
        },
        {
          "output_type": "stream",
          "name": "stderr",
          "text": [
            "3310it [04:59, 11.04it/s]                          \n"
          ]
        },
        {
          "output_type": "stream",
          "name": "stdout",
          "text": [
            " results:\n",
            "Mean square error: 0.80465\n",
            "Mean absolute error: 0.70273\n",
            "epoch: 6\n"
          ]
        },
        {
          "output_type": "stream",
          "name": "stderr",
          "text": [
            "3310it [04:58, 11.10it/s]\n"
          ]
        },
        {
          "output_type": "stream",
          "name": "stdout",
          "text": [
            " results:\n",
            "Mean square error: 0.61690\n",
            "Mean absolute error: 0.59953\n",
            "epoch: 7\n"
          ]
        },
        {
          "output_type": "stream",
          "name": "stderr",
          "text": [
            "3310it [04:57, 11.12it/s]\n"
          ]
        },
        {
          "output_type": "stream",
          "name": "stdout",
          "text": [
            " results:\n",
            "Mean square error: 0.56178\n",
            "Mean absolute error: 0.56454\n",
            "epoch: 8\n"
          ]
        },
        {
          "output_type": "stream",
          "name": "stderr",
          "text": [
            "3310it [04:57, 11.13it/s]                          \n"
          ]
        },
        {
          "output_type": "stream",
          "name": "stdout",
          "text": [
            " results:\n",
            "Mean square error: 0.54830\n",
            "Mean absolute error: 0.55722\n",
            "epoch: 9\n"
          ]
        },
        {
          "output_type": "stream",
          "name": "stderr",
          "text": [
            "3310it [04:59, 11.06it/s]                          \n"
          ]
        },
        {
          "output_type": "stream",
          "name": "stdout",
          "text": [
            " results:\n",
            "Mean square error: 0.61290\n",
            "Mean absolute error: 0.60293\n",
            "epoch: 10\n"
          ]
        },
        {
          "output_type": "stream",
          "name": "stderr",
          "text": [
            "3310it [04:58, 11.09it/s]                          \n"
          ]
        },
        {
          "output_type": "stream",
          "name": "stdout",
          "text": [
            " results:\n",
            "Mean square error: 0.52320\n",
            "Mean absolute error: 0.54480\n",
            "epoch: 11\n"
          ]
        },
        {
          "output_type": "stream",
          "name": "stderr",
          "text": [
            "3310it [04:58, 11.10it/s]                          \n"
          ]
        },
        {
          "output_type": "stream",
          "name": "stdout",
          "text": [
            " results:\n",
            "Mean square error: 0.53191\n",
            "Mean absolute error: 0.55036\n",
            "epoch: 12\n"
          ]
        },
        {
          "output_type": "stream",
          "name": "stderr",
          "text": [
            "3310it [04:58, 11.09it/s]                          \n"
          ]
        },
        {
          "output_type": "stream",
          "name": "stdout",
          "text": [
            " results:\n",
            "Mean square error: 0.51783\n",
            "Mean absolute error: 0.54316\n",
            "epoch: 13\n"
          ]
        },
        {
          "output_type": "stream",
          "name": "stderr",
          "text": [
            "3310it [04:56, 11.16it/s]\n"
          ]
        },
        {
          "output_type": "stream",
          "name": "stdout",
          "text": [
            " results:\n",
            "Mean square error: 0.51264\n",
            "Mean absolute error: 0.53945\n",
            "epoch: 14\n"
          ]
        },
        {
          "output_type": "stream",
          "name": "stderr",
          "text": [
            "3310it [04:58, 11.07it/s]                          \n"
          ]
        },
        {
          "output_type": "stream",
          "name": "stdout",
          "text": [
            " results:\n",
            "Mean square error: 0.52347\n",
            "Mean absolute error: 0.54816\n",
            "epoch: 15\n"
          ]
        },
        {
          "output_type": "stream",
          "name": "stderr",
          "text": [
            "3310it [04:59, 11.07it/s]\n"
          ]
        },
        {
          "output_type": "stream",
          "name": "stdout",
          "text": [
            " results:\n",
            "Mean square error: 0.51365\n",
            "Mean absolute error: 0.54100\n",
            "epoch: 16\n"
          ]
        },
        {
          "output_type": "stream",
          "name": "stderr",
          "text": [
            " 12%|█▏        | 381/3309 [00:33<04:20, 11.22it/s]\n"
          ]
        },
        {
          "output_type": "error",
          "ename": "KeyboardInterrupt",
          "evalue": "ignored",
          "traceback": [
            "\u001b[0;31m---------------------------------------------------------------------------\u001b[0m",
            "\u001b[0;31mKeyboardInterrupt\u001b[0m                         Traceback (most recent call last)",
            "\u001b[0;32m<ipython-input-68-612199e3f3a7>\u001b[0m in \u001b[0;36m<module>\u001b[0;34m()\u001b[0m\n\u001b[1;32m     10\u001b[0m     for i, batch in tqdm(enumerate(\n\u001b[1;32m     11\u001b[0m             iterate_minibatches(data_train, batch_size=BATCH_SIZE, device=DEVICE)),\n\u001b[0;32m---> 12\u001b[0;31m             \u001b[0mtotal\u001b[0m\u001b[0;34m=\u001b[0m\u001b[0mlen\u001b[0m\u001b[0;34m(\u001b[0m\u001b[0mdata_train\u001b[0m\u001b[0;34m)\u001b[0m \u001b[0;34m//\u001b[0m \u001b[0mBATCH_SIZE\u001b[0m\u001b[0;34m\u001b[0m\u001b[0;34m\u001b[0m\u001b[0m\n\u001b[0m\u001b[1;32m     13\u001b[0m         ):\n\u001b[1;32m     14\u001b[0m         \u001b[0mpred\u001b[0m \u001b[0;34m=\u001b[0m \u001b[0mmodel\u001b[0m\u001b[0;34m(\u001b[0m\u001b[0mbatch\u001b[0m\u001b[0;34m)\u001b[0m\u001b[0;34m\u001b[0m\u001b[0;34m\u001b[0m\u001b[0m\n",
            "\u001b[0;32m/usr/local/lib/python3.7/dist-packages/tqdm/std.py\u001b[0m in \u001b[0;36m__iter__\u001b[0;34m(self)\u001b[0m\n\u001b[1;32m   1193\u001b[0m \u001b[0;34m\u001b[0m\u001b[0m\n\u001b[1;32m   1194\u001b[0m         \u001b[0;32mtry\u001b[0m\u001b[0;34m:\u001b[0m\u001b[0;34m\u001b[0m\u001b[0;34m\u001b[0m\u001b[0m\n\u001b[0;32m-> 1195\u001b[0;31m             \u001b[0;32mfor\u001b[0m \u001b[0mobj\u001b[0m \u001b[0;32min\u001b[0m \u001b[0miterable\u001b[0m\u001b[0;34m:\u001b[0m\u001b[0;34m\u001b[0m\u001b[0;34m\u001b[0m\u001b[0m\n\u001b[0m\u001b[1;32m   1196\u001b[0m                 \u001b[0;32myield\u001b[0m \u001b[0mobj\u001b[0m\u001b[0;34m\u001b[0m\u001b[0;34m\u001b[0m\u001b[0m\n\u001b[1;32m   1197\u001b[0m                 \u001b[0;31m# Update and possibly print the progressbar.\u001b[0m\u001b[0;34m\u001b[0m\u001b[0;34m\u001b[0m\u001b[0;34m\u001b[0m\u001b[0m\n",
            "\u001b[0;32m<ipython-input-65-ff470014da9e>\u001b[0m in \u001b[0;36miterate_minibatches\u001b[0;34m(data, batch_size, shuffle, cycle, device, **kwargs)\u001b[0m\n\u001b[1;32m      7\u001b[0m \u001b[0;34m\u001b[0m\u001b[0m\n\u001b[1;32m      8\u001b[0m         \u001b[0;32mfor\u001b[0m \u001b[0mstart\u001b[0m \u001b[0;32min\u001b[0m \u001b[0mrange\u001b[0m\u001b[0;34m(\u001b[0m\u001b[0;36m0\u001b[0m\u001b[0;34m,\u001b[0m \u001b[0mlen\u001b[0m\u001b[0;34m(\u001b[0m\u001b[0mindices\u001b[0m\u001b[0;34m)\u001b[0m\u001b[0;34m,\u001b[0m \u001b[0mbatch_size\u001b[0m\u001b[0;34m)\u001b[0m\u001b[0;34m:\u001b[0m\u001b[0;34m\u001b[0m\u001b[0;34m\u001b[0m\u001b[0m\n\u001b[0;32m----> 9\u001b[0;31m             \u001b[0mbatch\u001b[0m \u001b[0;34m=\u001b[0m \u001b[0mmake_batch\u001b[0m\u001b[0;34m(\u001b[0m\u001b[0mdata\u001b[0m\u001b[0;34m.\u001b[0m\u001b[0miloc\u001b[0m\u001b[0;34m[\u001b[0m\u001b[0mindices\u001b[0m\u001b[0;34m[\u001b[0m\u001b[0mstart\u001b[0m \u001b[0;34m:\u001b[0m \u001b[0mstart\u001b[0m \u001b[0;34m+\u001b[0m \u001b[0mbatch_size\u001b[0m\u001b[0;34m]\u001b[0m\u001b[0;34m]\u001b[0m\u001b[0;34m,\u001b[0m \u001b[0;34m**\u001b[0m\u001b[0mkwargs\u001b[0m\u001b[0;34m)\u001b[0m\u001b[0;34m\u001b[0m\u001b[0;34m\u001b[0m\u001b[0m\n\u001b[0m\u001b[1;32m     10\u001b[0m             \u001b[0;32myield\u001b[0m \u001b[0mbatch\u001b[0m\u001b[0;34m\u001b[0m\u001b[0;34m\u001b[0m\u001b[0m\n\u001b[1;32m     11\u001b[0m \u001b[0;34m\u001b[0m\u001b[0m\n",
            "\u001b[0;32m<ipython-input-63-4b48d565fd41>\u001b[0m in \u001b[0;36mmake_batch\u001b[0;34m(data, max_len, word_dropout, device)\u001b[0m\n\u001b[1;32m     27\u001b[0m         \u001b[0mbatch\u001b[0m\u001b[0;34m[\u001b[0m\u001b[0mTARGET_COLUMN\u001b[0m\u001b[0;34m]\u001b[0m \u001b[0;34m=\u001b[0m \u001b[0mdata\u001b[0m\u001b[0;34m[\u001b[0m\u001b[0mTARGET_COLUMN\u001b[0m\u001b[0;34m]\u001b[0m\u001b[0;34m.\u001b[0m\u001b[0mvalues\u001b[0m\u001b[0;34m\u001b[0m\u001b[0;34m\u001b[0m\u001b[0m\n\u001b[1;32m     28\u001b[0m \u001b[0;34m\u001b[0m\u001b[0m\n\u001b[0;32m---> 29\u001b[0;31m     \u001b[0;32mreturn\u001b[0m \u001b[0mto_tensors\u001b[0m\u001b[0;34m(\u001b[0m\u001b[0mbatch\u001b[0m\u001b[0;34m,\u001b[0m \u001b[0mdevice\u001b[0m\u001b[0;34m)\u001b[0m\u001b[0;34m\u001b[0m\u001b[0;34m\u001b[0m\u001b[0m\n\u001b[0m\u001b[1;32m     30\u001b[0m \u001b[0;34m\u001b[0m\u001b[0m\n\u001b[1;32m     31\u001b[0m \u001b[0;34m\u001b[0m\u001b[0m\n",
            "\u001b[0;32m<ipython-input-63-4b48d565fd41>\u001b[0m in \u001b[0;36mto_tensors\u001b[0;34m(batch, device)\u001b[0m\n\u001b[1;32m      3\u001b[0m     \u001b[0;32mfor\u001b[0m \u001b[0mkey\u001b[0m\u001b[0;34m,\u001b[0m \u001b[0marr\u001b[0m \u001b[0;32min\u001b[0m \u001b[0mbatch\u001b[0m\u001b[0;34m.\u001b[0m\u001b[0mitems\u001b[0m\u001b[0;34m(\u001b[0m\u001b[0;34m)\u001b[0m\u001b[0;34m:\u001b[0m\u001b[0;34m\u001b[0m\u001b[0;34m\u001b[0m\u001b[0m\n\u001b[1;32m      4\u001b[0m         \u001b[0;32mif\u001b[0m \u001b[0mkey\u001b[0m \u001b[0;32min\u001b[0m \u001b[0;34m[\u001b[0m\u001b[0;34m\"description\"\u001b[0m\u001b[0;34m,\u001b[0m \u001b[0;34m\"title\"\u001b[0m\u001b[0;34m,\u001b[0m \u001b[0;34m'tags'\u001b[0m\u001b[0;34m]\u001b[0m\u001b[0;34m:\u001b[0m\u001b[0;34m\u001b[0m\u001b[0;34m\u001b[0m\u001b[0m\n\u001b[0;32m----> 5\u001b[0;31m             \u001b[0mbatch_tensors\u001b[0m\u001b[0;34m[\u001b[0m\u001b[0mkey\u001b[0m\u001b[0;34m]\u001b[0m \u001b[0;34m=\u001b[0m \u001b[0mtorch\u001b[0m\u001b[0;34m.\u001b[0m\u001b[0mtensor\u001b[0m\u001b[0;34m(\u001b[0m\u001b[0marr\u001b[0m\u001b[0;34m,\u001b[0m \u001b[0mdtype\u001b[0m\u001b[0;34m=\u001b[0m\u001b[0mtorch\u001b[0m\u001b[0;34m.\u001b[0m\u001b[0mint64\u001b[0m\u001b[0;34m,\u001b[0m \u001b[0mdevice\u001b[0m\u001b[0;34m=\u001b[0m\u001b[0mdevice\u001b[0m\u001b[0;34m)\u001b[0m\u001b[0;34m\u001b[0m\u001b[0;34m\u001b[0m\u001b[0m\n\u001b[0m\u001b[1;32m      6\u001b[0m         \u001b[0;32melse\u001b[0m\u001b[0;34m:\u001b[0m\u001b[0;34m\u001b[0m\u001b[0;34m\u001b[0m\u001b[0m\n\u001b[1;32m      7\u001b[0m             \u001b[0mbatch_tensors\u001b[0m\u001b[0;34m[\u001b[0m\u001b[0mkey\u001b[0m\u001b[0;34m]\u001b[0m \u001b[0;34m=\u001b[0m \u001b[0mtorch\u001b[0m\u001b[0;34m.\u001b[0m\u001b[0mtensor\u001b[0m\u001b[0;34m(\u001b[0m\u001b[0marr\u001b[0m\u001b[0;34m,\u001b[0m \u001b[0mdevice\u001b[0m\u001b[0;34m=\u001b[0m\u001b[0mdevice\u001b[0m\u001b[0;34m)\u001b[0m\u001b[0;34m\u001b[0m\u001b[0;34m\u001b[0m\u001b[0m\n",
            "\u001b[0;31mKeyboardInterrupt\u001b[0m: "
          ]
        }
      ]
    },
    {
      "cell_type": "code",
      "source": [
        "torch.save(model.state_dict(), 'Data1_ru.pt')"
      ],
      "metadata": {
        "id": "AVmsvs65q8TI"
      },
      "execution_count": null,
      "outputs": []
    },
    {
      "cell_type": "code",
      "source": [
        "model2 = ViewsPredictor().to(DEVICE)\n",
        "model2.load_state_dict(torch.load('Data1_ru.pt'))\n",
        "model2.eval()"
      ],
      "metadata": {
        "colab": {
          "base_uri": "https://localhost:8080/"
        },
        "id": "1dC2u1yVrBqf",
        "outputId": "0a82b291-a00f-4a4f-f02b-ca923595b72e"
      },
      "execution_count": null,
      "outputs": [
        {
          "output_type": "execute_result",
          "data": {
            "text/plain": [
              "ViewsPredictor(\n",
              "  (embedding): Embedding(120529, 64, padding_idx=0, max_norm=5.0)\n",
              "  (convs): ModuleList(\n",
              "    (0): Conv2d(1, 100, kernel_size=(1, 64), stride=(1, 1))\n",
              "    (1): Conv2d(1, 100, kernel_size=(2, 64), stride=(1, 1))\n",
              "    (2): Conv2d(1, 100, kernel_size=(3, 64), stride=(1, 1))\n",
              "    (3): Conv2d(1, 100, kernel_size=(4, 64), stride=(1, 1))\n",
              "  )\n",
              "  (lstm): LSTM(64, 64, batch_first=True, bidirectional=True)\n",
              "  (fc): Linear(in_features=128, out_features=100, bias=True)\n",
              "  (hidden): Linear(in_features=200, out_features=100, bias=True)\n",
              "  (max_pool): AdaptiveMaxPool1d(output_size=2)\n",
              "  (avg_pool): AdaptiveAvgPool1d(output_size=2)\n",
              "  (categories1): Linear(in_features=35, out_features=300, bias=True)\n",
              "  (norm_cat): BatchNorm1d(300, eps=1e-05, momentum=0.1, affine=True, track_running_stats=True)\n",
              "  (categories2): Linear(in_features=300, out_features=100, bias=True)\n",
              "  (relu): ReLU()\n",
              "  (dropout): Dropout(p=0.5, inplace=False)\n",
              "  (fc1): Linear(in_features=4900, out_features=64, bias=True)\n",
              "  (fc2): Linear(in_features=64, out_features=1, bias=True)\n",
              ")"
            ]
          },
          "metadata": {},
          "execution_count": 278
        }
      ]
    },
    {
      "cell_type": "code",
      "source": [
        "torch.save(model.state_dict(), 'Data1_en.pt')"
      ],
      "metadata": {
        "id": "uUETRLMu-u1b"
      },
      "execution_count": null,
      "outputs": []
    },
    {
      "cell_type": "code",
      "source": [
        "model1 = ViewsPredictor().to(DEVICE)\n",
        "model1.load_state_dict(torch.load('Data1_en.pt'))\n",
        "model1.eval()"
      ],
      "metadata": {
        "colab": {
          "base_uri": "https://localhost:8080/"
        },
        "id": "fCkVrodk_dvj",
        "outputId": "3e0eed28-d313-4e7c-858c-9abccb0161be"
      },
      "execution_count": null,
      "outputs": [
        {
          "output_type": "execute_result",
          "data": {
            "text/plain": [
              "ViewsPredictor(\n",
              "  (embedding): Embedding(82378, 64, padding_idx=0, max_norm=5.0)\n",
              "  (convs): ModuleList(\n",
              "    (0): Conv2d(1, 100, kernel_size=(1, 64), stride=(1, 1))\n",
              "    (1): Conv2d(1, 100, kernel_size=(2, 64), stride=(1, 1))\n",
              "    (2): Conv2d(1, 100, kernel_size=(3, 64), stride=(1, 1))\n",
              "    (3): Conv2d(1, 100, kernel_size=(4, 64), stride=(1, 1))\n",
              "  )\n",
              "  (lstm): LSTM(64, 64, batch_first=True, bidirectional=True)\n",
              "  (fc): Linear(in_features=128, out_features=100, bias=True)\n",
              "  (hidden): Linear(in_features=200, out_features=100, bias=True)\n",
              "  (max_pool): AdaptiveMaxPool1d(output_size=2)\n",
              "  (avg_pool): AdaptiveAvgPool1d(output_size=2)\n",
              "  (categories1): Linear(in_features=35, out_features=300, bias=True)\n",
              "  (norm_cat): BatchNorm1d(300, eps=1e-05, momentum=0.1, affine=True, track_running_stats=True)\n",
              "  (categories2): Linear(in_features=300, out_features=100, bias=True)\n",
              "  (relu): ReLU()\n",
              "  (dropout): Dropout(p=0.5, inplace=False)\n",
              "  (fc1): Linear(in_features=4900, out_features=64, bias=True)\n",
              "  (fc2): Linear(in_features=64, out_features=1, bias=True)\n",
              ")"
            ]
          },
          "metadata": {},
          "execution_count": 239
        }
      ]
    },
    {
      "cell_type": "markdown",
      "metadata": {
        "id": "ur69eEOwGBVS"
      },
      "source": [
        "## Explain"
      ]
    },
    {
      "cell_type": "code",
      "source": [
        "def explain(model, sample, col_name='Title'):\n",
        "    \"\"\" Computes the effect each word had on model predictions \"\"\"\n",
        "    sample = dict(sample)\n",
        "    sample_col_tokens = [tokens[token_to_id.get(tok, 0)] for tok in sample[col_name].split()]\n",
        "    data_drop_one_token = pd.DataFrame([sample] * (len(sample_col_tokens) + 1))\n",
        "\n",
        "    for drop_i in range(len(sample_col_tokens)):\n",
        "        data_drop_one_token.loc[drop_i, col_name] = ' '.join(UNK if i == drop_i else tok\n",
        "                                                   for i, tok in enumerate(sample_col_tokens)) \n",
        "    \n",
        "    *predictions_drop_one_token, baseline_pred = model(make_batch(data_drop_one_token)).detach().cpu().numpy()\n",
        "    diffs = baseline_pred - predictions_drop_one_token\n",
        "    if col_name == 'title':\n",
        "        print('Prediction:', baseline_pred, '\\tExp:', np.exp(baseline_pred))\n",
        "    return list(zip(sample_col_tokens, diffs))"
      ],
      "metadata": {
        "id": "45byulYdou6o"
      },
      "execution_count": null,
      "outputs": []
    },
    {
      "cell_type": "code",
      "execution_count": null,
      "metadata": {
        "id": "yjUplRiyGBVV"
      },
      "outputs": [],
      "source": [
        "from IPython.display import HTML, display_html\n",
        "\n",
        "\n",
        "def draw_html(tokens_and_weights, cmap=plt.get_cmap(\"bwr\"), display=True,\n",
        "              token_template=\"\"\"<span style=\"background-color: {color_hex}\">{token}</span>\"\"\",\n",
        "              font_style=\"font-size:14px;\"\n",
        "             ):\n",
        "    \n",
        "    def get_color_hex(weight):\n",
        "#         синий -- супер, красный -- не очень\n",
        "        rgba = cmap(1. / (1 + np.exp(weight)), bytes=True)\n",
        "        return '#%02X%02X%02X' % rgba[:3]\n",
        "    \n",
        "    tokens_html = [\n",
        "        token_template.format(token=token, color_hex=get_color_hex(weight))\n",
        "        for token, weight in tokens_and_weights\n",
        "    ]\n",
        "    \n",
        "    raw_html = \"\"\"<p style=\"{}\">{}</p>\"\"\".format(font_style, ' '.join(tokens_html))\n",
        "    if display:\n",
        "        display_html(HTML(raw_html))\n",
        "        \n",
        "    return raw_html"
      ]
    },
    {
      "cell_type": "code",
      "execution_count": null,
      "metadata": {
        "colab": {
          "base_uri": "https://localhost:8080/",
          "height": 154
        },
        "id": "7S7jK_pFGBVV",
        "outputId": "d022ce0a-7df8-4ee7-8847-c9da21b1e103"
      },
      "outputs": [
        {
          "output_type": "stream",
          "name": "stdout",
          "text": [
            "Prediction: 13.308265 \tExp: 602151.75\n"
          ]
        },
        {
          "output_type": "display_data",
          "data": {
            "text/html": [
              "<p style=\"font-size:20px;\"><span style=\"background-color: #FFFEFE\">UNK</span> <span style=\"background-color: #FFE2E2\">2</span> <span style=\"background-color: #FFEAEA\">.</span> <span style=\"background-color: #FFE0E0\">0</span> <span style=\"background-color: #FFFAFA\">trent</span> <span style=\"background-color: #CECEFF\">alexander</span> <span style=\"background-color: #F2F2FF\">-</span> <span style=\"background-color: #FEFEFF\">arnold</span> <span style=\"background-color: #FFD6D6\">&</span> <span style=\"background-color: #EAEAFF\">curtis</span> <span style=\"background-color: #FFE6E6\">jones</span> <span style=\"background-color: #FAFAFF\">|</span> <span style=\"background-color: #FFEEEE\">'</span> <span style=\"background-color: #FFFEFE\">i</span> <span style=\"background-color: #FCFCFF\">'</span> <span style=\"background-color: #FFF6F6\">d</span> <span style=\"background-color: #FFE8E8\">love</span> <span style=\"background-color: #FFF8F8\">to</span> <span style=\"background-color: #FFF6F6\">go</span> <span style=\"background-color: #FFF2F2\">back</span> <span style=\"background-color: #F3F3FF\">in</span> <span style=\"background-color: #F2F2FF\">time</span> <span style=\"background-color: #FFFCFC\">'</span></p>"
            ]
          },
          "metadata": {}
        },
        {
          "output_type": "display_data",
          "data": {
            "text/html": [
              "<p style=\"font-size:14px;\"><span style=\"background-color: #FEFEFF\">UNK</span> <span style=\"background-color: #FFFCFC\">grimes</span> <span style=\"background-color: #FFF6F6\">joins</span> <span style=\"background-color: #F0F0FF\">the</span> <span style=\"background-color: #FEFEFF\">reds</span> <span style=\"background-color: #EAEAFF\">duo</span> <span style=\"background-color: #DADAFF\">trent</span> <span style=\"background-color: #F3F3FF\">alexander</span> <span style=\"background-color: #F6F6FF\">-</span> <span style=\"background-color: #F8F8FF\">arnold</span> <span style=\"background-color: #FFFCFC\">and</span> <span style=\"background-color: #FFE0E0\">curtis</span> <span style=\"background-color: #FFD8D8\">jones</span> <span style=\"background-color: #FFEEEE\">as</span> <span style=\"background-color: #E0E0FF\">they</span> <span style=\"background-color: #DEDEFF\">test</span> <span style=\"background-color: #FFE8E8\">their</span> <span style=\"background-color: #FFE8E8\">friendship</span> <span style=\"background-color: #FFFEFE\">in</span> <span style=\"background-color: #FFEAEA\">an</span> <span style=\"background-color: #FCFCFF\">all</span> <span style=\"background-color: #FCFCFF\">-</span> <span style=\"background-color: #FFFCFC\">new</span> <span style=\"background-color: #FEFEFF\">UNK</span> <span style=\"background-color: #FEFEFF\">.</span> <span style=\"background-color: #E6E6FF\">we</span> <span style=\"background-color: #E8E8FF\">see</span> <span style=\"background-color: #FFF2F2\">how</span> <span style=\"background-color: #FFEAEA\">much</span> <span style=\"background-color: #FFECEC\">they</span> <span style=\"background-color: #FFCECE\">know</span> <span style=\"background-color: #FFECEC\">about</span> <span style=\"background-color: #FFE8E8\">each</span> <span style=\"background-color: #DEDEFF\">other</span> <span style=\"background-color: #FCFCFF\">and</span> <span style=\"background-color: #FFFAFA\">their</span> <span style=\"background-color: #FFFAFA\">teammates</span> <span style=\"background-color: #E8E8FF\">before</span> <span style=\"background-color: #CECEFF\">some</span> <span style=\"background-color: #C0C0FF\">classic</span> <span style=\"background-color: #FFFEFE\">UNK</span> <span style=\"background-color: #F3F3FF\">action</span> <span style=\"background-color: #FEFEFF\">.</span> <span style=\"background-color: #FFFAFA\">get</span> <span style=\"background-color: #ECECFF\">full</span> <span style=\"background-color: #F8F8FF\">-</span> <span style=\"background-color: #FEFEFF\">match</span> <span style=\"background-color: #F8F8FF\">replays</span> <span style=\"background-color: #EAEAFF\">,</span> <span style=\"background-color: #FFFAFA\">exclusive</span> <span style=\"background-color: #E6E6FF\">training</span> <span style=\"background-color: #EAEAFF\">access</span> <span style=\"background-color: #EEEEFF\">and</span> <span style=\"background-color: #F8F8FF\">so</span> <span style=\"background-color: #F0F0FF\">much</span> <span style=\"background-color: #F6F6FF\">more</span> <span style=\"background-color: #FEFEFF\">on</span> <span style=\"background-color: #FFF6F6\">lfctv</span> <span style=\"background-color: #FFF6F6\">go</span> <span style=\"background-color: #FEFEFF\">.</span> <span style=\"background-color: #FFF2F2\">use</span> <span style=\"background-color: #FFFAFA\">the</span> <span style=\"background-color: #FFFEFE\">code</span> <span style=\"background-color: #F6F6FF\">2122gofree</span> <span style=\"background-color: #FFFEFE\">to</span> <span style=\"background-color: #FEFEFF\">get</span> <span style=\"background-color: #FFFEFE\">your</span> <span style=\"background-color: #FCFCFF\">first</span> <span style=\"background-color: #FFFCFC\">month</span> <span style=\"background-color: #FFFEFE\">free</span> <span style=\"background-color: #FCFCFF\">!</span> <span style=\"background-color: #FFFEFE\">more</span> <span style=\"background-color: #FEFEFF\">content</span> <span style=\"background-color: #FEFEFF\">and</span> <span style=\"background-color: #FAFAFF\">get</span> <span style=\"background-color: #FEFEFF\">exclusive</span> <span style=\"background-color: #FCFCFF\">perks</span> <span style=\"background-color: #FFF8F8\">in</span> <span style=\"background-color: #FFF6F6\">our</span> <span style=\"background-color: #FFFEFE\">liverpool</span> <span style=\"background-color: #FFFEFE\">fc</span> <span style=\"background-color: #FCFCFF\">members</span> <span style=\"background-color: #FEFEFF\">area</span> <span style=\"background-color: #FAFAFF\">,</span> <span style=\"background-color: #FEFEFF\">click</span> <span style=\"background-color: #F3F3FF\">here</span> <span style=\"background-color: #FAFAFF\">to</span> <span style=\"background-color: #F6F6FF\">find</span> <span style=\"background-color: #F6F6FF\">out</span> <span style=\"background-color: #FFFEFE\">more</span> <span style=\"background-color: #FEFEFF\">:</span> <span style=\"background-color: #FFFEFE\">now</span> <span style=\"background-color: #FCFCFF\">to</span> <span style=\"background-color: #FFFEFE\">liverpool</span> <span style=\"background-color: #FFFAFA\">fc</span> <span style=\"background-color: #FCFCFF\">on</span> <span style=\"background-color: #FAFAFF\">youtube</span> <span style=\"background-color: #FCFCFF\">,</span> <span style=\"background-color: #FAFAFF\">and</span> <span style=\"background-color: #F8F8FF\">get</span> <span style=\"background-color: #F2F2FF\">notified</span> <span style=\"background-color: #F3F3FF\">when</span> <span style=\"background-color: #FEFEFF\">new</span> <span style=\"background-color: #FEFEFF\">videos</span> <span style=\"background-color: #F3F3FF\">land</span> <span style=\"background-color: #FEFEFF\">:</span> <span style=\"background-color: #FFFEFE\">#</span> <span style=\"background-color: #FFFEFE\">lfc</span> <span style=\"background-color: #FFFEFE\">#</span> <span style=\"background-color: #FFFEFE\">UNK</span></p>"
            ]
          },
          "metadata": {}
        },
        {
          "output_type": "display_data",
          "data": {
            "text/html": [
              "<p style=\"font-size:14px;\"><span style=\"background-color: #D6D6FF\">liverpoolfc</span> <span style=\"background-color: #B3B3FF\">lfc</span> <span style=\"background-color: #B8B8FF\">liverpool</span> <span style=\"background-color: #C6C6FF\">anfield</span> <span style=\"background-color: #FFFAFA\">melwood</span> <span style=\"background-color: #F6F6FF\">liverpoolfootballclub</span> <span style=\"background-color: #FFFCFC\">premierleague</span> <span style=\"background-color: #FFF0F0\">kloppliverpool</span> <span style=\"background-color: #FFEEEE\">klopp</span> <span style=\"background-color: #F6F6FF\">insidelfc</span></p>"
            ]
          },
          "metadata": {}
        },
        {
          "output_type": "stream",
          "name": "stdout",
          "text": [
            "Actual: 13.081079 \tExp: 479778.107519241\n"
          ]
        }
      ],
      "source": [
        "i = np.random.randint(len(data))\n",
        "tokens_and_weights = explain(model1, data.loc[i], \"title\")\n",
        "draw_html([(tok, weight * 2) for tok, weight in tokens_and_weights], font_style='font-size:20px;');\n",
        "\n",
        "tokens_and_weights = explain(model1, data.loc[i], \"description\")\n",
        "draw_html([(tok, weight * 2) for tok, weight in tokens_and_weights]);\n",
        "\n",
        "tokens_and_weights = explain(model1, data.loc[i], \"tags\")\n",
        "draw_html([(tok, weight * 2) for tok, weight in tokens_and_weights])\n",
        "\n",
        "act = data.loc[i, TARGET_COLUMN]\n",
        "\n",
        "# print('Prediction:', pred, '\\tExp:', np.exp(pred))\n",
        "print('Actual:', act, '\\tExp:', np.exp(act))\n"
      ]
    },
    {
      "cell_type": "code",
      "source": [
        "i = np.random.randint(len(data))\n",
        "tokens_and_weights = explain(model2, data.loc[i], \"title\")\n",
        "draw_html([(tok, weight * 2) for tok, weight in tokens_and_weights], font_style='font-size:20px;');\n",
        "\n",
        "tokens_and_weights = explain(model2, data.loc[i], \"description\")\n",
        "draw_html([(tok, weight * 2) for tok, weight in tokens_and_weights]);\n",
        "\n",
        "tokens_and_weights = explain(model2, data.loc[i], \"tags\")\n",
        "draw_html([(tok, weight * 2) for tok, weight in tokens_and_weights])\n",
        "\n",
        "act = data.loc[i, TARGET_COLUMN]\n",
        "\n",
        "# print('Prediction:', pred, '\\tExp:', np.exp(pred))\n",
        "print('Actual:', act, '\\tExp:', np.exp(act))\n"
      ],
      "metadata": {
        "id": "9ahDXSHdopnA",
        "colab": {
          "base_uri": "https://localhost:8080/",
          "height": 188
        },
        "outputId": "d791f139-1af5-4a78-e429-0663dde316de"
      },
      "execution_count": null,
      "outputs": [
        {
          "output_type": "stream",
          "name": "stdout",
          "text": [
            "Prediction: 12.014625 \tExp: 165152.5\n"
          ]
        },
        {
          "output_type": "display_data",
          "data": {
            "text/html": [
              "<p style=\"font-size:20px;\"><span style=\"background-color: #FFECEC\">hustle</span> <span style=\"background-color: #FFF6F6\">mma</span> <span style=\"background-color: #F6F6FF\">#</span> <span style=\"background-color: #FFF8F8\">18</span> <span style=\"background-color: #F3F3FF\">/</span> <span style=\"background-color: #F8F8FF\">мариф</span> <span style=\"background-color: #FCFCFF\">пираев</span> <span style=\"background-color: #FFFAFA\">/</span> <span style=\"background-color: #FCFCFF\">(</span> <span style=\"background-color: #FFFCFC\">дедищев</span> <span style=\"background-color: #FFFEFE\">,</span> <span style=\"background-color: #FCFCFF\">байцаев</span> <span style=\"background-color: #FFFEFE\">,</span> <span style=\"background-color: #FAFAFF\">зубайраев</span> <span style=\"background-color: #FFFAFA\">)</span></p>"
            ]
          },
          "metadata": {}
        },
        {
          "output_type": "display_data",
          "data": {
            "text/html": [
              "<p style=\"font-size:14px;\"><span style=\"background-color: #FCFCFF\">новый</span> <span style=\"background-color: #FFF4F4\">гость</span> <span style=\"background-color: #FFEEEE\">hustle</span> <span style=\"background-color: #FFF6F6\">mma</span> <span style=\"background-color: #FFFEFE\">,</span> <span style=\"background-color: #FFEEEE\">мариф</span> <span style=\"background-color: #FFF2F2\">пираев</span> <span style=\"background-color: #FFFCFC\">!</span> <span style=\"background-color: #FFF8F8\">говорим</span> <span style=\"background-color: #FFF2F2\">о</span> <span style=\"background-color: #FFFCFC\">бое</span> <span style=\"background-color: #F8F8FF\">с</span> <span style=\"background-color: #FEFEFF\">персом</span> <span style=\"background-color: #FFFEFE\">,</span> <span style=\"background-color: #FEFEFF\">планах</span> <span style=\"background-color: #FFFEFE\">на</span> <span style=\"background-color: #F8F8FF\">будущее</span> <span style=\"background-color: #FFFCFC\">,</span> <span style=\"background-color: #F0F0FF\">сборах</span> <span style=\"background-color: #EEEEFF\">в</span> <span style=\"background-color: #F0F0FF\">сша</span> <span style=\"background-color: #FEFEFF\">и</span> <span style=\"background-color: #FFEEEE\">где</span> <span style=\"background-color: #FFF2F2\">еда</span> <span style=\"background-color: #F2F2FF\">вкуснее</span> <span style=\"background-color: #F3F3FF\">.</span> <span style=\"background-color: #F2F2FF\">залетайте</span> <span style=\"background-color: #FFF6F6\">на</span> <span style=\"background-color: #F6F6FF\">разговор</span> <span style=\"background-color: #FEFEFF\">#</span> <span style=\"background-color: #F6F6FF\">hustlemma</span> <span style=\"background-color: #FFFEFE\">.</span> <span style=\"background-color: #F8F8FF\">#</span> <span style=\"background-color: #F6F6FF\">пираев</span> <span style=\"background-color: #E6E6FF\">#</span> <span style=\"background-color: #FAFAFF\">хасл</span> <span style=\"background-color: #FFF6F6\">#</span> <span style=\"background-color: #FAFAFF\">ммакоманда</span> <span style=\"background-color: #FFFCFC\">hustle</span> <span style=\"background-color: #FFF4F4\">mma</span> <span style=\"background-color: #FFF0F0\">выражает</span> <span style=\"background-color: #FFDEDE\">отдельный</span> <span style=\"background-color: #FFE6E6\">respect</span> <span style=\"background-color: #ECECFF\">«</span> <span style=\"background-color: #F2F2FF\">hajime</span> <span style=\"background-color: #F0F0FF\">records</span> <span style=\"background-color: #F8F8FF\">»</span> <span style=\"background-color: #F8F8FF\">паша</span> <span style=\"background-color: #FFF8F8\">:</span> <span style=\"background-color: #FFFEFE\">мариф</span> <span style=\"background-color: #FFFCFC\">:</span> <span style=\"background-color: #FFFCFC\">mma</span> <span style=\"background-color: #FFFCFC\">:</span> <span style=\"background-color: #FFFEFE\">начало</span> <span style=\"background-color: #FAFAFF\">03</span> <span style=\"background-color: #FCFCFF\">:</span> <span style=\"background-color: #FFECEC\">00</span> <span style=\"background-color: #FFF2F2\">история</span> <span style=\"background-color: #FFEEEE\">с</span> <span style=\"background-color: #FFFAFA\">персидским</span> <span style=\"background-color: #FEFEFF\">дагестанцем</span> <span style=\"background-color: #FFEEEE\">07</span> <span style=\"background-color: #FFF0F0\">:</span> <span style=\"background-color: #FFE8E8\">38</span> <span style=\"background-color: #FFECEC\">жирная</span> <span style=\"background-color: #FFFEFE\">UNK</span> <span style=\"background-color: #FFFAFA\">с</span> <span style=\"background-color: #F8F8FF\">персом</span> <span style=\"background-color: #F8F8FF\">08</span> <span style=\"background-color: #F6F6FF\">:</span> <span style=\"background-color: #F8F8FF\">30</span> <span style=\"background-color: #FFF4F4\">отношение</span> <span style=\"background-color: #FFF0F0\">к</span> <span style=\"background-color: #FFFEFE\">боям</span> <span style=\"background-color: #FFEEEE\">13</span> <span style=\"background-color: #F0F0FF\">:</span> <span style=\"background-color: #FCFCFF\">30</span> <span style=\"background-color: #FFFAFA\">сложности</span> <span style=\"background-color: #FFFEFE\">UNK</span> <span style=\"background-color: #F2F2FF\">17</span> <span style=\"background-color: #F8F8FF\">:</span> <span style=\"background-color: #FFFAFA\">28</span> <span style=\"background-color: #FFF8F8\">зачем</span> <span style=\"background-color: #FFE4E4\">удалил</span> <span style=\"background-color: #FFF4F4\">ковалёва</span> <span style=\"background-color: #FCFCFF\">18</span> <span style=\"background-color: #FCFCFF\">:</span> <span style=\"background-color: #F2F2FF\">44</span> <span style=\"background-color: #FFF8F8\">планы</span> <span style=\"background-color: #FFFEFE\">уйти</span> <span style=\"background-color: #FFECEC\">из</span> <span style=\"background-color: #F3F3FF\">поп</span> <span style=\"background-color: #D6D6FF\">мма</span> <span style=\"background-color: #D8D8FF\">24</span> <span style=\"background-color: #E8E8FF\">:</span> <span style=\"background-color: #EEEEFF\">50</span> <span style=\"background-color: #FFFEFE\">стердаун</span> <span style=\"background-color: #FAFAFF\">с</span> <span style=\"background-color: #FFFAFA\">резниковым</span> <span style=\"background-color: #E6E6FF\">26</span> <span style=\"background-color: #E3E3FF\">:</span> <span style=\"background-color: #E2E2FF\">26</span> <span style=\"background-color: #ECECFF\">разделение</span> <span style=\"background-color: #FFFEFE\">UNK</span> <span style=\"background-color: #FEFEFF\">.</span> <span style=\"background-color: #FFECEC\">бой</span> <span style=\"background-color: #EEEEFF\">за</span> <span style=\"background-color: #FFEEEE\">пояс</span> <span style=\"background-color: #F2F2FF\">31</span> <span style=\"background-color: #FFF6F6\">:</span> <span style=\"background-color: #FFF4F4\">00</span> <span style=\"background-color: #FFECEC\">про</span> <span style=\"background-color: #FAFAFF\">фанатов</span> <span style=\"background-color: #FEFEFF\">33</span> <span style=\"background-color: #FFFCFC\">:</span> <span style=\"background-color: #FCFCFF\">35</span> <span style=\"background-color: #FAFAFF\">цель</span> <span style=\"background-color: #FCFCFF\">марифа</span> <span style=\"background-color: #F8F8FF\">33</span> <span style=\"background-color: #F6F6FF\">:</span> <span style=\"background-color: #F8F8FF\">55</span> <span style=\"background-color: #FCFCFF\">бой</span> <span style=\"background-color: #FEFEFF\">сульянов</span> <span style=\"background-color: #FEFEFF\">-</span> <span style=\"background-color: #FEFEFF\">регбист</span> <span style=\"background-color: #FEFEFF\">35</span> <span style=\"background-color: #FEFEFF\">:</span> <span style=\"background-color: #FEFEFF\">20</span> <span style=\"background-color: #FFFEFE\">заур</span> <span style=\"background-color: #FEFEFF\">и</span> <span style=\"background-color: #FFFAFA\">адам</span> <span style=\"background-color: #FFF8F8\">спорят</span> <span style=\"background-color: #FFF8F8\">о</span> <span style=\"background-color: #FEFEFF\">поп</span> <span style=\"background-color: #FFFEFE\">мма</span> <span style=\"background-color: #FFFCFC\">45</span> <span style=\"background-color: #FFFCFC\">:</span> <span style=\"background-color: #FFFCFC\">30</span> <span style=\"background-color: #FFFAFA\">про</span> <span style=\"background-color: #FEFEFF\">грязь</span> <span style=\"background-color: #FEFEFF\">и</span> <span style=\"background-color: #FEFEFF\">оскорбления</span> <span style=\"background-color: #FEFEFF\">47</span> <span style=\"background-color: #FCFCFF\">:</span> <span style=\"background-color: #FEFEFF\">12</span> <span style=\"background-color: #FCFCFF\">реклама</span> <span style=\"background-color: #FFFCFC\">47</span> <span style=\"background-color: #FEFEFF\">:</span> <span style=\"background-color: #FFFEFE\">30</span> <span style=\"background-color: #FEFEFF\">пресс</span> <span style=\"background-color: #FEFEFF\">конференции</span> <span style=\"background-color: #FCFCFF\">.</span> <span style=\"background-color: #FAFAFF\">все</span> <span style=\"background-color: #FFFEFE\">прописано</span> <span style=\"background-color: #FFFEFE\">заранее</span> <span style=\"background-color: #FEFEFF\">?</span> <span style=\"background-color: #FEFEFF\">49</span> <span style=\"background-color: #FAFAFF\">:</span> <span style=\"background-color: #FFFCFC\">00</span> <span style=\"background-color: #FFFAFA\">что</span> <span style=\"background-color: #FFFEFE\">с</span> <span style=\"background-color: #FFFCFC\">моряком</span> <span style=\"background-color: #FFFEFE\">?</span> <span style=\"background-color: #FFFEFE\">52</span> <span style=\"background-color: #FEFEFF\">:</span> <span style=\"background-color: #FFFCFC\">30</span> <span style=\"background-color: #FFFCFC\">просьбы</span> <span style=\"background-color: #FCFCFF\">к</span> <span style=\"background-color: #F8F8FF\">марифу</span> <span style=\"background-color: #FFFEFE\">1</span> <span style=\"background-color: #FEFEFF\">:</span> <span style=\"background-color: #FFFEFE\">00</span> <span style=\"background-color: #FEFEFF\">:</span> <span style=\"background-color: #FFFEFE\">36</span> <span style=\"background-color: #FFFAFA\">ещё</span> <span style=\"background-color: #FFF8F8\">про</span> <span style=\"background-color: #FFFCFC\">бой</span> <span style=\"background-color: #FFF8F8\">с</span> <span style=\"background-color: #FEFEFF\">персом</span> <span style=\"background-color: #FAFAFF\">1</span> <span style=\"background-color: #FAFAFF\">:</span> <span style=\"background-color: #FAFAFF\">02</span> <span style=\"background-color: #FEFEFF\">:</span> <span style=\"background-color: #FFFEFE\">20</span> <span style=\"background-color: #FEFEFF\">история</span> <span style=\"background-color: #FFFEFE\">про</span> <span style=\"background-color: #FEFEFF\">расула</span> <span style=\"background-color: #FFFEFE\">мирзаева</span> <span style=\"background-color: #FFFCFC\">1</span> <span style=\"background-color: #FEFEFF\">:</span> <span style=\"background-color: #FCFCFF\">10</span> <span style=\"background-color: #FAFAFF\">:</span> <span style=\"background-color: #FEFEFF\">55</span> <span style=\"background-color: #FAFAFF\">бойцы</span> <span style=\"background-color: #FEFEFF\">из</span> <span style=\"background-color: #FEFEFF\">ufc</span> <span style=\"background-color: #FEFEFF\">в</span> <span style=\"background-color: #FEFEFF\">россии</span> <span style=\"background-color: #FFFEFE\">1</span> <span style=\"background-color: #FCFCFF\">:</span> <span style=\"background-color: #FEFEFF\">12</span> <span style=\"background-color: #FCFCFF\">:</span> <span style=\"background-color: #FFFCFC\">20</span> <span style=\"background-color: #FFFEFE\">сборы</span> <span style=\"background-color: #FFFCFC\">в</span> <span style=\"background-color: #FFFAFA\">сша</span> <span style=\"background-color: #FFFAFA\">1</span> <span style=\"background-color: #FEFEFF\">:</span> <span style=\"background-color: #FFFEFE\">17</span> <span style=\"background-color: #FEFEFF\">:</span> <span style=\"background-color: #FFFEFE\">17</span> <span style=\"background-color: #FEFEFF\">хабиб</span> <span style=\"background-color: #FFFEFE\">и</span> <span style=\"background-color: #FCFCFF\">efc</span> <span style=\"background-color: #FCFCFF\">1</span> <span style=\"background-color: #FCFCFF\">:</span> <span style=\"background-color: #FCFCFF\">19</span> <span style=\"background-color: #FEFEFF\">:</span> <span style=\"background-color: #FFFEFE\">30</span> <span style=\"background-color: #FCFCFF\">топ</span> <span style=\"background-color: #FCFCFF\">три</span> <span style=\"background-color: #FAFAFF\">бойца</span> <span style=\"background-color: #FEFEFF\">ufc</span></p>"
            ]
          },
          "metadata": {}
        },
        {
          "output_type": "display_data",
          "data": {
            "text/html": [
              "<p style=\"font-size:14px;\"><span style=\"background-color: #FFDEDE\">хаслмма</span> <span style=\"background-color: #BCBCFF\">мма</span> <span style=\"background-color: #FFD6D6\">павелдедищев</span> <span style=\"background-color: #FCFCFF\">заурбайцаев</span> <span style=\"background-color: #C6C6FF\">адамзубайраев</span> <span style=\"background-color: #E2E2FF\">ufc</span> <span style=\"background-color: #EAEAFF\">hustlemma</span> <span style=\"background-color: #FFF0F0\">марифпираев</span> <span style=\"background-color: #FFFCFC\">перс</span> <span style=\"background-color: #FCFCFF\">сульянов</span> <span style=\"background-color: #FFF6F6\">регбист</span></p>"
            ]
          },
          "metadata": {}
        },
        {
          "output_type": "stream",
          "name": "stdout",
          "text": [
            "Actual: 11.863899 \tExp: 142044.97332548516\n"
          ]
        }
      ]
    },
    {
      "cell_type": "code",
      "source": [
        "i = np.random.randint(len(data))\n",
        "tokens_and_weights = explain(model1, data.loc[i], \"title\")\n",
        "draw_html([(tok, weight * 2) for tok, weight in tokens_and_weights], font_style='font-size:20px;');\n",
        "\n",
        "tokens_and_weights = explain(model1, data.loc[i], \"description\")\n",
        "draw_html([(tok, weight * 2) for tok, weight in tokens_and_weights]);\n",
        "\n",
        "tokens_and_weights = explain(model1, data.loc[i], \"tags\")\n",
        "draw_html([(tok, weight * 2) for tok, weight in tokens_and_weights])\n",
        "\n",
        "act = data.loc[i, TARGET_COLUMN]\n",
        "\n",
        "# print('Prediction:', pred, '\\tExp:', np.exp(pred))\n",
        "print('Actual:', act, '\\tExp:', np.exp(act))\n"
      ],
      "metadata": {
        "colab": {
          "base_uri": "https://localhost:8080/",
          "height": 154
        },
        "id": "R_lHncAfGqrq",
        "outputId": "c73680e2-7b86-4fd2-dd04-8a9bf17a17e9"
      },
      "execution_count": null,
      "outputs": [
        {
          "output_type": "stream",
          "name": "stdout",
          "text": [
            "Prediction: 15.248369 \tExp: 4190661.5\n"
          ]
        },
        {
          "output_type": "display_data",
          "data": {
            "text/html": [
              "<p style=\"font-size:20px;\"><span style=\"background-color: #DADAFF\">stranger</span> <span style=\"background-color: #E3E3FF\">things</span> <span style=\"background-color: #DCDCFF\">4</span> <span style=\"background-color: #FFDCDC\">|</span> <span style=\"background-color: #BABAFF\">official</span> <span style=\"background-color: #8E8EFF\">trailer</span> <span style=\"background-color: #E3E3FF\">|</span> <span style=\"background-color: #DCDCFF\">netflix</span> <span style=\"background-color: #EEEEFF\">india</span></p>"
            ]
          },
          "metadata": {}
        },
        {
          "output_type": "display_data",
          "data": {
            "text/html": [
              "<p style=\"font-size:14px;\"><span style=\"background-color: #F6F6FF\">it</span> <span style=\"background-color: #F0F0FF\">’</span> <span style=\"background-color: #F8F8FF\">s</span> <span style=\"background-color: #E2E2FF\">time</span> <span style=\"background-color: #F0F0FF\">.</span> <span style=\"background-color: #FEFEFF\">see</span> <span style=\"background-color: #BEBEFF\">you</span> <span style=\"background-color: #FFFAFA\">on</span> <span style=\"background-color: #DEDEFF\">the</span> <span style=\"background-color: #FFE6E6\">other</span> <span style=\"background-color: #FFE2E2\">side</span> <span style=\"background-color: #FFECEC\">.</span> <span style=\"background-color: #FFFEFE\">stranger</span> <span style=\"background-color: #FFECEC\">things</span> <span style=\"background-color: #FFFAFA\">4</span> <span style=\"background-color: #FEFEFF\">vol</span> <span style=\"background-color: #FFF8F8\">.</span> <span style=\"background-color: #E2E2FF\">1</span> <span style=\"background-color: #FFF4F4\">premieres</span> <span style=\"background-color: #FFF0F0\">may</span> <span style=\"background-color: #FFF6F6\">27th</span> <span style=\"background-color: #FFFEFE\">,</span> <span style=\"background-color: #E2E2FF\">only</span> <span style=\"background-color: #EAEAFF\">on</span> <span style=\"background-color: #FFFCFC\">netflix</span> <span style=\"background-color: #FFF6F6\">.</span> <span style=\"background-color: #FFF2F2\">follow</span> <span style=\"background-color: #F0F0FF\">netflix</span> <span style=\"background-color: #F2F2FF\">india</span> <span style=\"background-color: #FFFCFC\">on</span> <span style=\"background-color: #FAFAFF\">:</span> <span style=\"background-color: #FFF6F6\">website</span> <span style=\"background-color: #FFFEFE\">:</span> <span style=\"background-color: #FCFCFF\">youtube</span> <span style=\"background-color: #FFFAFA\">:</span> <span style=\"background-color: #FFF8F8\">instagram</span> <span style=\"background-color: #FEFEFF\">:</span> <span style=\"background-color: #FAFAFF\">facebook</span> <span style=\"background-color: #FFFAFA\">:</span> <span style=\"background-color: #FEFEFF\">twitter</span> <span style=\"background-color: #FAFAFF\">:</span> <span style=\"background-color: #F8F8FF\">#</span> <span style=\"background-color: #F0F0FF\">strangerthings4</span> <span style=\"background-color: #F8F8FF\">#</span> <span style=\"background-color: #E8E8FF\">netflixindia</span></p>"
            ]
          },
          "metadata": {}
        },
        {
          "output_type": "display_data",
          "data": {
            "text/html": [
              "<p style=\"font-size:14px;\"><span style=\"background-color: #EEEEFF\">calebmclaughlin</span> <span style=\"background-color: #EAEAFF\">charlieheaton</span> <span style=\"background-color: #FFFCFC\">chiefhopper</span> <span style=\"background-color: #A8A8FF\">davidharbour</span> <span style=\"background-color: #FCFCFF\">dustin</span> <span style=\"background-color: #F0F0FF\">eleven</span> <span style=\"background-color: #FAFAFF\">finnwolfhard</span> <span style=\"background-color: #FFEEEE\">gatenmatarazzo</span> <span style=\"background-color: #F3F3FF\">hawkins</span> <span style=\"background-color: #FEFEFF\">hopper</span> <span style=\"background-color: #FAFAFF\">joekeery</span> <span style=\"background-color: #FFECEC\">jonathanbyers</span> <span style=\"background-color: #FFF0F0\">joycebyers</span> <span style=\"background-color: #DEDEFF\">lucassinclair</span> <span style=\"background-color: #F6F6FF\">maxstrangerthings</span> <span style=\"background-color: #FFF6F6\">mayahawke</span> <span style=\"background-color: #F3F3FF\">mikewheeler</span> <span style=\"background-color: #F8F8FF\">milliebobbybrown</span> <span style=\"background-color: #EEEEFF\">nancywheeler</span> <span style=\"background-color: #F6F6FF\">nataliadyer</span> <span style=\"background-color: #FFFCFC\">noahschnapp</span> <span style=\"background-color: #FFF8F8\">robinstrangerthings</span> <span style=\"background-color: #FFF8F8\">sadiesink</span> <span style=\"background-color: #F6F6FF\">st</span> <span style=\"background-color: #F3F3FF\">st3</span> <span style=\"background-color: #F6F6FF\">st4</span> <span style=\"background-color: #F6F6FF\">steveharrington</span> <span style=\"background-color: #FFF4F4\">strangerthings</span> <span style=\"background-color: #FEFEFF\">strangerthings3</span> <span style=\"background-color: #FFF2F2\">strangerthings4</span> <span style=\"background-color: #FEFEFF\">willbyers</span> <span style=\"background-color: #FCFCFF\">winonaryder</span></p>"
            ]
          },
          "metadata": {}
        },
        {
          "output_type": "stream",
          "name": "stdout",
          "text": [
            "Actual: 14.603384 \tExp: 2198715.7546608886\n"
          ]
        }
      ]
    },
    {
      "cell_type": "code",
      "source": [
        "i = np.random.randint(len(data))\n",
        "tokens_and_weights = explain(model2, data.loc[i], \"title\")\n",
        "draw_html([(tok, weight * 2) for tok, weight in tokens_and_weights], font_style='font-size:20px;');\n",
        "\n",
        "tokens_and_weights = explain(model2, data.loc[i], \"description\")\n",
        "draw_html([(tok, weight * 2) for tok, weight in tokens_and_weights]);\n",
        "\n",
        "tokens_and_weights = explain(model2, data.loc[i], \"tags\")\n",
        "draw_html([(tok, weight * 2) for tok, weight in tokens_and_weights])\n",
        "\n",
        "act = data.loc[i, TARGET_COLUMN]\n",
        "\n",
        "# print('Prediction:', pred, '\\tExp:', np.exp(pred))\n",
        "print('Actual:', act, '\\tExp:', np.exp(act))\n"
      ],
      "metadata": {
        "colab": {
          "base_uri": "https://localhost:8080/",
          "height": 137
        },
        "id": "1lQkge5nUYHf",
        "outputId": "e82c0cb3-a1a5-4d38-9997-eefa218a48b0"
      },
      "execution_count": null,
      "outputs": [
        {
          "output_type": "stream",
          "name": "stdout",
          "text": [
            "Prediction: 12.390277 \tExp: 240452.27\n"
          ]
        },
        {
          "output_type": "display_data",
          "data": {
            "text/html": [
              "<p style=\"font-size:20px;\"><span style=\"background-color: #EAEAFF\">распаковка</span> <span style=\"background-color: #FEFEFF\">-</span> <span style=\"background-color: #E3E3FF\">самый</span> <span style=\"background-color: #FFEEEE\">мощный</span> <span style=\"background-color: #FCFCFF\">планшет</span> <span style=\"background-color: #E8E8FF\">в</span> <span style=\"background-color: #E3E3FF\">мире</span> <span style=\"background-color: #FFFAFA\">!</span></p>"
            ]
          },
          "metadata": {}
        },
        {
          "output_type": "display_data",
          "data": {
            "text/html": [
              "<p style=\"font-size:14px;\"><span style=\"background-color: #FFF2F2\">мощный</span> <span style=\"background-color: #FFD3D3\">игровой</span> <span style=\"background-color: #FFF8F8\">планшет</span> <span style=\"background-color: #FFBABA\">rog</span> <span style=\"background-color: #FFF8F8\">flow</span> <span style=\"background-color: #FFFEFE\">UNK</span> <span style=\"background-color: #FFEAEA\">-</span> <span style=\"background-color: #C0C0FF\">телеграм</span> <span style=\"background-color: #D6D6FF\">wylsacom</span> <span style=\"background-color: #DCDCFF\">-</span> <span style=\"background-color: #D6D6FF\">приложение</span> <span style=\"background-color: #F3F3FF\">wylsacom</span> <span style=\"background-color: #FCFCFF\">для</span> <span style=\"background-color: #FFD8D8\">apple</span> <span style=\"background-color: #FFFAFA\">-</span> <span style=\"background-color: #FFE4E4\">приложение</span> <span style=\"background-color: #FFFEFE\">wylsacom</span> <span style=\"background-color: #FFFAFA\">для</span> <span style=\"background-color: #F3F3FF\">android</span> <span style=\"background-color: #F8F8FF\">-</span> <span style=\"background-color: #E8E8FF\">twitter</span> <span style=\"background-color: #FEFEFF\">-</span> <span style=\"background-color: #FCFCFF\">яндекс</span> <span style=\"background-color: #FFFEFE\">дзен</span> <span style=\"background-color: #FFFEFE\">-</span> <span style=\"background-color: #FFF8F8\">группа</span> <span style=\"background-color: #FFFEFE\">vk</span> <span style=\"background-color: #F8F8FF\">-</span> <span style=\"background-color: #FFF8F8\">сайт</span> <span style=\"background-color: #F3F3FF\">-</span> <span style=\"background-color: #F2F2FF\">ролик</span> <span style=\"background-color: #E8E8FF\">содержит</span> <span style=\"background-color: #FFFCFC\">рекламную</span> <span style=\"background-color: #FEFEFF\">интеграцию</span> <span style=\"background-color: #FEFEFF\">.</span></p>"
            ]
          },
          "metadata": {}
        },
        {
          "output_type": "display_data",
          "data": {
            "text/html": [
              "<p style=\"font-size:14px;\"><span style=\"background-color: #A6A6FF\">iphone</span> <span style=\"background-color: #C2C2FF\">apple</span> <span style=\"background-color: #C8C8FF\">wylsa</span> <span style=\"background-color: #B2B2FF\">wylsacom</span> <span style=\"background-color: #FFF6F6\">игровой</span> <span style=\"background-color: #FFB8B8\">планшет</span> <span style=\"background-color: #FFCACA\">вмире</span> <span style=\"background-color: #FFE0E0\">мощный</span> <span style=\"background-color: #D0D0FF\">ipad</span> <span style=\"background-color: #FFE0E0\">asus</span> <span style=\"background-color: #FFFCFC\">rog</span> <span style=\"background-color: #FFE4E4\">flow</span> <span style=\"background-color: #FFFEFE\">UNK</span> <span style=\"background-color: #FEFEFF\">rtx</span> <span style=\"background-color: #F0F0FF\">i9</span> <span style=\"background-color: #F6F6FF\">core</span> <span style=\"background-color: #EEEEFF\">intel</span> <span style=\"background-color: #FAFAFF\">amd</span> <span style=\"background-color: #E0E0FF\">nvidia</span> <span style=\"background-color: #FFF8F8\">rtx3080</span> <span style=\"background-color: #FFFAFA\">cyberpunk</span> <span style=\"background-color: #F8F8FF\">forza</span></p>"
            ]
          },
          "metadata": {}
        },
        {
          "output_type": "stream",
          "name": "stdout",
          "text": [
            "Actual: 12.351587 \tExp: 231326.86746714453\n"
          ]
        }
      ]
    },
    {
      "cell_type": "code",
      "source": [
        "start = time.time()\n",
        "mse, mae, valid_loss = print_metrics(model1, test_en)\n",
        "print(time.time() - start)"
      ],
      "metadata": {
        "colab": {
          "base_uri": "https://localhost:8080/"
        },
        "id": "9IIVCJmOQXAT",
        "outputId": "c973de49-ceb1-40e8-b4f8-afb7f1ba149b"
      },
      "execution_count": null,
      "outputs": [
        {
          "output_type": "stream",
          "name": "stdout",
          "text": [
            " results:\n",
            "Mean square error: 1.60417\n",
            "Mean absolute error: 1.01467\n",
            "0.46955370903015137\n"
          ]
        }
      ]
    },
    {
      "cell_type": "code",
      "source": [
        "start = time.time()\n",
        "mse, mae, valid_loss = print_metrics(model2, test_ru)\n",
        "print(time.time() - start)"
      ],
      "metadata": {
        "colab": {
          "base_uri": "https://localhost:8080/"
        },
        "id": "soIBOwy9_Rxq",
        "outputId": "3de2f9be-37fe-4d0b-fce8-6086f46706c1"
      },
      "execution_count": null,
      "outputs": [
        {
          "output_type": "stream",
          "name": "stdout",
          "text": [
            " results:\n",
            "Mean square error: 0.87731\n",
            "Mean absolute error: 0.73834\n",
            "0.1105647087097168\n"
          ]
        }
      ]
    },
    {
      "cell_type": "code",
      "source": [
        ""
      ],
      "metadata": {
        "id": "k4ZeGliUGGJX"
      },
      "execution_count": null,
      "outputs": []
    }
  ],
  "metadata": {
    "kernelspec": {
      "display_name": "Python 3",
      "language": "python",
      "name": "python3"
    },
    "language_info": {
      "codemirror_mode": {
        "name": "ipython",
        "version": 3
      },
      "file_extension": ".py",
      "mimetype": "text/x-python",
      "name": "python",
      "nbconvert_exporter": "python",
      "pygments_lexer": "ipython3",
      "version": "3.7.6"
    },
    "colab": {
      "name": "Experiments with static features (first day).ipynb",
      "provenance": [],
      "collapsed_sections": []
    },
    "accelerator": "GPU"
  },
  "nbformat": 4,
  "nbformat_minor": 0
}