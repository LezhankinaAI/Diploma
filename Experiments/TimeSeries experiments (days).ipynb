{
 "cells": [
  {
   "cell_type": "code",
   "execution_count": 37,
   "metadata": {
    "colab": {
     "base_uri": "https://localhost:8080/"
    },
    "id": "7q9S2KgzQgVF",
    "outputId": "cb2b7507-5a44-46c1-f15e-a3f4e237ed60"
   },
   "outputs": [],
   "source": [
    "import os, bz2, json, time\n",
    "from datetime import timedelta\n",
    "import pickle\n",
    "import pandas as pd\n",
    "import numpy as np\n",
    "from tqdm import tqdm\n",
    "import matplotlib.pyplot as plt\n",
    "import seaborn as sns\n",
    "\n",
    "from scipy.optimize import curve_fit\n",
    "\n",
    "from sklearn.preprocessing import StandardScaler, OneHotEncoder\n",
    "from sklearn.linear_model import LinearRegression, Ridge, Lasso, HuberRegressor, TheilSenRegressor\n",
    "from sklearn.tree import DecisionTreeRegressor\n",
    "from sklearn.ensemble import BaggingRegressor, GradientBoostingRegressor\n",
    "from sklearn.model_selection import train_test_split, GridSearchCV\n",
    "from sklearn.metrics import mean_squared_error, r2_score\n",
    "from catboost import CatBoostRegressor\n",
    "from sklearn.compose import ColumnTransformer\n",
    "from sklearn.pipeline import Pipeline\n",
    "\n",
    "from math import floor\n",
    "\n",
    "import time\n",
    "\n",
    "import random"
   ]
  },
  {
   "cell_type": "code",
   "execution_count": 38,
   "metadata": {
    "colab": {
     "base_uri": "https://localhost:8080/"
    },
    "id": "RIDmWb6JQgVJ",
    "outputId": "d7d7de64-2067-49aa-adc1-fac8800e5ac3"
   },
   "outputs": [
    {
     "name": "stdout",
     "output_type": "stream",
     "text": [
      ">>> Loading the ACTIVE dataset from pickle...\n"
     ]
    }
   ],
   "source": [
    "if not os.path.exists('active-dataset.p'):\n",
    "    print('>>> Converting ACTIVE dataset from JSON format to pickle... might take a while!')\n",
    "    active_videos = {}\n",
    "    with bz2.BZ2File('active-dataset.json.bz2') as f:\n",
    "        dataset = json.loads(f.readline())\n",
    "    pickle.dump(dataset, open('active-dataset.p', 'wb'))\n",
    "    \n",
    "print('>>> Loading the ACTIVE dataset from pickle...')\n",
    "active_videos = pickle.load(open('active-dataset.p', 'rb'))\n",
    "df = pd.DataFrame(active_videos)"
   ]
  },
  {
   "cell_type": "code",
   "execution_count": 39,
   "metadata": {
    "colab": {
     "base_uri": "https://localhost:8080/"
    },
    "id": "-pWKkdlcQgVQ",
    "outputId": "07e1731f-90db-4c6b-aabc-9b7c5b40f64f"
   },
   "outputs": [
    {
     "data": {
      "text/plain": [
       "(14041, 24)"
      ]
     },
     "execution_count": 39,
     "metadata": {},
     "output_type": "execute_result"
    }
   ],
   "source": [
    "df.shape"
   ]
  },
  {
   "cell_type": "code",
   "execution_count": 40,
   "metadata": {
    "colab": {
     "base_uri": "https://localhost:8080/",
     "height": 687
    },
    "id": "nbW23_LlQgVS",
    "outputId": "0a4a8d8c-73d0-4883-d7bf-81117f7b968c"
   },
   "outputs": [
    {
     "data": {
      "text/html": [
       "<div>\n",
       "<style scoped>\n",
       "    .dataframe tbody tr th:only-of-type {\n",
       "        vertical-align: middle;\n",
       "    }\n",
       "\n",
       "    .dataframe tbody tr th {\n",
       "        vertical-align: top;\n",
       "    }\n",
       "\n",
       "    .dataframe thead th {\n",
       "        text-align: right;\n",
       "    }\n",
       "</style>\n",
       "<table border=\"1\" class=\"dataframe\">\n",
       "  <thead>\n",
       "    <tr style=\"text-align: right;\">\n",
       "      <th></th>\n",
       "      <th>YoutubeID</th>\n",
       "      <th>watchTime</th>\n",
       "      <th>dailyViewcount</th>\n",
       "      <th>description</th>\n",
       "      <th>title</th>\n",
       "      <th>channelId</th>\n",
       "      <th>channelTitle</th>\n",
       "      <th>category</th>\n",
       "      <th>uploadDate</th>\n",
       "      <th>duration</th>\n",
       "      <th>definition</th>\n",
       "      <th>dimension</th>\n",
       "      <th>caption</th>\n",
       "      <th>regionRestriction.blocked</th>\n",
       "      <th>regionRestriction.allowed</th>\n",
       "      <th>topicIds</th>\n",
       "      <th>relevantTopicIds</th>\n",
       "    </tr>\n",
       "  </thead>\n",
       "  <tbody>\n",
       "    <tr>\n",
       "      <th>0</th>\n",
       "      <td>00-6OyXVA0M</td>\n",
       "      <td>[59311.9833333, 455426.75, 206253.816667, 1119...</td>\n",
       "      <td>[90158, 695628, 312298, 170348, 82346, 61530, ...</td>\n",
       "      <td>Bill's response to Victoria Osteen's congregat...</td>\n",
       "      <td>Bill Cosby responds to Victoria Osteen</td>\n",
       "      <td>UCpzGw-b-rEPjRs2LT0ZVHTQ</td>\n",
       "      <td>Bryant Harris</td>\n",
       "      <td>Entertainment</td>\n",
       "      <td>2014-08-29 06:19:14</td>\n",
       "      <td>PT39S</td>\n",
       "      <td>sd</td>\n",
       "      <td>2d</td>\n",
       "      <td>false</td>\n",
       "      <td>{}</td>\n",
       "      <td>{}</td>\n",
       "      <td>[/m/03bxbhz, /m/03ny9x, /m/014zfs]</td>\n",
       "      <td>[/m/06bvp]</td>\n",
       "    </tr>\n",
       "    <tr>\n",
       "      <th>1</th>\n",
       "      <td>00ATf2HR-FA</td>\n",
       "      <td>[2937.13333333, 9039.33333333, 5082.71666667, ...</td>\n",
       "      <td>[14939, 40664, 21261, 30914, 31073, 20395, 117...</td>\n",
       "      <td>Adorable Cute South Korean Dog Gets Neck Massa...</td>\n",
       "      <td>Adorable Cute South Korean Dog Gets Neck Massage</td>\n",
       "      <td>UCT7HvytJiHm4BITiIQU1zwg</td>\n",
       "      <td>CloudSheep</td>\n",
       "      <td>Pets &amp; Animals</td>\n",
       "      <td>2014-08-29 07:24:00</td>\n",
       "      <td>PT15S</td>\n",
       "      <td>sd</td>\n",
       "      <td>2d</td>\n",
       "      <td>false</td>\n",
       "      <td>{}</td>\n",
       "      <td>{}</td>\n",
       "      <td>[/m/0b_nd, /m/0bt9lr]</td>\n",
       "      <td>[/m/04h3kx]</td>\n",
       "    </tr>\n",
       "    <tr>\n",
       "      <th>2</th>\n",
       "      <td>00bumpN0Mhw</td>\n",
       "      <td>[235606.866667, 177160.183333, 133966.883333, ...</td>\n",
       "      <td>[89627, 63829, 46999, 42951, 42902, 36271, 416...</td>\n",
       "      <td>Download \"The Pressure\" on iTunes: http://smar...</td>\n",
       "      <td>Jhené Aiko - The Pressure (Explicit)</td>\n",
       "      <td>UCkiXOKnkDO4qz3njQoz86LA</td>\n",
       "      <td>JheneAikoVEVO</td>\n",
       "      <td>Music</td>\n",
       "      <td>2014-09-03 02:00:05</td>\n",
       "      <td>PT4M22S</td>\n",
       "      <td>hd</td>\n",
       "      <td>2d</td>\n",
       "      <td>false</td>\n",
       "      <td>[DE]</td>\n",
       "      <td>{}</td>\n",
       "      <td>[/m/011rvmhv, /m/0nhwg69]</td>\n",
       "      <td>[/m/011ccd35, /m/04rlf]</td>\n",
       "    </tr>\n",
       "    <tr>\n",
       "      <th>3</th>\n",
       "      <td>00f0ct78HcU</td>\n",
       "      <td>[119054.283333, 68698.1166667, 34243.9166667, ...</td>\n",
       "      <td>[91431, 52484, 26459, 14774, 7700, 5314, 4872,...</td>\n",
       "      <td>DON'T WANT TO MISS A PRANK? Subscribe here! \\n...</td>\n",
       "      <td>Tank Explosion Accident!</td>\n",
       "      <td>UCuAcfy-GKYd1SPj8iEtA3Zw</td>\n",
       "      <td>Dudesons</td>\n",
       "      <td>Entertainment</td>\n",
       "      <td>2014-06-14 03:00:04</td>\n",
       "      <td>PT1M38S</td>\n",
       "      <td>sd</td>\n",
       "      <td>2d</td>\n",
       "      <td>false</td>\n",
       "      <td>{}</td>\n",
       "      <td>{}</td>\n",
       "      <td>[/m/04cb12]</td>\n",
       "      <td>[/m/0bqb0z, /m/014zdl, /m/07cmd]</td>\n",
       "    </tr>\n",
       "    <tr>\n",
       "      <th>4</th>\n",
       "      <td>00g2ZbI3ung</td>\n",
       "      <td>[11655.7333333, 3733.05, 2094.01666667, 1368.9...</td>\n",
       "      <td>[15512, 5027, 2691, 1861, 2563, 3891, 2751, 22...</td>\n",
       "      <td>These miracles will make you a god damn sexual...</td>\n",
       "      <td>Dark Souls II: Don't use hexes PSA</td>\n",
       "      <td>UCwPnX0XSfxswF0rL78NzNIw</td>\n",
       "      <td>veselekov</td>\n",
       "      <td>Film &amp; Animation</td>\n",
       "      <td>2014-06-14 11:32:27</td>\n",
       "      <td>PT53S</td>\n",
       "      <td>hd</td>\n",
       "      <td>2d</td>\n",
       "      <td>false</td>\n",
       "      <td>{}</td>\n",
       "      <td>{}</td>\n",
       "      <td>[/m/0p8xwrr, /m/0dgs3gt]</td>\n",
       "      <td>[/m/06zm8z, /m/02dpv4]</td>\n",
       "    </tr>\n",
       "  </tbody>\n",
       "</table>\n",
       "</div>"
      ],
      "text/plain": [
       "     YoutubeID                                          watchTime  \\\n",
       "0  00-6OyXVA0M  [59311.9833333, 455426.75, 206253.816667, 1119...   \n",
       "1  00ATf2HR-FA  [2937.13333333, 9039.33333333, 5082.71666667, ...   \n",
       "2  00bumpN0Mhw  [235606.866667, 177160.183333, 133966.883333, ...   \n",
       "3  00f0ct78HcU  [119054.283333, 68698.1166667, 34243.9166667, ...   \n",
       "4  00g2ZbI3ung  [11655.7333333, 3733.05, 2094.01666667, 1368.9...   \n",
       "\n",
       "                                      dailyViewcount  \\\n",
       "0  [90158, 695628, 312298, 170348, 82346, 61530, ...   \n",
       "1  [14939, 40664, 21261, 30914, 31073, 20395, 117...   \n",
       "2  [89627, 63829, 46999, 42951, 42902, 36271, 416...   \n",
       "3  [91431, 52484, 26459, 14774, 7700, 5314, 4872,...   \n",
       "4  [15512, 5027, 2691, 1861, 2563, 3891, 2751, 22...   \n",
       "\n",
       "                                         description  \\\n",
       "0  Bill's response to Victoria Osteen's congregat...   \n",
       "1  Adorable Cute South Korean Dog Gets Neck Massa...   \n",
       "2  Download \"The Pressure\" on iTunes: http://smar...   \n",
       "3  DON'T WANT TO MISS A PRANK? Subscribe here! \\n...   \n",
       "4  These miracles will make you a god damn sexual...   \n",
       "\n",
       "                                              title                 channelId  \\\n",
       "0            Bill Cosby responds to Victoria Osteen  UCpzGw-b-rEPjRs2LT0ZVHTQ   \n",
       "1  Adorable Cute South Korean Dog Gets Neck Massage  UCT7HvytJiHm4BITiIQU1zwg   \n",
       "2              Jhené Aiko - The Pressure (Explicit)  UCkiXOKnkDO4qz3njQoz86LA   \n",
       "3                          Tank Explosion Accident!  UCuAcfy-GKYd1SPj8iEtA3Zw   \n",
       "4                Dark Souls II: Don't use hexes PSA  UCwPnX0XSfxswF0rL78NzNIw   \n",
       "\n",
       "    channelTitle          category           uploadDate duration definition  \\\n",
       "0  Bryant Harris     Entertainment  2014-08-29 06:19:14    PT39S         sd   \n",
       "1     CloudSheep    Pets & Animals  2014-08-29 07:24:00    PT15S         sd   \n",
       "2  JheneAikoVEVO             Music  2014-09-03 02:00:05  PT4M22S         hd   \n",
       "3       Dudesons     Entertainment  2014-06-14 03:00:04  PT1M38S         sd   \n",
       "4      veselekov  Film & Animation  2014-06-14 11:32:27    PT53S         hd   \n",
       "\n",
       "  dimension caption regionRestriction.blocked regionRestriction.allowed  \\\n",
       "0        2d   false                        {}                        {}   \n",
       "1        2d   false                        {}                        {}   \n",
       "2        2d   false                      [DE]                        {}   \n",
       "3        2d   false                        {}                        {}   \n",
       "4        2d   false                        {}                        {}   \n",
       "\n",
       "                             topicIds                  relevantTopicIds  \n",
       "0  [/m/03bxbhz, /m/03ny9x, /m/014zfs]                        [/m/06bvp]  \n",
       "1               [/m/0b_nd, /m/0bt9lr]                       [/m/04h3kx]  \n",
       "2           [/m/011rvmhv, /m/0nhwg69]           [/m/011ccd35, /m/04rlf]  \n",
       "3                         [/m/04cb12]  [/m/0bqb0z, /m/014zdl, /m/07cmd]  \n",
       "4            [/m/0p8xwrr, /m/0dgs3gt]            [/m/06zm8z, /m/02dpv4]  "
      ]
     },
     "execution_count": 40,
     "metadata": {},
     "output_type": "execute_result"
    }
   ],
   "source": [
    "df = df[['YoutubeID', 'watchTime', 'dailyViewcount', 'description', \n",
    "        'title', 'channelId', 'channelTitle', 'category', 'uploadDate', \n",
    "        'duration', 'definition', 'dimension', 'caption', 'regionRestriction.blocked', \n",
    "        'regionRestriction.allowed', 'topicIds', 'relevantTopicIds']]\n",
    "df.head()"
   ]
  },
  {
   "cell_type": "markdown",
   "metadata": {
    "id": "3i1CG0uvQgVV"
   },
   "source": [
    "Преобразуем в датасете последовательность просмотров в отдельные признаки"
   ]
  },
  {
   "cell_type": "code",
   "execution_count": 41,
   "metadata": {
    "id": "SXLbOqm_QgVZ"
   },
   "outputs": [],
   "source": [
    "min_days = min(df['watchTime'].apply(lambda x: len(x)))\n",
    "days = [f'day_{i}' for i in range(1, min_days + 1)]\n",
    "timeline = pd.DataFrame(index=df['YoutubeID'], columns=days)"
   ]
  },
  {
   "cell_type": "code",
   "execution_count": 42,
   "metadata": {
    "colab": {
     "base_uri": "https://localhost:8080/"
    },
    "id": "W0jC2m_SQgVb",
    "outputId": "32ceed27-547d-458e-c0b2-2a9796e55a6b"
   },
   "outputs": [
    {
     "name": "stderr",
     "output_type": "stream",
     "text": [
      "100%|████████████████████████████████████████████████████████████████████████████████| 119/119 [00:03<00:00, 31.86it/s]\n"
     ]
    }
   ],
   "source": [
    "for i in tqdm(range(min_days)):\n",
    "    timeline[f'day_{i + 1}'] = df['dailyViewcount'].str[i].values.astype('int64')"
   ]
  },
  {
   "cell_type": "code",
   "execution_count": 43,
   "metadata": {
    "colab": {
     "base_uri": "https://localhost:8080/",
     "height": 267
    },
    "id": "h0PtbJlTQgVc",
    "outputId": "3dffa3af-78bf-4299-f4bb-4cda7fe9452d"
   },
   "outputs": [
    {
     "data": {
      "text/html": [
       "<div>\n",
       "<style scoped>\n",
       "    .dataframe tbody tr th:only-of-type {\n",
       "        vertical-align: middle;\n",
       "    }\n",
       "\n",
       "    .dataframe tbody tr th {\n",
       "        vertical-align: top;\n",
       "    }\n",
       "\n",
       "    .dataframe thead th {\n",
       "        text-align: right;\n",
       "    }\n",
       "</style>\n",
       "<table border=\"1\" class=\"dataframe\">\n",
       "  <thead>\n",
       "    <tr style=\"text-align: right;\">\n",
       "      <th></th>\n",
       "      <th>day_1</th>\n",
       "      <th>day_2</th>\n",
       "      <th>day_3</th>\n",
       "      <th>day_4</th>\n",
       "      <th>day_5</th>\n",
       "      <th>day_6</th>\n",
       "      <th>day_7</th>\n",
       "      <th>day_8</th>\n",
       "      <th>day_9</th>\n",
       "      <th>day_10</th>\n",
       "      <th>...</th>\n",
       "      <th>day_110</th>\n",
       "      <th>day_111</th>\n",
       "      <th>day_112</th>\n",
       "      <th>day_113</th>\n",
       "      <th>day_114</th>\n",
       "      <th>day_115</th>\n",
       "      <th>day_116</th>\n",
       "      <th>day_117</th>\n",
       "      <th>day_118</th>\n",
       "      <th>day_119</th>\n",
       "    </tr>\n",
       "    <tr>\n",
       "      <th>YoutubeID</th>\n",
       "      <th></th>\n",
       "      <th></th>\n",
       "      <th></th>\n",
       "      <th></th>\n",
       "      <th></th>\n",
       "      <th></th>\n",
       "      <th></th>\n",
       "      <th></th>\n",
       "      <th></th>\n",
       "      <th></th>\n",
       "      <th></th>\n",
       "      <th></th>\n",
       "      <th></th>\n",
       "      <th></th>\n",
       "      <th></th>\n",
       "      <th></th>\n",
       "      <th></th>\n",
       "      <th></th>\n",
       "      <th></th>\n",
       "      <th></th>\n",
       "      <th></th>\n",
       "    </tr>\n",
       "  </thead>\n",
       "  <tbody>\n",
       "    <tr>\n",
       "      <th>00-6OyXVA0M</th>\n",
       "      <td>90158</td>\n",
       "      <td>695628</td>\n",
       "      <td>312298</td>\n",
       "      <td>170348</td>\n",
       "      <td>82346</td>\n",
       "      <td>61530</td>\n",
       "      <td>76116</td>\n",
       "      <td>229360</td>\n",
       "      <td>109262</td>\n",
       "      <td>40695</td>\n",
       "      <td>...</td>\n",
       "      <td>493</td>\n",
       "      <td>452</td>\n",
       "      <td>452</td>\n",
       "      <td>423</td>\n",
       "      <td>1056</td>\n",
       "      <td>1407</td>\n",
       "      <td>1153</td>\n",
       "      <td>1081</td>\n",
       "      <td>664</td>\n",
       "      <td>576</td>\n",
       "    </tr>\n",
       "    <tr>\n",
       "      <th>00ATf2HR-FA</th>\n",
       "      <td>14939</td>\n",
       "      <td>40664</td>\n",
       "      <td>21261</td>\n",
       "      <td>30914</td>\n",
       "      <td>31073</td>\n",
       "      <td>20395</td>\n",
       "      <td>11713</td>\n",
       "      <td>7690</td>\n",
       "      <td>5526</td>\n",
       "      <td>6259</td>\n",
       "      <td>...</td>\n",
       "      <td>107</td>\n",
       "      <td>476</td>\n",
       "      <td>208</td>\n",
       "      <td>140</td>\n",
       "      <td>102</td>\n",
       "      <td>135</td>\n",
       "      <td>150</td>\n",
       "      <td>120</td>\n",
       "      <td>94</td>\n",
       "      <td>68</td>\n",
       "    </tr>\n",
       "    <tr>\n",
       "      <th>00bumpN0Mhw</th>\n",
       "      <td>89627</td>\n",
       "      <td>63829</td>\n",
       "      <td>46999</td>\n",
       "      <td>42951</td>\n",
       "      <td>42902</td>\n",
       "      <td>36271</td>\n",
       "      <td>41669</td>\n",
       "      <td>44901</td>\n",
       "      <td>37811</td>\n",
       "      <td>39228</td>\n",
       "      <td>...</td>\n",
       "      <td>14816</td>\n",
       "      <td>14153</td>\n",
       "      <td>14232</td>\n",
       "      <td>14372</td>\n",
       "      <td>12938</td>\n",
       "      <td>10972</td>\n",
       "      <td>11921</td>\n",
       "      <td>12811</td>\n",
       "      <td>12158</td>\n",
       "      <td>12724</td>\n",
       "    </tr>\n",
       "    <tr>\n",
       "      <th>00f0ct78HcU</th>\n",
       "      <td>91431</td>\n",
       "      <td>52484</td>\n",
       "      <td>26459</td>\n",
       "      <td>14774</td>\n",
       "      <td>7700</td>\n",
       "      <td>5314</td>\n",
       "      <td>4872</td>\n",
       "      <td>4604</td>\n",
       "      <td>4065</td>\n",
       "      <td>3843</td>\n",
       "      <td>...</td>\n",
       "      <td>512</td>\n",
       "      <td>578</td>\n",
       "      <td>601</td>\n",
       "      <td>842</td>\n",
       "      <td>1042</td>\n",
       "      <td>951</td>\n",
       "      <td>651</td>\n",
       "      <td>678</td>\n",
       "      <td>605</td>\n",
       "      <td>579</td>\n",
       "    </tr>\n",
       "    <tr>\n",
       "      <th>00g2ZbI3ung</th>\n",
       "      <td>15512</td>\n",
       "      <td>5027</td>\n",
       "      <td>2691</td>\n",
       "      <td>1861</td>\n",
       "      <td>2563</td>\n",
       "      <td>3891</td>\n",
       "      <td>2751</td>\n",
       "      <td>2234</td>\n",
       "      <td>2233</td>\n",
       "      <td>2034</td>\n",
       "      <td>...</td>\n",
       "      <td>540</td>\n",
       "      <td>667</td>\n",
       "      <td>693</td>\n",
       "      <td>836</td>\n",
       "      <td>874</td>\n",
       "      <td>937</td>\n",
       "      <td>983</td>\n",
       "      <td>1015</td>\n",
       "      <td>853</td>\n",
       "      <td>860</td>\n",
       "    </tr>\n",
       "  </tbody>\n",
       "</table>\n",
       "<p>5 rows × 119 columns</p>\n",
       "</div>"
      ],
      "text/plain": [
       "             day_1   day_2   day_3   day_4  day_5  day_6  day_7   day_8  \\\n",
       "YoutubeID                                                                 \n",
       "00-6OyXVA0M  90158  695628  312298  170348  82346  61530  76116  229360   \n",
       "00ATf2HR-FA  14939   40664   21261   30914  31073  20395  11713    7690   \n",
       "00bumpN0Mhw  89627   63829   46999   42951  42902  36271  41669   44901   \n",
       "00f0ct78HcU  91431   52484   26459   14774   7700   5314   4872    4604   \n",
       "00g2ZbI3ung  15512    5027    2691    1861   2563   3891   2751    2234   \n",
       "\n",
       "              day_9  day_10  ...  day_110  day_111  day_112  day_113  day_114  \\\n",
       "YoutubeID                    ...                                                \n",
       "00-6OyXVA0M  109262   40695  ...      493      452      452      423     1056   \n",
       "00ATf2HR-FA    5526    6259  ...      107      476      208      140      102   \n",
       "00bumpN0Mhw   37811   39228  ...    14816    14153    14232    14372    12938   \n",
       "00f0ct78HcU    4065    3843  ...      512      578      601      842     1042   \n",
       "00g2ZbI3ung    2233    2034  ...      540      667      693      836      874   \n",
       "\n",
       "             day_115  day_116  day_117  day_118  day_119  \n",
       "YoutubeID                                                 \n",
       "00-6OyXVA0M     1407     1153     1081      664      576  \n",
       "00ATf2HR-FA      135      150      120       94       68  \n",
       "00bumpN0Mhw    10972    11921    12811    12158    12724  \n",
       "00f0ct78HcU      951      651      678      605      579  \n",
       "00g2ZbI3ung      937      983     1015      853      860  \n",
       "\n",
       "[5 rows x 119 columns]"
      ]
     },
     "execution_count": 43,
     "metadata": {},
     "output_type": "execute_result"
    }
   ],
   "source": [
    "timeline.head()"
   ]
  },
  {
   "cell_type": "code",
   "execution_count": 44,
   "metadata": {
    "id": "xphzbhcJQgVd"
   },
   "outputs": [],
   "source": [
    "pred_val = 35\n",
    "drops = [f'day_{i}' for i in range(pred_val, 120)]\n",
    "y = timeline[drops[0]]\n",
    "X = timeline.drop(columns=drops)"
   ]
  },
  {
   "cell_type": "code",
   "execution_count": 45,
   "metadata": {},
   "outputs": [
    {
     "data": {
      "text/plain": [
       "(14041, 34)"
      ]
     },
     "execution_count": 45,
     "metadata": {},
     "output_type": "execute_result"
    }
   ],
   "source": [
    "X.shape"
   ]
  },
  {
   "cell_type": "code",
   "execution_count": 46,
   "metadata": {},
   "outputs": [
    {
     "data": {
      "image/png": "[encoded data removed]",
      "text/plain": [
       "<Figure size 432x288 with 1 Axes>"
      ]
     },
     "metadata": {
      "needs_background": "light"
     },
     "output_type": "display_data"
    },
    {
     "name": "stderr",
     "output_type": "stream",
     "text": [
      "C:\\Users\\Александра\\AppData\\Roaming\\Python\\Python37\\site-packages\\seaborn\\distributions.py:2619: FutureWarning: `distplot` is a deprecated function and will be removed in a future version. Please adapt your code to use either `displot` (a figure-level function with similar flexibility) or `histplot` (an axes-level function for histograms).\n",
      "  warnings.warn(msg, FutureWarning)\n"
     ]
    },
    {
     "data": {
      "image/png": "[encoded data removed]",
      "text/plain": [
       "<Figure size 432x288 with 1 Axes>"
      ]
     },
     "metadata": {
      "needs_background": "light"
     },
     "output_type": "display_data"
    }
   ],
   "source": [
    "plt.title('Target variance')\n",
    "plt.grid()\n",
    "plt.plot(sorted(y))\n",
    "plt.show()\n",
    "\n",
    "plt.title('Target distribution')\n",
    "sns.distplot(y)\n",
    "plt.grid()\n",
    "plt.show()"
   ]
  },
  {
   "cell_type": "code",
   "execution_count": 47,
   "metadata": {
    "id": "3cVE87ttQgVl"
   },
   "outputs": [],
   "source": [
    "X['Month'] = pd.to_datetime(df[df.YoutubeID.isin(X.index)].uploadDate).dt.month.values\n",
    "X['Day'] = pd.to_datetime(df[df.YoutubeID.isin(X.index)].uploadDate).dt.day.values\n",
    "X['Hour'] = pd.to_datetime(df[df.YoutubeID.isin(X.index)].uploadDate).dt.hour.values\n",
    "X['Weekday'] = pd.to_datetime(df[df.YoutubeID.isin(X.index)].uploadDate).dt.weekday.values"
   ]
  },
  {
   "cell_type": "code",
   "execution_count": 48,
   "metadata": {
    "id": "ieKvs8tnQgVm"
   },
   "outputs": [],
   "source": [
    "def format_duration(duration):\n",
    "    \"\"\"\n",
    "    Format the duration of the video into seconds\n",
    "    \"\"\"\n",
    "    sec_patrn = re.compile(r'(\\d+)S')\n",
    "    min_patrn = re.compile(r'(\\d+)M')\n",
    "    hr_patrn = re.compile(r'(\\d+)H')\n",
    "\n",
    "    seconds = sec_patrn.search(duration)\n",
    "    minutes = min_patrn.search(duration)\n",
    "    hours = hr_patrn.search(duration)\n",
    "\n",
    "    seconds = int(seconds.group(1)) if seconds else 0\n",
    "    minutes = int(minutes.group(1)) if minutes else 0\n",
    "    hours = int(hours.group(1)) if hours else 0\n",
    "\n",
    "    vid_seconds = timedelta(\n",
    "        hours=hours,\n",
    "        minutes=minutes,\n",
    "        seconds=seconds\n",
    "    ).total_seconds()\n",
    "\n",
    "    return vid_seconds\n",
    "\n",
    "X['duration'] = df[df.YoutubeID.isin(X.index)]['duration'].apply(format_duration).values"
   ]
  },
  {
   "cell_type": "code",
   "execution_count": 49,
   "metadata": {},
   "outputs": [],
   "source": [
    "X['title'] = df[df.YoutubeID.isin(X.index)]['title'].values\n",
    "X['description'] = df[df.YoutubeID.isin(X.index)]['description'].values\n",
    "X['definition'] = df[df.YoutubeID.isin(X.index)]['definition'].values\n",
    "X['definition'].fillna('Not stated', inplace=True)\n",
    "X['category'] = df[df.YoutubeID.isin(X.index)]['category'].values\n",
    "X['category'].fillna('Not stated', inplace=True)"
   ]
  },
  {
   "cell_type": "code",
   "execution_count": 50,
   "metadata": {},
   "outputs": [],
   "source": [
    "X.loc[X['title'].str.upper() == X['title'], 'caps'] = 'Used'\n",
    "X.loc[X['title'].str.upper() != X['title'], 'caps'] = 'Not used'"
   ]
  },
  {
   "cell_type": "code",
   "execution_count": 51,
   "metadata": {},
   "outputs": [],
   "source": [
    "X.loc[(X['description'].str.find('http') != -1.0) &\n",
    "        ~(X['description'].str.find('http').isna()), 'link'] = 'Used'\n",
    "X.loc[(X['description'].str.find('http') == -1.0) |\n",
    "        (X['description'].str.find('http').isna()), 'link'] = 'Not used'"
   ]
  },
  {
   "cell_type": "code",
   "execution_count": 52,
   "metadata": {},
   "outputs": [],
   "source": [
    "X['min'] = X[X.columns[:pred_val - 1]].min(axis=1)\n",
    "X['max'] = X[X.columns[:pred_val - 1]].max(axis=1)\n",
    "X['mean'] = X[X.columns[:pred_val - 1]].mean(axis=1)"
   ]
  },
  {
   "cell_type": "code",
   "execution_count": 53,
   "metadata": {},
   "outputs": [
    {
     "name": "stderr",
     "output_type": "stream",
     "text": [
      "0it [00:00, ?it/s]C:\\Users\\Александра\\AppData\\Roaming\\Python\\Python37\\site-packages\\scipy\\optimize\\minpack.py:834: OptimizeWarning: Covariance of the parameters could not be estimated\n",
      "  category=OptimizeWarning)\n",
      "145it [00:03, 21.75it/s]C:\\ProgramData\\Anaconda3\\lib\\site-packages\\ipykernel_launcher.py:5: RuntimeWarning: overflow encountered in exp\n",
      "  \"\"\"\n",
      "14041it [08:10, 28.61it/s]\n"
     ]
    }
   ],
   "source": [
    "def approx(x : np.array, a : float, b : float, c : float) -> np.array:\n",
    "    \"\"\"\n",
    "    Counts approximate trend line\n",
    "    \"\"\"\n",
    "    return a / (np.exp(b * x) + c)\n",
    "\n",
    "\n",
    "ids = []\n",
    "parameters = {}\n",
    "for row in tqdm(X.iterrows()):\n",
    "    try:\n",
    "        value = X.loc[row[0]][X.columns[:pred_val - 1]].values\n",
    "        x_line = np.arange(0, pred_val - 1)\n",
    "        params, _ = curve_fit(approx, x_line, value, maxfev=100000)\n",
    "        y_line = approx(x_line, *params)  \n",
    "        parameters[row[0]] = params\n",
    "        X.loc[row[0], X.columns[:pred_val - 1]] = value - y_line\n",
    "    except:\n",
    "        ids.append(row[0])\n",
    "        continue"
   ]
  },
  {
   "cell_type": "code",
   "execution_count": 54,
   "metadata": {},
   "outputs": [
    {
     "data": {
      "text/plain": [
       "167"
      ]
     },
     "execution_count": 54,
     "metadata": {},
     "output_type": "execute_result"
    }
   ],
   "source": [
    "len(ids)"
   ]
  },
  {
   "cell_type": "code",
   "execution_count": 55,
   "metadata": {},
   "outputs": [],
   "source": [
    "X = X[~X.index.isin(ids)].fillna(0)\n",
    "y = y[~y.index.isin(ids)].fillna(0).astype('float64')"
   ]
  },
  {
   "cell_type": "code",
   "execution_count": 56,
   "metadata": {},
   "outputs": [],
   "source": [
    "for i in range(len(y)):\n",
    "    y[i] -= approx(pred_val, *parameters[y.index[i]])"
   ]
  },
  {
   "cell_type": "code",
   "execution_count": 57,
   "metadata": {},
   "outputs": [],
   "source": [
    "categorical = ['category', 'Month', 'Weekday', 'Hour', 'definition', 'link', 'caps']\n",
    "\n",
    "numeric_features = ['min', 'max', 'mean', 'duration', *X.columns[:pred_val - 1].to_list()]\n",
    "\n",
    "column_transformer = ColumnTransformer([\n",
    "    ('ohe', OneHotEncoder(sparse=False, handle_unknown=\"ignore\"), categorical),\n",
    "    ('scaling', StandardScaler(), numeric_features)\n",
    "])"
   ]
  },
  {
   "cell_type": "code",
   "execution_count": 58,
   "metadata": {},
   "outputs": [],
   "source": [
    "check = pd.concat([X, y], axis=1)"
   ]
  },
  {
   "cell_type": "code",
   "execution_count": 59,
   "metadata": {
    "scrolled": true
   },
   "outputs": [
    {
     "data": {
      "image/png": "[encoded data removed]",
      "text/plain": [
       "<Figure size 720x360 with 1 Axes>"
      ]
     },
     "metadata": {
      "needs_background": "light"
     },
     "output_type": "display_data"
    },
    {
     "data": {
      "image/png": "[encoded data removed]",
      "text/plain": [
       "<Figure size 720x360 with 1 Axes>"
      ]
     },
     "metadata": {
      "needs_background": "light"
     },
     "output_type": "display_data"
    },
    {
     "data": {
      "image/png": "[encoded data removed]",
      "text/plain": [
       "<Figure size 720x360 with 1 Axes>"
      ]
     },
     "metadata": {
      "needs_background": "light"
     },
     "output_type": "display_data"
    },
    {
     "data": {
      "image/png": "[encoded data removed]",
      "text/plain": [
       "<Figure size 720x360 with 1 Axes>"
      ]
     },
     "metadata": {
      "needs_background": "light"
     },
     "output_type": "display_data"
    },
    {
     "data": {
      "image/png": "[encoded data removed]",
      "text/plain": [
       "<Figure size 720x360 with 1 Axes>"
      ]
     },
     "metadata": {
      "needs_background": "light"
     },
     "output_type": "display_data"
    },
    {
     "data": {
      "image/png": "[encoded data removed]",
      "text/plain": [
       "<Figure size 720x360 with 1 Axes>"
      ]
     },
     "metadata": {
      "needs_background": "light"
     },
     "output_type": "display_data"
    },
    {
     "data": {
      "image/png": "[encoded data removed]",
      "text/plain": [
       "<Figure size 720x360 with 1 Axes>"
      ]
     },
     "metadata": {
      "needs_background": "light"
     },
     "output_type": "display_data"
    }
   ],
   "source": [
    "for cat in categorical:\n",
    "    plt.figure(figsize=(10, 5))\n",
    "    plt.title(cat)\n",
    "    plt.grid()\n",
    "    plt.bar(check[cat].unique(), check.groupby(cat).count()[f'day_{pred_val}'], alpha=0.5, color='blue', label='count')\n",
    "    plt.bar(check[cat].unique(), check.groupby(cat).mean()[f'day_{pred_val}'], alpha=0.5, color='green', label='mean')\n",
    "    plt.xticks(rotation=45)\n",
    "    plt.legend()\n",
    "    plt.show()"
   ]
  },
  {
   "cell_type": "code",
   "execution_count": 60,
   "metadata": {
    "id": "4PL1gAK4QgVx"
   },
   "outputs": [],
   "source": [
    "ans = pd.DataFrame(index=['DecisionTree', 'Ridge', 'Lasso', 'GradientBoosting', \n",
    "                          'Bagging', 'CatBoost', 'HuberRegressor', 'TheilSenRegressor'], \n",
    "                   columns=['MSE', 'R2', 'Time'])"
   ]
  },
  {
   "cell_type": "code",
   "execution_count": 61,
   "metadata": {
    "colab": {
     "base_uri": "https://localhost:8080/"
    },
    "id": "1EwA7OSNQgVy",
    "outputId": "a57181cc-8900-4e7f-daaa-08bec8d6ee6f"
   },
   "outputs": [],
   "source": [
    "def get_models(X_valid, y_valid):\n",
    "    models = []\n",
    "    max_depth = [3, 5, 7]\n",
    "    max_features = [int(np.sqrt(X_train.shape[1])), X_train.shape[1] // 2, X_train.shape[1] - 1]\n",
    "    alpha = np.logspace(-3, 0, 8, dtype='float')\n",
    "    n_estimators = [25, 50, 100]\n",
    "\n",
    "    print('Searching DecisionTreeRegressor...')\n",
    "    searcher = GridSearchCV(Pipeline(steps=[\n",
    "                            ('ohe_and_scaling', column_transformer),\n",
    "                            ('regression', DecisionTreeRegressor(random_state=21))]), \n",
    "                            [{\"regression__max_depth\": max_depth, \"regression__max_features\": max_features}], \n",
    "                            scoring='neg_mean_squared_error', cv=4)\n",
    "    searcher.fit(X_valid[[*numeric_features, *categorical]], y_valid)\n",
    "    models.append(Pipeline(steps=[\n",
    "                            ('ohe_and_scaling', column_transformer),\n",
    "                            ('regression', DecisionTreeRegressor(random_state=21, \n",
    "                                                                 max_depth=searcher.best_params_[\"regression__max_depth\"], \n",
    "                                                                 max_features=searcher.best_params_[\"regression__max_features\"]))]))\n",
    "    print('Finished!\\n')\n",
    "\n",
    "    print('Searching Ridge...')\n",
    "    searcher = GridSearchCV(Pipeline(steps=[\n",
    "                            ('ohe_and_scaling', column_transformer),\n",
    "                            ('regression', Ridge(random_state=21, solver='sag', max_iter=1000000))]), \n",
    "                            [{\"regression__alpha\" : alpha}], scoring='neg_mean_squared_error', cv=4)\n",
    "    searcher.fit(X_valid[[*numeric_features, *categorical]], y_valid)\n",
    "    models.append(Pipeline(steps=[\n",
    "                            ('ohe_and_scaling', column_transformer),\n",
    "                            ('regression', Ridge(random_state=21, solver='sag', max_iter=1000000, alpha=searcher.best_params_[\"regression__alpha\"]))]))\n",
    "    print('Finished!\\n')\n",
    "\n",
    "    print('Searching Lasso...')\n",
    "    searcher = GridSearchCV(Pipeline(steps=[\n",
    "                            ('ohe_and_scaling', column_transformer),\n",
    "                            ('regression', Lasso(random_state=21, max_iter=1000000))]), \n",
    "                            [{\"regression__alpha\" : np.logspace(-1, 0, 8, dtype='float')}], scoring='neg_mean_squared_error', cv=4)\n",
    "    searcher.fit(X_valid[[*numeric_features, *categorical]], y_valid)\n",
    "    models.append(Pipeline(steps=[\n",
    "                            ('ohe_and_scaling', column_transformer),\n",
    "                            ('regression', Lasso(random_state=21, max_iter=10000000, \n",
    "                                                 alpha=searcher.best_params_[\"regression__alpha\"]))]))\n",
    "    print('Finished!\\n')\n",
    "\n",
    "    print('Searching GradientBoostingRegressor...')\n",
    "    searcher = GridSearchCV(Pipeline(steps=[\n",
    "                            ('ohe_and_scaling', column_transformer),\n",
    "                            ('regression', GradientBoostingRegressor(max_features='sqrt', loss='huber', random_state=21))]), \n",
    "                            [{\"regression__n_estimators\": n_estimators, \"regression__max_depth\": max_depth, \n",
    "                              \"regression__alpha\": np.logspace(-4, -0.01, 8, dtype='float')}], \n",
    "                            scoring='neg_mean_squared_error', cv=4)\n",
    "    searcher.fit(X_valid[[*numeric_features, *categorical]], y_valid)\n",
    "    models.append(Pipeline(steps=[\n",
    "                            ('ohe_and_scaling', column_transformer),\n",
    "                            ('regression', GradientBoostingRegressor(warm_start=False, \n",
    "                                                                     alpha=searcher.best_params_[\"regression__alpha\"], \n",
    "                                                                     max_depth=searcher.best_params_[\"regression__max_depth\"], \n",
    "                                                                     n_estimators=searcher.best_params_[\"regression__n_estimators\"], \n",
    "                                                                     max_features='sqrt', random_state=21))]))\n",
    "    print('Finished!\\n')\n",
    "\n",
    "    print('Searching BaggingRegressor...')\n",
    "    searcher = GridSearchCV(Pipeline(steps=[\n",
    "                            ('ohe_and_scaling', column_transformer),\n",
    "                            ('regression', BaggingRegressor(random_state=21))]), \n",
    "                            [{\"regression__n_estimators\": n_estimators, \"regression__max_features\": max_features}], \n",
    "                            scoring='neg_mean_squared_error', cv=4)\n",
    "    searcher.fit(X_valid[[*numeric_features, *categorical]], y_valid)\n",
    "    models.append(Pipeline(steps=[\n",
    "                            ('ohe_and_scaling', column_transformer),\n",
    "                            ('regression', BaggingRegressor(random_state=21, \n",
    "                                                            n_estimators=searcher.best_params_[\"regression__n_estimators\"], \n",
    "                                                            max_features=searcher.best_params_[\"regression__max_features\"]))]))\n",
    "    print('Finished!\\n')\n",
    "\n",
    "    print('Searching CatBoostRegressor...')\n",
    "    models.append(Pipeline(steps=[\n",
    "                            ('ohe_and_scaling', column_transformer),\n",
    "                            ('regression', CatBoostRegressor(loss_function='RMSE', random_seed=21, logging_level='Silent'))]))\n",
    "    print('Finished!\\n')\n",
    "\n",
    "    print('Searching HuberRegressor...')\n",
    "    searcher = GridSearchCV(Pipeline(steps=[\n",
    "                            ('ohe_and_scaling', column_transformer),\n",
    "                            ('regression', HuberRegressor(max_iter=100000))]), \n",
    "                            [{\"regression__alpha\" : alpha}], scoring='neg_mean_squared_error', cv=4)\n",
    "    searcher.fit(X_valid[[*numeric_features, *categorical]], y_valid)\n",
    "    models.append(Pipeline(steps=[\n",
    "                            ('ohe_and_scaling', column_transformer),\n",
    "                            ('regression', HuberRegressor(max_iter=100000, alpha=searcher.best_params_[\"regression__alpha\"]))]))\n",
    "    print('Finished!\\n')\n",
    "    \n",
    "    print('Searching TheilSenRegressor...')\n",
    "    models.append(Pipeline(steps=[\n",
    "                            ('ohe_and_scaling', column_transformer),\n",
    "                            ('regression', TheilSenRegressor(random_state=21))]))\n",
    "    print('Finished!\\n')\n",
    "    return models"
   ]
  },
  {
   "cell_type": "code",
   "execution_count": 62,
   "metadata": {
    "id": "3w-utsw_QgV3"
   },
   "outputs": [],
   "source": [
    "def testing(model, X_train: pd.DataFrame, y_train: pd.Series, X_test: pd.DataFrame, y_test: pd.Series):\n",
    "\n",
    "    start = time.time()\n",
    "    model.fit(X_train[[*numeric_features, *categorical]], y_train)\n",
    "    fin = time.time() - start\n",
    "\n",
    "    test = y_test.copy()\n",
    "    y_pred = model.predict(X_test[[*numeric_features, *categorical]])\n",
    "    \n",
    "    for i in range(len(y_test)):\n",
    "        val = approx(pred_val, *parameters[X_test.index[i]])\n",
    "        test[i] += val\n",
    "        y_pred[i] += val\n",
    "\n",
    "    MSE = mean_squared_error(y_pred, test)\n",
    "    R2 = r2_score(test, y_pred)\n",
    "\n",
    "    return MSE, R2, fin, y_pred, test"
   ]
  },
  {
   "cell_type": "code",
   "execution_count": 63,
   "metadata": {
    "scrolled": true
   },
   "outputs": [
    {
     "name": "stdout",
     "output_type": "stream",
     "text": [
      "Batch size: 3468\n",
      "\n",
      "Batch 1\n",
      "Searching DecisionTreeRegressor...\n",
      "Finished!\n",
      "\n",
      "Searching Ridge...\n",
      "Finished!\n",
      "\n",
      "Searching Lasso...\n",
      "Finished!\n",
      "\n",
      "Searching GradientBoostingRegressor...\n",
      "Finished!\n",
      "\n",
      "Searching BaggingRegressor...\n",
      "Finished!\n",
      "\n",
      "Searching CatBoostRegressor...\n",
      "Finished!\n",
      "\n",
      "Searching HuberRegressor...\n",
      "Finished!\n",
      "\n",
      "Searching TheilSenRegressor...\n",
      "Finished!\n",
      "\n",
      "\n",
      "Batch 2\n",
      "Searching DecisionTreeRegressor...\n",
      "Finished!\n",
      "\n",
      "Searching Ridge...\n",
      "Finished!\n",
      "\n",
      "Searching Lasso...\n",
      "Finished!\n",
      "\n",
      "Searching GradientBoostingRegressor...\n",
      "Finished!\n",
      "\n",
      "Searching BaggingRegressor...\n",
      "Finished!\n",
      "\n",
      "Searching CatBoostRegressor...\n",
      "Finished!\n",
      "\n",
      "Searching HuberRegressor...\n",
      "Finished!\n",
      "\n",
      "Searching TheilSenRegressor...\n",
      "Finished!\n",
      "\n",
      "\n",
      "Batch 3\n",
      "Searching DecisionTreeRegressor...\n",
      "Finished!\n",
      "\n",
      "Searching Ridge...\n",
      "Finished!\n",
      "\n",
      "Searching Lasso...\n",
      "Finished!\n",
      "\n",
      "Searching GradientBoostingRegressor...\n",
      "Finished!\n",
      "\n",
      "Searching BaggingRegressor...\n",
      "Finished!\n",
      "\n",
      "Searching CatBoostRegressor...\n",
      "Finished!\n",
      "\n",
      "Searching HuberRegressor...\n",
      "Finished!\n",
      "\n",
      "Searching TheilSenRegressor...\n",
      "Finished!\n",
      "\n",
      "\n",
      "Batch 4\n",
      "Searching DecisionTreeRegressor...\n",
      "Finished!\n",
      "\n",
      "Searching Ridge...\n",
      "Finished!\n",
      "\n",
      "Searching Lasso...\n",
      "Finished!\n",
      "\n",
      "Searching GradientBoostingRegressor...\n",
      "Finished!\n",
      "\n",
      "Searching BaggingRegressor...\n",
      "Finished!\n",
      "\n",
      "Searching CatBoostRegressor...\n",
      "Finished!\n",
      "\n",
      "Searching HuberRegressor...\n",
      "Finished!\n",
      "\n",
      "Searching TheilSenRegressor...\n",
      "Finished!\n",
      "\n"
     ]
    }
   ],
   "source": [
    "batch = floor(X.shape[0] / 4)\n",
    "print('Batch size:', batch)\n",
    "\n",
    "data = dict(zip(['MSE', 'R2', 'Time', 'Pred', 'Act'] , [dict(), dict(), dict(), dict(), dict()]))\n",
    "\n",
    "for i in range(1, 5):\n",
    "    print(f'\\nBatch {i}')\n",
    "    \n",
    "    X_test = X[batch * (i - 1) : batch * i]\n",
    "    y_test = y[X_test.index]\n",
    "    X_valid = X.loc[np.random.choice(X.drop(index=X_test.index.tolist()).index, \n",
    "                                             batch, replace=False)]\n",
    "    y_valid = y[X_valid.index]\n",
    "    X_train = X.drop(index=[*X_test.index.to_list(), *X_valid.index.to_list()])\n",
    "    y_train = y[X_train.index]\n",
    "    \n",
    "    models_set = get_models(X_valid, y_valid)\n",
    "    \n",
    "    for j, model in enumerate(models_set):\n",
    "        curr_MSE, curr_R2, curr_fin, curr_pred, curr_test = testing(model, X_train, y_train, X_test, y_test)\n",
    "        try:\n",
    "            data['MSE'][ans.index.to_list()[j]].append(curr_MSE)\n",
    "            data['R2'][ans.index.to_list()[j]].append(curr_R2)\n",
    "            data['Time'][ans.index.to_list()[j]].append(curr_fin)\n",
    "            data['Pred'][ans.index.to_list()[j]].extend(curr_pred)\n",
    "            data['Act'][ans.index.to_list()[j]].extend(curr_test)\n",
    "        except KeyError:\n",
    "            data['MSE'][ans.index.to_list()[j]] = [curr_MSE]\n",
    "            data['R2'][ans.index.to_list()[j]] = [curr_R2]\n",
    "            data['Time'][ans.index.to_list()[j]] = [curr_fin]\n",
    "            data['Pred'][ans.index.to_list()[j]] = curr_pred.tolist()\n",
    "            data['Act'][ans.index.to_list()[j]] = curr_test.tolist()"
   ]
  },
  {
   "cell_type": "code",
   "execution_count": 595,
   "metadata": {},
   "outputs": [
    {
     "name": "stdout",
     "output_type": "stream",
     "text": [
      "Batch size: 3468\n",
      "\n",
      "Batch 1\n",
      "\n",
      "Batch 2\n",
      "\n",
      "Batch 3\n",
      "\n",
      "Batch 4\n"
     ]
    }
   ],
   "source": [
    "batch = floor(X.shape[0] / 4)\n",
    "print('Batch size:', batch)\n",
    "modelss = []\n",
    "\n",
    "fin_m = dict(zip(['MSE', 'R2', 'Time', 'Pred', 'Act'] , [[], [], [], [], []]))\n",
    "\n",
    "for i in range(1, 5):\n",
    "    print(f'\\nBatch {i}')\n",
    "    \n",
    "    X_test = X[batch * (i - 1) : batch * i]\n",
    "    y_test = y[X_test.index]\n",
    "    X_valid = X.loc[np.random.choice(X.drop(index=X_test.index.tolist()).index, \n",
    "                                             batch, replace=False)]\n",
    "    y_valid = y[X_valid.index]\n",
    "    X_train = X.drop(index=[*X_test.index.to_list(), *X_valid.index.to_list()])\n",
    "    y_train = y[X_train.index]\n",
    "    \n",
    "    models_set = Pipeline(steps=[('ohe_and_scaling', column_transformer),\n",
    "                                 ('regression', TheilSenRegressor(random_state=21))])\n",
    "    \n",
    "    modelss.append(models_set)\n",
    "    \n",
    "    curr_MSE, curr_R2, curr_fin, curr_pred, curr_test = testing(models_set, X_train, y_train, X_test, y_test)\n",
    "    try:\n",
    "        fin_m['MSE'].append(curr_MSE)\n",
    "        fin_m['R2'].append(curr_R2)\n",
    "        fin_m['Time'].append(curr_fin)\n",
    "        fin_m['Pred'].extend(curr_pred)\n",
    "        fin_m['Act'].extend(curr_test)\n",
    "    except KeyError:\n",
    "        fin_m['MSE'] = [curr_MSE]\n",
    "        fin_m['R2'] = [curr_R2]\n",
    "        fin_m['Time'] = [curr_fin]\n",
    "        fin_m['Pred'] = curr_pred.tolist()\n",
    "        fin_m['Act'] = curr_test.tolist()"
   ]
  },
  {
   "cell_type": "code",
   "execution_count": 649,
   "metadata": {},
   "outputs": [],
   "source": [
    "weights = []\n",
    "names = modelss[0][0].get_feature_names_out()\n",
    "\n",
    "for m in modelss:\n",
    "    weights.append(m[1].coef_)"
   ]
  },
  {
   "cell_type": "code",
   "execution_count": 650,
   "metadata": {},
   "outputs": [],
   "source": [
    "weights = np.mean(weights, axis=0)"
   ]
  },
  {
   "cell_type": "code",
   "execution_count": 677,
   "metadata": {},
   "outputs": [
    {
     "data": {
      "image/png": "[encoded data removed]",
      "text/plain": [
       "<Figure size 864x864 with 1 Axes>"
      ]
     },
     "metadata": {
      "needs_background": "light"
     },
     "output_type": "display_data"
    }
   ],
   "source": [
    "result = dict(zip(names, weights))\n",
    "sorted_result = {k: v for k, v in sorted(result.items(), key=lambda item: -item[1]) if abs(v) > 100}\n",
    "pic = sns.barplot(y=list(sorted_result.keys()), x=list(sorted_result.values()))\n",
    "pic.figure.set_size_inches(12, 12)\n",
    "plt.grid()\n",
    "plt.show()"
   ]
  },
  {
   "cell_type": "markdown",
   "metadata": {},
   "source": [
    "### Result in prediction the 40th day"
   ]
  },
  {
   "cell_type": "code",
   "execution_count": 558,
   "metadata": {},
   "outputs": [],
   "source": [
    "data_45 = data.copy()"
   ]
  },
  {
   "cell_type": "code",
   "execution_count": 556,
   "metadata": {},
   "outputs": [
    {
     "name": "stdout",
     "output_type": "stream",
     "text": [
      "DecisionTree \n",
      "\tRMSE 19216.31228249319 \n",
      "\tR2 0.5163272999549791 \n",
      "\tTime 1.128746747970581\n",
      "Ridge \n",
      "\tRMSE 6520.44323860752 \n",
      "\tR2 0.9443114747601459 \n",
      "\tTime 26.325048446655273\n",
      "Lasso \n",
      "\tRMSE 7273.43757268923 \n",
      "\tR2 0.9307067532233253 \n",
      "\tTime 7.961267471313477\n",
      "GradientBoosting \n",
      "\tRMSE 18935.4511165461 \n",
      "\tR2 0.5303624735992941 \n",
      "\tTime 14.756948471069336\n",
      "Bagging \n",
      "\tRMSE 21938.4600205327 \n",
      "\tR2 0.3695890367016149 \n",
      "\tTime 194.0284481048584\n",
      "CatBoost \n",
      "\tRMSE 23593.35960962182 \n",
      "\tR2 0.2708933587779534 \n",
      "\tTime 69.75040459632874\n",
      "HuberRegressor \n",
      "\tRMSE 6026.998917360511 \n",
      "\tR2 0.9524211756635472 \n",
      "\tTime 47.86155962944031\n",
      "TheilSenRegressor \n",
      "\tRMSE 5745.542574301691 \n",
      "\tR2 0.956761205847718 \n",
      "\tTime 1065.4884374141693\n"
     ]
    }
   ],
   "source": [
    "for m in ans.index.to_list():\n",
    "    \n",
    "    print(m, '\\n\\tRMSE', mean_squared_error(data['Act'][m], data['Pred'][m], squared=False), \n",
    "          '\\n\\tR2', r2_score(data['Act'][m], data['Pred'][m]),\n",
    "         '\\n\\tTime', np.sum(data['Time'][m])) "
   ]
  },
  {
   "cell_type": "code",
   "execution_count": 557,
   "metadata": {},
   "outputs": [
    {
     "name": "stdout",
     "output_type": "stream",
     "text": [
      "0\n",
      "RMSE 5745.542574301691\n",
      "R2 0.956761205847718\n",
      "\n",
      "1\n",
      "RMSE 5850.325946532291\n",
      "R2 0.9551697040509703\n",
      "\n",
      "2\n",
      "RMSE 5949.482799720312\n",
      "R2 0.9536371733497956\n",
      "\n",
      "3\n",
      "RMSE 5964.423884453197\n",
      "R2 0.9534040167020992\n",
      "\n",
      "4\n",
      "RMSE 6446.70121681402\n",
      "R2 0.9455639549604218\n",
      "\n",
      "5\n",
      "RMSE 7835.49224448594\n",
      "R2 0.9195837069111896\n",
      "\n"
     ]
    }
   ],
   "source": [
    "best_preds = [data['Pred']['TheilSenRegressor'], data['Pred']['HuberRegressor'], \n",
    "              data['Pred']['Ridge'], data['Pred']['Lasso'], data['Pred']['GradientBoosting'], \n",
    "              data['Pred']['DecisionTree']]\n",
    "i = 0\n",
    "while i < 6:\n",
    "    print(i)\n",
    "    j = i\n",
    "    curr_preds = []\n",
    "    while j >= 0:\n",
    "        curr_preds.append(best_preds[j])\n",
    "        j -=1\n",
    "    curr_pred = np.mean(curr_preds, axis=0)\n",
    "    print('RMSE', mean_squared_error(curr_pred, data['Act'][ans.index.to_list()[j]], squared=False))\n",
    "    print('R2', r2_score(data['Act'][ans.index.to_list()[j]], curr_pred))\n",
    "    print()\n",
    "    i += 1"
   ]
  },
  {
   "cell_type": "markdown",
   "metadata": {},
   "source": [
    "### Result in prediction the 35th day"
   ]
  },
  {
   "cell_type": "code",
   "execution_count": 512,
   "metadata": {},
   "outputs": [],
   "source": [
    "data_35 = data.copy()"
   ]
  },
  {
   "cell_type": "code",
   "execution_count": 64,
   "metadata": {},
   "outputs": [
    {
     "name": "stdout",
     "output_type": "stream",
     "text": [
      "DecisionTree \n",
      "\tRMSE 32763.36290117675 \n",
      "\tR2 -0.11452260462669073 \n",
      "\tTime 0.773371696472168\n",
      "Ridge \n",
      "\tRMSE 19767.23804377051 \n",
      "\tR2 0.5943010150693472 \n",
      "\tTime 21.096137285232544\n",
      "Lasso \n",
      "\tRMSE 20733.275560460865 \n",
      "\tR2 0.5536785325727149 \n",
      "\tTime 6.546802997589111\n",
      "GradientBoosting \n",
      "\tRMSE 31541.976973055745 \n",
      "\tR2 -0.03297487268115429 \n",
      "\tTime 8.5028657913208\n",
      "Bagging \n",
      "\tRMSE 30466.08997315335 \n",
      "\tR2 0.036292192847314 \n",
      "\tTime 34.799349546432495\n",
      "CatBoost \n",
      "\tRMSE 33133.34106321012 \n",
      "\tR2 -0.1398360767776674 \n",
      "\tTime 47.04004430770874\n",
      "HuberRegressor \n",
      "\tRMSE 17035.264542126777 \n",
      "\tR2 0.6986926672704447 \n",
      "\tTime 27.369866847991943\n",
      "TheilSenRegressor \n",
      "\tRMSE 16414.05566092221 \n",
      "\tR2 0.7202669759717022 \n",
      "\tTime 373.0604615211487\n"
     ]
    }
   ],
   "source": [
    "for m in ans.index.to_list():\n",
    "    \n",
    "    print(m, '\\n\\tRMSE', mean_squared_error(data['Act'][m], data['Pred'][m], squared=False), \n",
    "          '\\n\\tR2', r2_score(data['Act'][m], data['Pred'][m]),\n",
    "         '\\n\\tTime', np.sum(data['Time'][m])) "
   ]
  },
  {
   "cell_type": "code",
   "execution_count": 65,
   "metadata": {},
   "outputs": [
    {
     "name": "stdout",
     "output_type": "stream",
     "text": [
      "0\n",
      "RMSE 16414.05566092221\n",
      "R2 0.7202669759717022\n",
      "\n",
      "1\n",
      "RMSE 16706.748733885797\n",
      "R2 0.7102017099701339\n",
      "\n",
      "2\n",
      "RMSE 16964.057707981716\n",
      "R2 0.70120631187281\n",
      "\n",
      "3\n",
      "RMSE 16686.654944251284\n",
      "R2 0.7108983917864031\n",
      "\n"
     ]
    }
   ],
   "source": [
    "best_preds = [data['Pred']['TheilSenRegressor'], data['Pred']['HuberRegressor'], \n",
    "              data['Pred']['Ridge'], data['Pred']['Lasso']]\n",
    "i = 0\n",
    "while i < 4:\n",
    "    print(i)\n",
    "    j = i\n",
    "    curr_preds = []\n",
    "    while j >= 0:\n",
    "        curr_preds.append(best_preds[j])\n",
    "        j -=1\n",
    "    curr_pred = np.mean(curr_preds, axis=0)\n",
    "    print('RMSE', mean_squared_error(curr_pred, data['Act'][ans.index.to_list()[j]], squared=False))\n",
    "    print('R2', r2_score(data['Act'][ans.index.to_list()[j]], curr_pred))\n",
    "    print()\n",
    "    i += 1"
   ]
  },
  {
   "cell_type": "markdown",
   "metadata": {},
   "source": [
    "### Result in prediction the 28th day"
   ]
  },
  {
   "cell_type": "code",
   "execution_count": 490,
   "metadata": {},
   "outputs": [],
   "source": [
    "data_28 = data.copy()"
   ]
  },
  {
   "cell_type": "code",
   "execution_count": 491,
   "metadata": {},
   "outputs": [
    {
     "name": "stdout",
     "output_type": "stream",
     "text": [
      "DecisionTree \n",
      "\tRMSE 42151.302980888664 \n",
      "\tR2 -0.40685194659662227 \n",
      "\tTime 0.5509624481201172\n",
      "Ridge \n",
      "\tRMSE 27702.76712330423 \n",
      "\tR2 0.3923231523219054 \n",
      "\tTime 13.15146279335022\n",
      "Lasso \n",
      "\tRMSE 28968.972738427907 \n",
      "\tR2 0.3355036835807005 \n",
      "\tTime 4.232319355010986\n",
      "GradientBoosting \n",
      "\tRMSE 39603.62010342342 \n",
      "\tR2 -0.24192725895164546 \n",
      "\tTime 5.3455891609191895\n",
      "Bagging \n",
      "\tRMSE 41397.433387711855 \n",
      "\tR2 -0.35697929028648545 \n",
      "\tTime 25.088011741638184\n",
      "CatBoost \n",
      "\tRMSE 42951.82767869704 \n",
      "\tR2 -0.46079638294447434 \n",
      "\tTime 41.07464599609375\n",
      "HuberRegressor \n",
      "\tRMSE 29758.145536516997 \n",
      "\tR2 0.2988061238942271 \n",
      "\tTime 25.989314556121826\n",
      "TheilSenRegressor \n",
      "\tRMSE 27555.018174363006 \n",
      "\tR2 0.39878779109082496 \n",
      "\tTime 185.64625644683838\n"
     ]
    }
   ],
   "source": [
    "for m in ans.index.to_list():\n",
    "    \n",
    "    print(m, '\\n\\tRMSE', mean_squared_error(data['Act'][m], data['Pred'][m], squared=False), \n",
    "          '\\n\\tR2', r2_score(data['Act'][m], data['Pred'][m]),\n",
    "         '\\n\\tTime', np.sum(data['Time'][m])) "
   ]
  },
  {
   "cell_type": "markdown",
   "metadata": {},
   "source": [
    "### Result in prediction the 22th day"
   ]
  },
  {
   "cell_type": "code",
   "execution_count": 466,
   "metadata": {},
   "outputs": [],
   "source": [
    "data_22 = data.copy()"
   ]
  },
  {
   "cell_type": "code",
   "execution_count": 467,
   "metadata": {},
   "outputs": [
    {
     "name": "stdout",
     "output_type": "stream",
     "text": [
      "DecisionTree \n",
      "\tRMSE 219988.84048681852 \n",
      "\tR2 -46.97611220207177 \n",
      "\tTime 0.8042891025543213\n",
      "Ridge \n",
      "\tRMSE 165024.7714956716 \n",
      "\tR2 -25.997405542860637 \n",
      "\tTime 21.52917981147766\n",
      "Lasso \n",
      "\tRMSE 177032.1304112648 \n",
      "\tR2 -30.069047683460788 \n",
      "\tTime 7.175753116607666\n",
      "GradientBoosting \n",
      "\tRMSE 175938.0567900598 \n",
      "\tR2 -29.68621560386573 \n",
      "\tTime 6.9862494468688965\n",
      "Bagging \n",
      "\tRMSE 158608.1104414428 \n",
      "\tR2 -23.938741447796684 \n",
      "\tTime 44.753650188446045\n",
      "CatBoost \n",
      "\tRMSE 154738.93598417894 \n",
      "\tR2 -22.736843294918902 \n",
      "\tTime 47.22268772125244\n",
      "HuberRegressor \n",
      "\tRMSE 150317.92530093872 \n",
      "\tR2 -21.399859596277608 \n",
      "\tTime 28.19179630279541\n",
      "TheilSenRegressor \n",
      "\tRMSE 149584.93627836937 \n",
      "\tR2 -21.18193721770392 \n",
      "\tTime 152.27956891059875\n"
     ]
    }
   ],
   "source": [
    "for m in ans.index.to_list():\n",
    "    \n",
    "    print(m, '\\n\\tRMSE', mean_squared_error(data['Act'][m], data['Pred'][m], squared=False), \n",
    "          '\\n\\tR2', r2_score(data['Act'][m], data['Pred'][m]),\n",
    "         '\\n\\tTime', np.sum(data['Time'][m])) "
   ]
  },
  {
   "cell_type": "markdown",
   "metadata": {},
   "source": [
    "### Result in prediction the 15th day"
   ]
  },
  {
   "cell_type": "code",
   "execution_count": 443,
   "metadata": {},
   "outputs": [],
   "source": [
    "data_15 = data.copy()"
   ]
  },
  {
   "cell_type": "code",
   "execution_count": 444,
   "metadata": {},
   "outputs": [
    {
     "name": "stdout",
     "output_type": "stream",
     "text": [
      "DecisionTree \n",
      "\tRMSE 67057.51388849066 \n",
      "\tR2 -2.9945654516038416 \n",
      "\tTime 0.41370081901550293\n",
      "Ridge \n",
      "\tRMSE 48688.098938452764 \n",
      "\tR2 -1.1058153165210642 \n",
      "\tTime 8.961934328079224\n",
      "Lasso \n",
      "\tRMSE 48955.81620696035 \n",
      "\tR2 -1.1290371344167518 \n",
      "\tTime 4.211616277694702\n",
      "GradientBoosting \n",
      "\tRMSE 50925.31678641426 \n",
      "\tR2 -1.3037859408474723 \n",
      "\tTime 3.643986225128174\n",
      "Bagging \n",
      "\tRMSE 65787.86254798187 \n",
      "\tR2 -2.8447331108204974 \n",
      "\tTime 46.3728232383728\n",
      "CatBoost \n",
      "\tRMSE 69196.05516240057 \n",
      "\tR2 -3.2534106831191716 \n",
      "\tTime 39.745725870132446\n",
      "HuberRegressor \n",
      "\tRMSE 48949.058352716755 \n",
      "\tR2 -1.1284493909897755 \n",
      "\tTime 8.94518518447876\n",
      "TheilSenRegressor \n",
      "\tRMSE 48181.56876374886 \n",
      "\tR2 -1.062227232734505 \n",
      "\tTime 126.34619808197021\n"
     ]
    }
   ],
   "source": [
    "for m in ans.index.to_list():\n",
    "    \n",
    "    print(m, '\\n\\tRMSE', mean_squared_error(data['Act'][m], data['Pred'][m], squared=False), \n",
    "          '\\n\\tR2', r2_score(data['Act'][m], data['Pred'][m]),\n",
    "         '\\n\\tTime', np.sum(data['Time'][m])) "
   ]
  },
  {
   "cell_type": "code",
   "execution_count": 445,
   "metadata": {},
   "outputs": [
    {
     "name": "stdout",
     "output_type": "stream",
     "text": [
      "0\n",
      "RMSE 48181.56876374886\n",
      "R2 -1.062227232734505\n",
      "\n",
      "1\n",
      "RMSE 48264.5658960311\n",
      "R2 -1.0693380997838426\n",
      "\n",
      "2\n",
      "RMSE 48337.193997903414\n",
      "R2 -1.0755706297839702\n",
      "\n",
      "3\n",
      "RMSE 48509.39925880853\n",
      "R2 -1.0903857577983964\n",
      "\n",
      "4\n",
      "RMSE 48509.05470135639\n",
      "R2 -1.0903560622984014\n",
      "\n",
      "5\n",
      "RMSE 49304.051758662914\n",
      "R2 -1.1594336587867722\n",
      "\n"
     ]
    }
   ],
   "source": [
    "best_preds = [data['Pred']['TheilSenRegressor'], data['Pred']['Ridge'], \n",
    "              data['Pred']['HuberRegressor'], data['Pred']['GradientBoosting'], data['Pred']['Lasso'], \n",
    "              data['Pred']['DecisionTree']]\n",
    "i = 0\n",
    "while i < 6:\n",
    "    print(i)\n",
    "    j = i\n",
    "    curr_preds = []\n",
    "    while j >= 0:\n",
    "        curr_preds.append(best_preds[j])\n",
    "        j -=1\n",
    "    curr_pred = np.mean(curr_preds, axis=0)\n",
    "    print('RMSE', mean_squared_error(curr_pred, data['Act'][ans.index.to_list()[j]], squared=False))\n",
    "    print('R2', r2_score(data['Act'][ans.index.to_list()[j]], curr_pred))\n",
    "    print()\n",
    "    i += 1"
   ]
  },
  {
   "cell_type": "markdown",
   "metadata": {},
   "source": [
    "### Result in prediction the 119th day"
   ]
  },
  {
   "cell_type": "code",
   "execution_count": null,
   "metadata": {},
   "outputs": [],
   "source": [
    "data_119 = data.copy()"
   ]
  },
  {
   "cell_type": "code",
   "execution_count": 357,
   "metadata": {},
   "outputs": [
    {
     "name": "stdout",
     "output_type": "stream",
     "text": [
      "DecisionTree \n",
      "\tRMSE 10372.426997578259 \n",
      "\tR2 0.9069766183378969 \n",
      "\tTime 2.039752244949341\n",
      "Ridge \n",
      "\tRMSE 3114.600033288399 \n",
      "\tR2 0.991612434642174 \n",
      "\tTime 30.96923589706421\n",
      "Lasso \n",
      "\tRMSE 5769.248438543536 \n",
      "\tR2 0.9712213888010659 \n",
      "\tTime 16.235744953155518\n",
      "GradientBoosting \n",
      "\tRMSE 5720.416391532189 \n",
      "\tR2 0.9717065026125484 \n",
      "\tTime 14.103245973587036\n",
      "Bagging \n",
      "\tRMSE 12026.15088682966 \n",
      "\tR2 0.8749497263637522 \n",
      "\tTime 262.86948561668396\n",
      "CatBoost \n",
      "\tRMSE 15384.537937443132 \n",
      "\tR2 0.7953554120819496 \n",
      "\tTime 103.57903742790222\n",
      "HuberRegressor \n",
      "\tRMSE 3573.3055777811596 \n",
      "\tR2 0.9889599341435695 \n",
      "\tTime 52.179250955581665\n",
      "TheilSenRegressor \n",
      "\tRMSE 2613.196577401734 \n",
      "\tR2 0.9940956035435824 \n",
      "\tTime 3965.5662117004395\n"
     ]
    }
   ],
   "source": [
    "for m in ans.index.to_list():\n",
    "    \n",
    "    print(m, '\\n\\tRMSE', mean_squared_error(data['Act'][m], data['Pred'][m], squared=False), \n",
    "          '\\n\\tR2', r2_score(data['Act'][m], data['Pred'][m]),\n",
    "         '\\n\\tTime', np.sum(data['Time'][m])) "
   ]
  },
  {
   "cell_type": "code",
   "execution_count": 367,
   "metadata": {
    "colab": {
     "base_uri": "https://localhost:8080/"
    },
    "id": "rYtAc1jG2C6u",
    "outputId": "306623c7-f2a7-46ae-908b-d3d8ee8ab889"
   },
   "outputs": [
    {
     "name": "stdout",
     "output_type": "stream",
     "text": [
      "0\n",
      "RMSE 2613.196577401734\n",
      "R2 0.9940956035435824\n",
      "\n",
      "1\n",
      "RMSE 2611.6068472495226\n",
      "R2 0.9941027852015301\n",
      "\n",
      "2\n",
      "RMSE 2838.2225786848185\n",
      "R2 0.9930349498021536\n",
      "\n",
      "3\n",
      "RMSE 3150.256896791411\n",
      "R2 0.9914192886746063\n",
      "\n",
      "4\n",
      "RMSE 3530.703687789744\n",
      "R2 0.9892216100488443\n",
      "\n",
      "5\n",
      "RMSE 3711.6733234520225\n",
      "R2 0.9880883797166738\n",
      "\n"
     ]
    }
   ],
   "source": [
    "best_preds = [data['Pred']['TheilSenRegressor'], data['Pred']['Ridge'], \n",
    "              data['Pred']['HuberRegressor'], data['Pred']['GradientBoosting'], data['Pred']['Lasso'], \n",
    "              data['Pred']['DecisionTree']]\n",
    "i = 0\n",
    "while i < 6:\n",
    "    print(i)\n",
    "    j = i\n",
    "    curr_preds = []\n",
    "    while j >= 0:\n",
    "        curr_preds.append(best_preds[j])\n",
    "        j -=1\n",
    "    curr_pred = np.mean(curr_preds, axis=0)\n",
    "    print('RMSE', mean_squared_error(curr_pred, data['Act'][ans.index.to_list()[j]], squared=False))\n",
    "    print('R2', r2_score(data['Act'][ans.index.to_list()[j]], curr_pred))\n",
    "    print()\n",
    "    i += 1"
   ]
  }
 ],
 "metadata": {
  "accelerator": "GPU",
  "colab": {
   "collapsed_sections": [],
   "name": "TimeSeries experiments.ipynb",
   "provenance": []
  },
  "kernelspec": {
   "display_name": "Python 3",
   "language": "python",
   "name": "python3"
  },
  "language_info": {
   "codemirror_mode": {
    "name": "ipython",
    "version": 3
   },
   "file_extension": ".py",
   "mimetype": "text/x-python",
   "name": "python",
   "nbconvert_exporter": "python",
   "pygments_lexer": "ipython3",
   "version": "3.7.6"
  }
 },
 "nbformat": 4,
 "nbformat_minor": 1
}
